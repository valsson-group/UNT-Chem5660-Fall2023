{
  "nbformat": 4,
  "nbformat_minor": 0,
  "metadata": {
    "colab": {
      "provenance": [],
      "collapsed_sections": [
        "_jR3EjKnMkh8"
      ],
      "include_colab_link": true
    },
    "kernelspec": {
      "name": "python3",
      "display_name": "Python 3"
    },
    "language_info": {
      "name": "python"
    }
  },
  "cells": [
    {
      "cell_type": "markdown",
      "metadata": {
        "id": "view-in-github",
        "colab_type": "text"
      },
      "source": [
        "<a href=\"https://colab.research.google.com/github/valsson-group/UNT-Chem5660-Fall2023/blob/main/Python-JupyterNotebooks/Assignment4_Create_Reactant_from_InChI.ipynb\" target=\"_parent\"><img src=\"https://colab.research.google.com/assets/colab-badge.svg\" alt=\"Open In Colab\"/></a>"
      ]
    },
    {
      "cell_type": "markdown",
      "source": [
        "# SMILES and InChl Molecular Representations\n",
        "\n"
      ],
      "metadata": {
        "id": "RIPXBsdlgm0j"
      }
    },
    {
      "cell_type": "markdown",
      "source": [
        "# Imports and Function Definitions"
      ],
      "metadata": {
        "id": "_jR3EjKnMkh8"
      }
    },
    {
      "cell_type": "code",
      "execution_count": 1,
      "metadata": {
        "id": "e8QZ9jJ1BcgK"
      },
      "outputs": [],
      "source": [
        "%%capture\n",
        "!pip install rdkit\n",
        "!pip install py3Dmol\n",
        "!pip install ipywidgets"
      ]
    },
    {
      "cell_type": "code",
      "source": [
        "# RDKit imports:\n",
        "from rdkit import Chem\n",
        "from rdkit.Chem import (\n",
        "    AllChem,\n",
        "    rdCoordGen,\n",
        ")\n",
        "from rdkit.Chem.Draw import IPythonConsole\n",
        "\n",
        "IPythonConsole.ipython_useSVG = True\n",
        "\n",
        "import py3Dmol"
      ],
      "metadata": {
        "id": "Aqqt3FznBur1"
      },
      "execution_count": 2,
      "outputs": []
    },
    {
      "cell_type": "code",
      "source": [
        "def get_xyz(molecule, optimize=False):\n",
        "    \"\"\"Get xyz-coordinates for the molecule\"\"\"\n",
        "    mol = Chem.Mol(molecule)\n",
        "    mol = AllChem.AddHs(mol, addCoords=True)\n",
        "    AllChem.EmbedMolecule(mol)\n",
        "    if optimize:  # Optimize the molecules with the MM force field:\n",
        "        AllChem.MMFFOptimizeMolecule(mol)\n",
        "    xyz = []\n",
        "    for lines in Chem.MolToXYZBlock(mol).split(\"\\n\")[2:]:\n",
        "        strip = lines.strip()\n",
        "        if strip:\n",
        "            xyz.append(strip)\n",
        "    xyz = \"\\n\".join(xyz)\n",
        "    return mol, xyz"
      ],
      "metadata": {
        "id": "l6qnmU6QCjMZ"
      },
      "execution_count": 3,
      "outputs": []
    },
    {
      "cell_type": "markdown",
      "source": [
        "# Molecule from SMILES String"
      ],
      "metadata": {
        "id": "5NYe7vLLM2cO"
      }
    },
    {
      "cell_type": "markdown",
      "source": [
        "### Define SMILES String for Molecule\n",
        "\n"
      ],
      "metadata": {
        "id": "ctJdKmrBNPyl"
      }
    },
    {
      "cell_type": "code",
      "source": [
        "molecule_smiles = \"C(=CC#N)C#N\"\n"
      ],
      "metadata": {
        "id": "W5A8iNv9C3I8"
      },
      "execution_count": 22,
      "outputs": []
    },
    {
      "cell_type": "markdown",
      "source": [
        "## Do All Calculations"
      ],
      "metadata": {
        "id": "U3gKDuqPPxpo"
      }
    },
    {
      "cell_type": "code",
      "source": [
        "molecule = Chem.MolFromSmiles(molecule_smiles)\n",
        "molecule"
      ],
      "metadata": {
        "colab": {
          "base_uri": "https://localhost:8080/",
          "height": 171
        },
        "id": "GkFYAMAbPw2H",
        "outputId": "0638e63c-b162-49d3-d28f-4143dce91ac7"
      },
      "execution_count": 23,
      "outputs": [
        {
          "output_type": "execute_result",
          "data": {
            "text/plain": [
              "<rdkit.Chem.rdchem.Mol at 0x79b0a0084d60>"
            ],
            "text/html": [
              "<?xml version='1.0' encoding='iso-8859-1'?>\n",
              "<svg version='1.1' baseProfile='full'\n",
              "              xmlns='http://www.w3.org/2000/svg'\n",
              "                      xmlns:rdkit='http://www.rdkit.org/xml'\n",
              "                      xmlns:xlink='http://www.w3.org/1999/xlink'\n",
              "                  xml:space='preserve'\n",
              "width='450px' height='150px' viewBox='0 0 450 150'>\n",
              "<!-- END OF HEADER -->\n",
              "<rect style='opacity:1.0;fill:#FFFFFF;stroke:none' width='450.0' height='150.0' x='0.0' y='0.0'> </rect>\n",
              "<path class='bond-0 atom-0 atom-1' d='M 254.6,39.8 L 195.4,101.3' style='fill:none;fill-rule:evenodd;stroke:#000000;stroke-width:2.0px;stroke-linecap:butt;stroke-linejoin:miter;stroke-opacity:1' />\n",
              "<path class='bond-0 atom-0 atom-1' d='M 258.7,54.0 L 204.6,110.2' style='fill:none;fill-rule:evenodd;stroke:#000000;stroke-width:2.0px;stroke-linecap:butt;stroke-linejoin:miter;stroke-opacity:1' />\n",
              "<path class='bond-1 atom-1 atom-2' d='M 195.4,101.3 L 112.5,80.7' style='fill:none;fill-rule:evenodd;stroke:#000000;stroke-width:2.0px;stroke-linecap:butt;stroke-linejoin:miter;stroke-opacity:1' />\n",
              "<path class='bond-2 atom-2 atom-3' d='M 112.5,80.7 L 77.1,71.9' style='fill:none;fill-rule:evenodd;stroke:#000000;stroke-width:2.0px;stroke-linecap:butt;stroke-linejoin:miter;stroke-opacity:1' />\n",
              "<path class='bond-2 atom-2 atom-3' d='M 77.1,71.9 L 41.6,63.0' style='fill:none;fill-rule:evenodd;stroke:#0000FF;stroke-width:2.0px;stroke-linecap:butt;stroke-linejoin:miter;stroke-opacity:1' />\n",
              "<path class='bond-2 atom-2 atom-3' d='M 109.4,93.1 L 74.0,84.3' style='fill:none;fill-rule:evenodd;stroke:#000000;stroke-width:2.0px;stroke-linecap:butt;stroke-linejoin:miter;stroke-opacity:1' />\n",
              "<path class='bond-2 atom-2 atom-3' d='M 74.0,84.3 L 38.5,75.5' style='fill:none;fill-rule:evenodd;stroke:#0000FF;stroke-width:2.0px;stroke-linecap:butt;stroke-linejoin:miter;stroke-opacity:1' />\n",
              "<path class='bond-2 atom-2 atom-3' d='M 115.6,68.2 L 80.1,59.4' style='fill:none;fill-rule:evenodd;stroke:#000000;stroke-width:2.0px;stroke-linecap:butt;stroke-linejoin:miter;stroke-opacity:1' />\n",
              "<path class='bond-2 atom-2 atom-3' d='M 80.1,59.4 L 44.7,50.6' style='fill:none;fill-rule:evenodd;stroke:#0000FF;stroke-width:2.0px;stroke-linecap:butt;stroke-linejoin:miter;stroke-opacity:1' />\n",
              "<path class='bond-3 atom-0 atom-4' d='M 254.6,39.8 L 337.5,60.4' style='fill:none;fill-rule:evenodd;stroke:#000000;stroke-width:2.0px;stroke-linecap:butt;stroke-linejoin:miter;stroke-opacity:1' />\n",
              "<path class='bond-4 atom-4 atom-5' d='M 337.5,60.4 L 372.9,69.2' style='fill:none;fill-rule:evenodd;stroke:#000000;stroke-width:2.0px;stroke-linecap:butt;stroke-linejoin:miter;stroke-opacity:1' />\n",
              "<path class='bond-4 atom-4 atom-5' d='M 372.9,69.2 L 408.4,78.1' style='fill:none;fill-rule:evenodd;stroke:#0000FF;stroke-width:2.0px;stroke-linecap:butt;stroke-linejoin:miter;stroke-opacity:1' />\n",
              "<path class='bond-4 atom-4 atom-5' d='M 340.6,48.0 L 376.0,56.8' style='fill:none;fill-rule:evenodd;stroke:#000000;stroke-width:2.0px;stroke-linecap:butt;stroke-linejoin:miter;stroke-opacity:1' />\n",
              "<path class='bond-4 atom-4 atom-5' d='M 376.0,56.8 L 411.5,65.6' style='fill:none;fill-rule:evenodd;stroke:#0000FF;stroke-width:2.0px;stroke-linecap:butt;stroke-linejoin:miter;stroke-opacity:1' />\n",
              "<path class='bond-4 atom-4 atom-5' d='M 334.4,72.9 L 369.9,81.7' style='fill:none;fill-rule:evenodd;stroke:#000000;stroke-width:2.0px;stroke-linecap:butt;stroke-linejoin:miter;stroke-opacity:1' />\n",
              "<path class='bond-4 atom-4 atom-5' d='M 369.9,81.7 L 405.3,90.5' style='fill:none;fill-rule:evenodd;stroke:#0000FF;stroke-width:2.0px;stroke-linecap:butt;stroke-linejoin:miter;stroke-opacity:1' />\n",
              "<path d='M 251.7,42.9 L 254.6,39.8 L 258.8,40.9' style='fill:none;stroke:#000000;stroke-width:2.0px;stroke-linecap:butt;stroke-linejoin:miter;stroke-opacity:1;' />\n",
              "<path d='M 198.3,98.2 L 195.4,101.3 L 191.2,100.3' style='fill:none;stroke:#000000;stroke-width:2.0px;stroke-linecap:butt;stroke-linejoin:miter;stroke-opacity:1;' />\n",
              "<path d='M 116.6,81.7 L 112.5,80.7 L 110.7,80.2' style='fill:none;stroke:#000000;stroke-width:2.0px;stroke-linecap:butt;stroke-linejoin:miter;stroke-opacity:1;' />\n",
              "<path d='M 333.4,59.4 L 337.5,60.4 L 339.3,60.9' style='fill:none;stroke:#000000;stroke-width:2.0px;stroke-linecap:butt;stroke-linejoin:miter;stroke-opacity:1;' />\n",
              "<path class='atom-3' d='M 24.3 48.0\n",
              "L 32.2 60.8\n",
              "Q 33.0 62.0, 34.3 64.3\n",
              "Q 35.5 66.6, 35.6 66.8\n",
              "L 35.6 48.0\n",
              "L 38.8 48.0\n",
              "L 38.8 72.2\n",
              "L 35.5 72.2\n",
              "L 27.0 58.2\n",
              "Q 26.0 56.5, 24.9 54.6\n",
              "Q 23.9 52.8, 23.6 52.2\n",
              "L 23.6 72.2\n",
              "L 20.5 72.2\n",
              "L 20.5 48.0\n",
              "L 24.3 48.0\n",
              "' fill='#0000FF'/>\n",
              "<path class='atom-5' d='M 415.0 69.0\n",
              "L 423.0 81.8\n",
              "Q 423.7 83.0, 425.0 85.3\n",
              "Q 426.3 87.6, 426.3 87.7\n",
              "L 426.3 69.0\n",
              "L 429.5 69.0\n",
              "L 429.5 93.1\n",
              "L 426.2 93.1\n",
              "L 417.7 79.1\n",
              "Q 416.7 77.5, 415.7 75.6\n",
              "Q 414.7 73.7, 414.3 73.2\n",
              "L 414.3 93.1\n",
              "L 411.2 93.1\n",
              "L 411.2 69.0\n",
              "L 415.0 69.0\n",
              "' fill='#0000FF'/>\n",
              "</svg>\n"
            ],
            "image/svg+xml": "<?xml version='1.0' encoding='iso-8859-1'?>\n<svg version='1.1' baseProfile='full'\n              xmlns='http://www.w3.org/2000/svg'\n                      xmlns:rdkit='http://www.rdkit.org/xml'\n                      xmlns:xlink='http://www.w3.org/1999/xlink'\n                  xml:space='preserve'\nwidth='450px' height='150px' viewBox='0 0 450 150'>\n<!-- END OF HEADER -->\n<rect style='opacity:1.0;fill:#FFFFFF;stroke:none' width='450.0' height='150.0' x='0.0' y='0.0'> </rect>\n<path class='bond-0 atom-0 atom-1' d='M 254.6,39.8 L 195.4,101.3' style='fill:none;fill-rule:evenodd;stroke:#000000;stroke-width:2.0px;stroke-linecap:butt;stroke-linejoin:miter;stroke-opacity:1' />\n<path class='bond-0 atom-0 atom-1' d='M 258.7,54.0 L 204.6,110.2' style='fill:none;fill-rule:evenodd;stroke:#000000;stroke-width:2.0px;stroke-linecap:butt;stroke-linejoin:miter;stroke-opacity:1' />\n<path class='bond-1 atom-1 atom-2' d='M 195.4,101.3 L 112.5,80.7' style='fill:none;fill-rule:evenodd;stroke:#000000;stroke-width:2.0px;stroke-linecap:butt;stroke-linejoin:miter;stroke-opacity:1' />\n<path class='bond-2 atom-2 atom-3' d='M 112.5,80.7 L 77.1,71.9' style='fill:none;fill-rule:evenodd;stroke:#000000;stroke-width:2.0px;stroke-linecap:butt;stroke-linejoin:miter;stroke-opacity:1' />\n<path class='bond-2 atom-2 atom-3' d='M 77.1,71.9 L 41.6,63.0' style='fill:none;fill-rule:evenodd;stroke:#0000FF;stroke-width:2.0px;stroke-linecap:butt;stroke-linejoin:miter;stroke-opacity:1' />\n<path class='bond-2 atom-2 atom-3' d='M 109.4,93.1 L 74.0,84.3' style='fill:none;fill-rule:evenodd;stroke:#000000;stroke-width:2.0px;stroke-linecap:butt;stroke-linejoin:miter;stroke-opacity:1' />\n<path class='bond-2 atom-2 atom-3' d='M 74.0,84.3 L 38.5,75.5' style='fill:none;fill-rule:evenodd;stroke:#0000FF;stroke-width:2.0px;stroke-linecap:butt;stroke-linejoin:miter;stroke-opacity:1' />\n<path class='bond-2 atom-2 atom-3' d='M 115.6,68.2 L 80.1,59.4' style='fill:none;fill-rule:evenodd;stroke:#000000;stroke-width:2.0px;stroke-linecap:butt;stroke-linejoin:miter;stroke-opacity:1' />\n<path class='bond-2 atom-2 atom-3' d='M 80.1,59.4 L 44.7,50.6' style='fill:none;fill-rule:evenodd;stroke:#0000FF;stroke-width:2.0px;stroke-linecap:butt;stroke-linejoin:miter;stroke-opacity:1' />\n<path class='bond-3 atom-0 atom-4' d='M 254.6,39.8 L 337.5,60.4' style='fill:none;fill-rule:evenodd;stroke:#000000;stroke-width:2.0px;stroke-linecap:butt;stroke-linejoin:miter;stroke-opacity:1' />\n<path class='bond-4 atom-4 atom-5' d='M 337.5,60.4 L 372.9,69.2' style='fill:none;fill-rule:evenodd;stroke:#000000;stroke-width:2.0px;stroke-linecap:butt;stroke-linejoin:miter;stroke-opacity:1' />\n<path class='bond-4 atom-4 atom-5' d='M 372.9,69.2 L 408.4,78.1' style='fill:none;fill-rule:evenodd;stroke:#0000FF;stroke-width:2.0px;stroke-linecap:butt;stroke-linejoin:miter;stroke-opacity:1' />\n<path class='bond-4 atom-4 atom-5' d='M 340.6,48.0 L 376.0,56.8' style='fill:none;fill-rule:evenodd;stroke:#000000;stroke-width:2.0px;stroke-linecap:butt;stroke-linejoin:miter;stroke-opacity:1' />\n<path class='bond-4 atom-4 atom-5' d='M 376.0,56.8 L 411.5,65.6' style='fill:none;fill-rule:evenodd;stroke:#0000FF;stroke-width:2.0px;stroke-linecap:butt;stroke-linejoin:miter;stroke-opacity:1' />\n<path class='bond-4 atom-4 atom-5' d='M 334.4,72.9 L 369.9,81.7' style='fill:none;fill-rule:evenodd;stroke:#000000;stroke-width:2.0px;stroke-linecap:butt;stroke-linejoin:miter;stroke-opacity:1' />\n<path class='bond-4 atom-4 atom-5' d='M 369.9,81.7 L 405.3,90.5' style='fill:none;fill-rule:evenodd;stroke:#0000FF;stroke-width:2.0px;stroke-linecap:butt;stroke-linejoin:miter;stroke-opacity:1' />\n<path d='M 251.7,42.9 L 254.6,39.8 L 258.8,40.9' style='fill:none;stroke:#000000;stroke-width:2.0px;stroke-linecap:butt;stroke-linejoin:miter;stroke-opacity:1;' />\n<path d='M 198.3,98.2 L 195.4,101.3 L 191.2,100.3' style='fill:none;stroke:#000000;stroke-width:2.0px;stroke-linecap:butt;stroke-linejoin:miter;stroke-opacity:1;' />\n<path d='M 116.6,81.7 L 112.5,80.7 L 110.7,80.2' style='fill:none;stroke:#000000;stroke-width:2.0px;stroke-linecap:butt;stroke-linejoin:miter;stroke-opacity:1;' />\n<path d='M 333.4,59.4 L 337.5,60.4 L 339.3,60.9' style='fill:none;stroke:#000000;stroke-width:2.0px;stroke-linecap:butt;stroke-linejoin:miter;stroke-opacity:1;' />\n<path class='atom-3' d='M 24.3 48.0\nL 32.2 60.8\nQ 33.0 62.0, 34.3 64.3\nQ 35.5 66.6, 35.6 66.8\nL 35.6 48.0\nL 38.8 48.0\nL 38.8 72.2\nL 35.5 72.2\nL 27.0 58.2\nQ 26.0 56.5, 24.9 54.6\nQ 23.9 52.8, 23.6 52.2\nL 23.6 72.2\nL 20.5 72.2\nL 20.5 48.0\nL 24.3 48.0\n' fill='#0000FF'/>\n<path class='atom-5' d='M 415.0 69.0\nL 423.0 81.8\nQ 423.7 83.0, 425.0 85.3\nQ 426.3 87.6, 426.3 87.7\nL 426.3 69.0\nL 429.5 69.0\nL 429.5 93.1\nL 426.2 93.1\nL 417.7 79.1\nQ 416.7 77.5, 415.7 75.6\nQ 414.7 73.7, 414.3 73.2\nL 414.3 93.1\nL 411.2 93.1\nL 411.2 69.0\nL 415.0 69.0\n' fill='#0000FF'/>\n</svg>\n",
            "image/png": "[encoded data removed]"
          },
          "metadata": {},
          "execution_count": 23
        }
      ]
    },
    {
      "cell_type": "markdown",
      "source": [
        "### Get XYZ Cartesian Coordinates"
      ],
      "metadata": {
        "id": "D77DGFVAM2TS"
      }
    },
    {
      "cell_type": "code",
      "source": [
        "molecule3d, xyz = get_xyz(molecule, optimize=True)\n",
        "print(xyz)"
      ],
      "metadata": {
        "colab": {
          "base_uri": "https://localhost:8080/"
        },
        "id": "B2m13TLILoHC",
        "outputId": "57847285-c025-40bc-ca60-53f4439498d8"
      },
      "execution_count": 24,
      "outputs": [
        {
          "output_type": "stream",
          "name": "stdout",
          "text": [
            "C      0.519129   -0.198320    0.696035\n",
            "C     -0.704289    0.294903    0.458584\n",
            "C     -1.250400    0.493120   -0.838655\n",
            "N     -1.715945    0.663173   -1.886029\n",
            "C      1.435774   -0.589815   -0.317300\n",
            "N      2.198998   -0.915144   -1.126185\n",
            "H      0.857312   -0.316999    1.720068\n",
            "H     -1.340579    0.569082    1.293484\n"
          ]
        }
      ]
    },
    {
      "cell_type": "markdown",
      "source": [
        "### Visualize 3D Molecular Structure"
      ],
      "metadata": {
        "id": "GPlaETjWNzgU"
      }
    },
    {
      "cell_type": "code",
      "source": [
        "view = py3Dmol.view(\n",
        "    data=Chem.MolToMolBlock(molecule3d),\n",
        "    style={\"stick\": {}, \"sphere\": {\"scale\": 0.3}},\n",
        "    width=600,\n",
        "    height=600,\n",
        ")\n",
        "view.zoomTo()"
      ],
      "metadata": {
        "colab": {
          "base_uri": "https://localhost:8080/",
          "height": 634
        },
        "id": "2tKcS6x_Lteb",
        "outputId": "8641c40d-801e-4145-a760-72333a51abaa"
      },
      "execution_count": 25,
      "outputs": [
        {
          "output_type": "display_data",
          "data": {
            "application/3dmoljs_load.v0": "<div id=\"3dmolviewer_16977234158076587\"  style=\"position: relative; width: 600px; height: 600px;\">\n        <p id=\"3dmolwarning_16977234158076587\" style=\"background-color:#ffcccc;color:black\">You appear to be running in JupyterLab (or JavaScript failed to load for some other reason).  You need to install the 3dmol extension: <br>\n        <tt>jupyter labextension install jupyterlab_3dmol</tt></p>\n        </div>\n<script>\n\nvar loadScriptAsync = function(uri){\n  return new Promise((resolve, reject) => {\n    //this is to ignore the existence of requirejs amd\n    var savedexports, savedmodule;\n    if (typeof exports !== 'undefined') savedexports = exports;\n    else exports = {}\n    if (typeof module !== 'undefined') savedmodule = module;\n    else module = {}\n\n    var tag = document.createElement('script');\n    tag.src = uri;\n    tag.async = true;\n    tag.onload = () => {\n        exports = savedexports;\n        module = savedmodule;\n        resolve();\n    };\n  var firstScriptTag = document.getElementsByTagName('script')[0];\n  firstScriptTag.parentNode.insertBefore(tag, firstScriptTag);\n});\n};\n\nif(typeof $3Dmolpromise === 'undefined') {\n$3Dmolpromise = null;\n  $3Dmolpromise = loadScriptAsync('https://cdnjs.cloudflare.com/ajax/libs/3Dmol/2.0.4/3Dmol-min.js');\n}\n\nvar viewer_16977234158076587 = null;\nvar warn = document.getElementById(\"3dmolwarning_16977234158076587\");\nif(warn) {\n    warn.parentNode.removeChild(warn);\n}\n$3Dmolpromise.then(function() {\nviewer_16977234158076587 = $3Dmol.createViewer(document.getElementById(\"3dmolviewer_16977234158076587\"),{backgroundColor:\"white\"});\nviewer_16977234158076587.addModel(\"\\n     RDKit          3D\\n\\n  8  7  0  0  0  0  0  0  0  0999 V2000\\n    0.5191   -0.1983    0.6960 C   0  0  0  0  0  0  0  0  0  0  0  0\\n   -0.7043    0.2949    0.4586 C   0  0  0  0  0  0  0  0  0  0  0  0\\n   -1.2504    0.4931   -0.8387 C   0  0  0  0  0  0  0  0  0  0  0  0\\n   -1.7159    0.6632   -1.8860 N   0  0  0  0  0  0  0  0  0  0  0  0\\n    1.4358   -0.5898   -0.3173 C   0  0  0  0  0  0  0  0  0  0  0  0\\n    2.1990   -0.9151   -1.1262 N   0  0  0  0  0  0  0  0  0  0  0  0\\n    0.8573   -0.3170    1.7201 H   0  0  0  0  0  0  0  0  0  0  0  0\\n   -1.3406    0.5691    1.2935 H   0  0  0  0  0  0  0  0  0  0  0  0\\n  1  2  2  3\\n  2  3  1  0\\n  3  4  3  0\\n  1  5  1  0\\n  5  6  3  0\\n  1  7  1  0\\n  2  8  1  0\\nM  END\\n\");\nviewer_16977234158076587.setStyle({\"stick\": {}, \"sphere\": {\"scale\": 0.3}});\nviewer_16977234158076587.zoomTo();\n\tviewer_16977234158076587.zoomTo();\nviewer_16977234158076587.render();\n});\n</script>",
            "text/html": [
              "<div id=\"3dmolviewer_16977234158076587\"  style=\"position: relative; width: 600px; height: 600px;\">\n",
              "        <p id=\"3dmolwarning_16977234158076587\" style=\"background-color:#ffcccc;color:black\">You appear to be running in JupyterLab (or JavaScript failed to load for some other reason).  You need to install the 3dmol extension: <br>\n",
              "        <tt>jupyter labextension install jupyterlab_3dmol</tt></p>\n",
              "        </div>\n",
              "<script>\n",
              "\n",
              "var loadScriptAsync = function(uri){\n",
              "  return new Promise((resolve, reject) => {\n",
              "    //this is to ignore the existence of requirejs amd\n",
              "    var savedexports, savedmodule;\n",
              "    if (typeof exports !== 'undefined') savedexports = exports;\n",
              "    else exports = {}\n",
              "    if (typeof module !== 'undefined') savedmodule = module;\n",
              "    else module = {}\n",
              "\n",
              "    var tag = document.createElement('script');\n",
              "    tag.src = uri;\n",
              "    tag.async = true;\n",
              "    tag.onload = () => {\n",
              "        exports = savedexports;\n",
              "        module = savedmodule;\n",
              "        resolve();\n",
              "    };\n",
              "  var firstScriptTag = document.getElementsByTagName('script')[0];\n",
              "  firstScriptTag.parentNode.insertBefore(tag, firstScriptTag);\n",
              "});\n",
              "};\n",
              "\n",
              "if(typeof $3Dmolpromise === 'undefined') {\n",
              "$3Dmolpromise = null;\n",
              "  $3Dmolpromise = loadScriptAsync('https://cdnjs.cloudflare.com/ajax/libs/3Dmol/2.0.4/3Dmol-min.js');\n",
              "}\n",
              "\n",
              "var viewer_16977234158076587 = null;\n",
              "var warn = document.getElementById(\"3dmolwarning_16977234158076587\");\n",
              "if(warn) {\n",
              "    warn.parentNode.removeChild(warn);\n",
              "}\n",
              "$3Dmolpromise.then(function() {\n",
              "viewer_16977234158076587 = $3Dmol.createViewer(document.getElementById(\"3dmolviewer_16977234158076587\"),{backgroundColor:\"white\"});\n",
              "viewer_16977234158076587.addModel(\"\\n     RDKit          3D\\n\\n  8  7  0  0  0  0  0  0  0  0999 V2000\\n    0.5191   -0.1983    0.6960 C   0  0  0  0  0  0  0  0  0  0  0  0\\n   -0.7043    0.2949    0.4586 C   0  0  0  0  0  0  0  0  0  0  0  0\\n   -1.2504    0.4931   -0.8387 C   0  0  0  0  0  0  0  0  0  0  0  0\\n   -1.7159    0.6632   -1.8860 N   0  0  0  0  0  0  0  0  0  0  0  0\\n    1.4358   -0.5898   -0.3173 C   0  0  0  0  0  0  0  0  0  0  0  0\\n    2.1990   -0.9151   -1.1262 N   0  0  0  0  0  0  0  0  0  0  0  0\\n    0.8573   -0.3170    1.7201 H   0  0  0  0  0  0  0  0  0  0  0  0\\n   -1.3406    0.5691    1.2935 H   0  0  0  0  0  0  0  0  0  0  0  0\\n  1  2  2  3\\n  2  3  1  0\\n  3  4  3  0\\n  1  5  1  0\\n  5  6  3  0\\n  1  7  1  0\\n  2  8  1  0\\nM  END\\n\");\n",
              "viewer_16977234158076587.setStyle({\"stick\": {}, \"sphere\": {\"scale\": 0.3}});\n",
              "viewer_16977234158076587.zoomTo();\n",
              "\tviewer_16977234158076587.zoomTo();\n",
              "viewer_16977234158076587.render();\n",
              "});\n",
              "</script>"
            ]
          },
          "metadata": {}
        },
        {
          "output_type": "execute_result",
          "data": {
            "text/plain": [
              "<py3Dmol.view at 0x79b0a006a980>"
            ]
          },
          "metadata": {},
          "execution_count": 25
        }
      ]
    },
    {
      "cell_type": "markdown",
      "source": [
        "# Molecule from InChi String"
      ],
      "metadata": {
        "id": "Pau7gfftOP2N"
      }
    },
    {
      "cell_type": "markdown",
      "source": [
        "### Define InChi String for Molecule"
      ],
      "metadata": {
        "id": "KQitRB7vOYvM"
      }
    },
    {
      "cell_type": "code",
      "source": [
        "molecule_Inchi = \"InChI=1S/C4H2N2/c5-3-1-2-4-6/h1-2H\"\n"
      ],
      "metadata": {
        "id": "BcTEKmJTMECP"
      },
      "execution_count": 26,
      "outputs": []
    },
    {
      "cell_type": "markdown",
      "source": [
        "## Do All Calculations"
      ],
      "metadata": {
        "id": "yaMGobqbQMFh"
      }
    },
    {
      "cell_type": "code",
      "source": [
        "molecule = Chem.MolFromInchi(molecule_Inchi)\n",
        "molecule"
      ],
      "metadata": {
        "colab": {
          "base_uri": "https://localhost:8080/",
          "height": 171
        },
        "id": "f7tCS4KtQK0Y",
        "outputId": "a910de73-096d-43ce-b8b3-6fe1caffc8cd"
      },
      "execution_count": 27,
      "outputs": [
        {
          "output_type": "execute_result",
          "data": {
            "text/plain": [
              "<rdkit.Chem.rdchem.Mol at 0x79b0a0085230>"
            ],
            "text/html": [
              "<?xml version='1.0' encoding='iso-8859-1'?>\n",
              "<svg version='1.1' baseProfile='full'\n",
              "              xmlns='http://www.w3.org/2000/svg'\n",
              "                      xmlns:rdkit='http://www.rdkit.org/xml'\n",
              "                      xmlns:xlink='http://www.w3.org/1999/xlink'\n",
              "                  xml:space='preserve'\n",
              "width='450px' height='150px' viewBox='0 0 450 150'>\n",
              "<!-- END OF HEADER -->\n",
              "<rect style='opacity:1.0;fill:#FFFFFF;stroke:none' width='450.0' height='150.0' x='0.0' y='0.0'> </rect>\n",
              "<path class='bond-0 atom-0 atom-1' d='M 254.6,39.8 L 195.4,101.3' style='fill:none;fill-rule:evenodd;stroke:#000000;stroke-width:2.0px;stroke-linecap:butt;stroke-linejoin:miter;stroke-opacity:1' />\n",
              "<path class='bond-0 atom-0 atom-1' d='M 258.7,54.0 L 204.6,110.2' style='fill:none;fill-rule:evenodd;stroke:#000000;stroke-width:2.0px;stroke-linecap:butt;stroke-linejoin:miter;stroke-opacity:1' />\n",
              "<path class='bond-1 atom-0 atom-2' d='M 254.6,39.8 L 337.5,60.4' style='fill:none;fill-rule:evenodd;stroke:#000000;stroke-width:2.0px;stroke-linecap:butt;stroke-linejoin:miter;stroke-opacity:1' />\n",
              "<path class='bond-2 atom-1 atom-3' d='M 195.4,101.3 L 112.5,80.7' style='fill:none;fill-rule:evenodd;stroke:#000000;stroke-width:2.0px;stroke-linecap:butt;stroke-linejoin:miter;stroke-opacity:1' />\n",
              "<path class='bond-3 atom-2 atom-4' d='M 337.5,60.4 L 372.9,69.2' style='fill:none;fill-rule:evenodd;stroke:#000000;stroke-width:2.0px;stroke-linecap:butt;stroke-linejoin:miter;stroke-opacity:1' />\n",
              "<path class='bond-3 atom-2 atom-4' d='M 372.9,69.2 L 408.4,78.1' style='fill:none;fill-rule:evenodd;stroke:#0000FF;stroke-width:2.0px;stroke-linecap:butt;stroke-linejoin:miter;stroke-opacity:1' />\n",
              "<path class='bond-3 atom-2 atom-4' d='M 340.6,48.0 L 376.0,56.8' style='fill:none;fill-rule:evenodd;stroke:#000000;stroke-width:2.0px;stroke-linecap:butt;stroke-linejoin:miter;stroke-opacity:1' />\n",
              "<path class='bond-3 atom-2 atom-4' d='M 376.0,56.8 L 411.5,65.6' style='fill:none;fill-rule:evenodd;stroke:#0000FF;stroke-width:2.0px;stroke-linecap:butt;stroke-linejoin:miter;stroke-opacity:1' />\n",
              "<path class='bond-3 atom-2 atom-4' d='M 334.4,72.9 L 369.9,81.7' style='fill:none;fill-rule:evenodd;stroke:#000000;stroke-width:2.0px;stroke-linecap:butt;stroke-linejoin:miter;stroke-opacity:1' />\n",
              "<path class='bond-3 atom-2 atom-4' d='M 369.9,81.7 L 405.3,90.5' style='fill:none;fill-rule:evenodd;stroke:#0000FF;stroke-width:2.0px;stroke-linecap:butt;stroke-linejoin:miter;stroke-opacity:1' />\n",
              "<path class='bond-4 atom-3 atom-5' d='M 112.5,80.7 L 77.1,71.9' style='fill:none;fill-rule:evenodd;stroke:#000000;stroke-width:2.0px;stroke-linecap:butt;stroke-linejoin:miter;stroke-opacity:1' />\n",
              "<path class='bond-4 atom-3 atom-5' d='M 77.1,71.9 L 41.6,63.0' style='fill:none;fill-rule:evenodd;stroke:#0000FF;stroke-width:2.0px;stroke-linecap:butt;stroke-linejoin:miter;stroke-opacity:1' />\n",
              "<path class='bond-4 atom-3 atom-5' d='M 109.4,93.1 L 74.0,84.3' style='fill:none;fill-rule:evenodd;stroke:#000000;stroke-width:2.0px;stroke-linecap:butt;stroke-linejoin:miter;stroke-opacity:1' />\n",
              "<path class='bond-4 atom-3 atom-5' d='M 74.0,84.3 L 38.5,75.5' style='fill:none;fill-rule:evenodd;stroke:#0000FF;stroke-width:2.0px;stroke-linecap:butt;stroke-linejoin:miter;stroke-opacity:1' />\n",
              "<path class='bond-4 atom-3 atom-5' d='M 115.6,68.2 L 80.1,59.4' style='fill:none;fill-rule:evenodd;stroke:#000000;stroke-width:2.0px;stroke-linecap:butt;stroke-linejoin:miter;stroke-opacity:1' />\n",
              "<path class='bond-4 atom-3 atom-5' d='M 80.1,59.4 L 44.7,50.6' style='fill:none;fill-rule:evenodd;stroke:#0000FF;stroke-width:2.0px;stroke-linecap:butt;stroke-linejoin:miter;stroke-opacity:1' />\n",
              "<path d='M 251.7,42.9 L 254.6,39.8 L 258.8,40.9' style='fill:none;stroke:#000000;stroke-width:2.0px;stroke-linecap:butt;stroke-linejoin:miter;stroke-opacity:1;' />\n",
              "<path d='M 198.3,98.2 L 195.4,101.3 L 191.2,100.3' style='fill:none;stroke:#000000;stroke-width:2.0px;stroke-linecap:butt;stroke-linejoin:miter;stroke-opacity:1;' />\n",
              "<path d='M 333.4,59.4 L 337.5,60.4 L 339.3,60.9' style='fill:none;stroke:#000000;stroke-width:2.0px;stroke-linecap:butt;stroke-linejoin:miter;stroke-opacity:1;' />\n",
              "<path d='M 116.6,81.7 L 112.5,80.7 L 110.7,80.2' style='fill:none;stroke:#000000;stroke-width:2.0px;stroke-linecap:butt;stroke-linejoin:miter;stroke-opacity:1;' />\n",
              "<path class='atom-4' d='M 415.0 69.0\n",
              "L 423.0 81.8\n",
              "Q 423.7 83.0, 425.0 85.3\n",
              "Q 426.3 87.6, 426.3 87.7\n",
              "L 426.3 69.0\n",
              "L 429.5 69.0\n",
              "L 429.5 93.1\n",
              "L 426.2 93.1\n",
              "L 417.7 79.1\n",
              "Q 416.7 77.5, 415.7 75.6\n",
              "Q 414.7 73.7, 414.3 73.2\n",
              "L 414.3 93.1\n",
              "L 411.2 93.1\n",
              "L 411.2 69.0\n",
              "L 415.0 69.0\n",
              "' fill='#0000FF'/>\n",
              "<path class='atom-5' d='M 24.3 48.0\n",
              "L 32.2 60.8\n",
              "Q 33.0 62.0, 34.3 64.3\n",
              "Q 35.5 66.6, 35.6 66.8\n",
              "L 35.6 48.0\n",
              "L 38.8 48.0\n",
              "L 38.8 72.2\n",
              "L 35.5 72.2\n",
              "L 27.0 58.2\n",
              "Q 26.0 56.5, 24.9 54.6\n",
              "Q 23.9 52.8, 23.6 52.2\n",
              "L 23.6 72.2\n",
              "L 20.5 72.2\n",
              "L 20.5 48.0\n",
              "L 24.3 48.0\n",
              "' fill='#0000FF'/>\n",
              "</svg>\n"
            ],
            "image/svg+xml": "<?xml version='1.0' encoding='iso-8859-1'?>\n<svg version='1.1' baseProfile='full'\n              xmlns='http://www.w3.org/2000/svg'\n                      xmlns:rdkit='http://www.rdkit.org/xml'\n                      xmlns:xlink='http://www.w3.org/1999/xlink'\n                  xml:space='preserve'\nwidth='450px' height='150px' viewBox='0 0 450 150'>\n<!-- END OF HEADER -->\n<rect style='opacity:1.0;fill:#FFFFFF;stroke:none' width='450.0' height='150.0' x='0.0' y='0.0'> </rect>\n<path class='bond-0 atom-0 atom-1' d='M 254.6,39.8 L 195.4,101.3' style='fill:none;fill-rule:evenodd;stroke:#000000;stroke-width:2.0px;stroke-linecap:butt;stroke-linejoin:miter;stroke-opacity:1' />\n<path class='bond-0 atom-0 atom-1' d='M 258.7,54.0 L 204.6,110.2' style='fill:none;fill-rule:evenodd;stroke:#000000;stroke-width:2.0px;stroke-linecap:butt;stroke-linejoin:miter;stroke-opacity:1' />\n<path class='bond-1 atom-0 atom-2' d='M 254.6,39.8 L 337.5,60.4' style='fill:none;fill-rule:evenodd;stroke:#000000;stroke-width:2.0px;stroke-linecap:butt;stroke-linejoin:miter;stroke-opacity:1' />\n<path class='bond-2 atom-1 atom-3' d='M 195.4,101.3 L 112.5,80.7' style='fill:none;fill-rule:evenodd;stroke:#000000;stroke-width:2.0px;stroke-linecap:butt;stroke-linejoin:miter;stroke-opacity:1' />\n<path class='bond-3 atom-2 atom-4' d='M 337.5,60.4 L 372.9,69.2' style='fill:none;fill-rule:evenodd;stroke:#000000;stroke-width:2.0px;stroke-linecap:butt;stroke-linejoin:miter;stroke-opacity:1' />\n<path class='bond-3 atom-2 atom-4' d='M 372.9,69.2 L 408.4,78.1' style='fill:none;fill-rule:evenodd;stroke:#0000FF;stroke-width:2.0px;stroke-linecap:butt;stroke-linejoin:miter;stroke-opacity:1' />\n<path class='bond-3 atom-2 atom-4' d='M 340.6,48.0 L 376.0,56.8' style='fill:none;fill-rule:evenodd;stroke:#000000;stroke-width:2.0px;stroke-linecap:butt;stroke-linejoin:miter;stroke-opacity:1' />\n<path class='bond-3 atom-2 atom-4' d='M 376.0,56.8 L 411.5,65.6' style='fill:none;fill-rule:evenodd;stroke:#0000FF;stroke-width:2.0px;stroke-linecap:butt;stroke-linejoin:miter;stroke-opacity:1' />\n<path class='bond-3 atom-2 atom-4' d='M 334.4,72.9 L 369.9,81.7' style='fill:none;fill-rule:evenodd;stroke:#000000;stroke-width:2.0px;stroke-linecap:butt;stroke-linejoin:miter;stroke-opacity:1' />\n<path class='bond-3 atom-2 atom-4' d='M 369.9,81.7 L 405.3,90.5' style='fill:none;fill-rule:evenodd;stroke:#0000FF;stroke-width:2.0px;stroke-linecap:butt;stroke-linejoin:miter;stroke-opacity:1' />\n<path class='bond-4 atom-3 atom-5' d='M 112.5,80.7 L 77.1,71.9' style='fill:none;fill-rule:evenodd;stroke:#000000;stroke-width:2.0px;stroke-linecap:butt;stroke-linejoin:miter;stroke-opacity:1' />\n<path class='bond-4 atom-3 atom-5' d='M 77.1,71.9 L 41.6,63.0' style='fill:none;fill-rule:evenodd;stroke:#0000FF;stroke-width:2.0px;stroke-linecap:butt;stroke-linejoin:miter;stroke-opacity:1' />\n<path class='bond-4 atom-3 atom-5' d='M 109.4,93.1 L 74.0,84.3' style='fill:none;fill-rule:evenodd;stroke:#000000;stroke-width:2.0px;stroke-linecap:butt;stroke-linejoin:miter;stroke-opacity:1' />\n<path class='bond-4 atom-3 atom-5' d='M 74.0,84.3 L 38.5,75.5' style='fill:none;fill-rule:evenodd;stroke:#0000FF;stroke-width:2.0px;stroke-linecap:butt;stroke-linejoin:miter;stroke-opacity:1' />\n<path class='bond-4 atom-3 atom-5' d='M 115.6,68.2 L 80.1,59.4' style='fill:none;fill-rule:evenodd;stroke:#000000;stroke-width:2.0px;stroke-linecap:butt;stroke-linejoin:miter;stroke-opacity:1' />\n<path class='bond-4 atom-3 atom-5' d='M 80.1,59.4 L 44.7,50.6' style='fill:none;fill-rule:evenodd;stroke:#0000FF;stroke-width:2.0px;stroke-linecap:butt;stroke-linejoin:miter;stroke-opacity:1' />\n<path d='M 251.7,42.9 L 254.6,39.8 L 258.8,40.9' style='fill:none;stroke:#000000;stroke-width:2.0px;stroke-linecap:butt;stroke-linejoin:miter;stroke-opacity:1;' />\n<path d='M 198.3,98.2 L 195.4,101.3 L 191.2,100.3' style='fill:none;stroke:#000000;stroke-width:2.0px;stroke-linecap:butt;stroke-linejoin:miter;stroke-opacity:1;' />\n<path d='M 333.4,59.4 L 337.5,60.4 L 339.3,60.9' style='fill:none;stroke:#000000;stroke-width:2.0px;stroke-linecap:butt;stroke-linejoin:miter;stroke-opacity:1;' />\n<path d='M 116.6,81.7 L 112.5,80.7 L 110.7,80.2' style='fill:none;stroke:#000000;stroke-width:2.0px;stroke-linecap:butt;stroke-linejoin:miter;stroke-opacity:1;' />\n<path class='atom-4' d='M 415.0 69.0\nL 423.0 81.8\nQ 423.7 83.0, 425.0 85.3\nQ 426.3 87.6, 426.3 87.7\nL 426.3 69.0\nL 429.5 69.0\nL 429.5 93.1\nL 426.2 93.1\nL 417.7 79.1\nQ 416.7 77.5, 415.7 75.6\nQ 414.7 73.7, 414.3 73.2\nL 414.3 93.1\nL 411.2 93.1\nL 411.2 69.0\nL 415.0 69.0\n' fill='#0000FF'/>\n<path class='atom-5' d='M 24.3 48.0\nL 32.2 60.8\nQ 33.0 62.0, 34.3 64.3\nQ 35.5 66.6, 35.6 66.8\nL 35.6 48.0\nL 38.8 48.0\nL 38.8 72.2\nL 35.5 72.2\nL 27.0 58.2\nQ 26.0 56.5, 24.9 54.6\nQ 23.9 52.8, 23.6 52.2\nL 23.6 72.2\nL 20.5 72.2\nL 20.5 48.0\nL 24.3 48.0\n' fill='#0000FF'/>\n</svg>\n",
            "image/png": "[encoded data removed]"
          },
          "metadata": {},
          "execution_count": 27
        }
      ]
    },
    {
      "cell_type": "markdown",
      "source": [
        "### Get XYZ Cartesian Coordinates"
      ],
      "metadata": {
        "id": "FHX9SpxyOnml"
      }
    },
    {
      "cell_type": "code",
      "source": [
        "molecule3d, xyz = get_xyz(molecule, optimize=True)\n",
        "print(xyz)"
      ],
      "metadata": {
        "colab": {
          "base_uri": "https://localhost:8080/"
        },
        "id": "u1L3JCl3MaWR",
        "outputId": "25ce1944-293e-405e-de0e-46586672f044"
      },
      "execution_count": 29,
      "outputs": [
        {
          "output_type": "stream",
          "name": "stdout",
          "text": [
            "C      0.166041    0.622896   -0.182460\n",
            "C     -0.166043   -0.622896    0.182460\n",
            "C     -0.648816    1.381764   -1.062294\n",
            "C      0.648817   -1.381764    1.062293\n",
            "N     -1.321716    1.992504   -1.781445\n",
            "N      1.321718   -1.992501    1.781445\n",
            "H      1.071792    1.097353    0.182333\n",
            "H     -1.071793   -1.097356   -0.182331\n"
          ]
        }
      ]
    },
    {
      "cell_type": "markdown",
      "source": [
        "### Visualize 3D Molecular Structure"
      ],
      "metadata": {
        "id": "9v2Co-IqOy2e"
      }
    },
    {
      "cell_type": "code",
      "source": [
        "view = py3Dmol.view(\n",
        "    data=Chem.MolToMolBlock(molecule3d),\n",
        "    style={\"stick\": {}, \"sphere\": {\"scale\": 0.3}},\n",
        "    width=600,\n",
        "    height=600,\n",
        ")\n",
        "view.zoomTo()"
      ],
      "metadata": {
        "colab": {
          "base_uri": "https://localhost:8080/",
          "height": 634
        },
        "id": "5tJo9oQ8McCk",
        "outputId": "edfa4bb4-2c2e-4fbe-fd10-8d9756766fb8"
      },
      "execution_count": 30,
      "outputs": [
        {
          "output_type": "display_data",
          "data": {
            "application/3dmoljs_load.v0": "<div id=\"3dmolviewer_16977235201137972\"  style=\"position: relative; width: 600px; height: 600px;\">\n        <p id=\"3dmolwarning_16977235201137972\" style=\"background-color:#ffcccc;color:black\">You appear to be running in JupyterLab (or JavaScript failed to load for some other reason).  You need to install the 3dmol extension: <br>\n        <tt>jupyter labextension install jupyterlab_3dmol</tt></p>\n        </div>\n<script>\n\nvar loadScriptAsync = function(uri){\n  return new Promise((resolve, reject) => {\n    //this is to ignore the existence of requirejs amd\n    var savedexports, savedmodule;\n    if (typeof exports !== 'undefined') savedexports = exports;\n    else exports = {}\n    if (typeof module !== 'undefined') savedmodule = module;\n    else module = {}\n\n    var tag = document.createElement('script');\n    tag.src = uri;\n    tag.async = true;\n    tag.onload = () => {\n        exports = savedexports;\n        module = savedmodule;\n        resolve();\n    };\n  var firstScriptTag = document.getElementsByTagName('script')[0];\n  firstScriptTag.parentNode.insertBefore(tag, firstScriptTag);\n});\n};\n\nif(typeof $3Dmolpromise === 'undefined') {\n$3Dmolpromise = null;\n  $3Dmolpromise = loadScriptAsync('https://cdnjs.cloudflare.com/ajax/libs/3Dmol/2.0.4/3Dmol-min.js');\n}\n\nvar viewer_16977235201137972 = null;\nvar warn = document.getElementById(\"3dmolwarning_16977235201137972\");\nif(warn) {\n    warn.parentNode.removeChild(warn);\n}\n$3Dmolpromise.then(function() {\nviewer_16977235201137972 = $3Dmol.createViewer(document.getElementById(\"3dmolviewer_16977235201137972\"),{backgroundColor:\"white\"});\nviewer_16977235201137972.addModel(\"\\n     RDKit          3D\\n\\n  8  7  0  0  0  0  0  0  0  0999 V2000\\n    0.1660    0.6229   -0.1825 C   0  0  0  0  0  0  0  0  0  0  0  0\\n   -0.1660   -0.6229    0.1825 C   0  0  0  0  0  0  0  0  0  0  0  0\\n   -0.6488    1.3818   -1.0623 C   0  0  0  0  0  0  0  0  0  0  0  0\\n    0.6488   -1.3818    1.0623 C   0  0  0  0  0  0  0  0  0  0  0  0\\n   -1.3217    1.9925   -1.7814 N   0  0  0  0  0  0  0  0  0  0  0  0\\n    1.3217   -1.9925    1.7814 N   0  0  0  0  0  0  0  0  0  0  0  0\\n    1.0718    1.0974    0.1823 H   0  0  0  0  0  0  0  0  0  0  0  0\\n   -1.0718   -1.0974   -0.1823 H   0  0  0  0  0  0  0  0  0  0  0  0\\n  1  2  2  3\\n  1  3  1  0\\n  2  4  1  0\\n  3  5  3  0\\n  4  6  3  0\\n  1  7  1  0\\n  2  8  1  0\\nM  END\\n\");\nviewer_16977235201137972.setStyle({\"stick\": {}, \"sphere\": {\"scale\": 0.3}});\nviewer_16977235201137972.zoomTo();\n\tviewer_16977235201137972.zoomTo();\nviewer_16977235201137972.render();\n});\n</script>",
            "text/html": [
              "<div id=\"3dmolviewer_16977235201137972\"  style=\"position: relative; width: 600px; height: 600px;\">\n",
              "        <p id=\"3dmolwarning_16977235201137972\" style=\"background-color:#ffcccc;color:black\">You appear to be running in JupyterLab (or JavaScript failed to load for some other reason).  You need to install the 3dmol extension: <br>\n",
              "        <tt>jupyter labextension install jupyterlab_3dmol</tt></p>\n",
              "        </div>\n",
              "<script>\n",
              "\n",
              "var loadScriptAsync = function(uri){\n",
              "  return new Promise((resolve, reject) => {\n",
              "    //this is to ignore the existence of requirejs amd\n",
              "    var savedexports, savedmodule;\n",
              "    if (typeof exports !== 'undefined') savedexports = exports;\n",
              "    else exports = {}\n",
              "    if (typeof module !== 'undefined') savedmodule = module;\n",
              "    else module = {}\n",
              "\n",
              "    var tag = document.createElement('script');\n",
              "    tag.src = uri;\n",
              "    tag.async = true;\n",
              "    tag.onload = () => {\n",
              "        exports = savedexports;\n",
              "        module = savedmodule;\n",
              "        resolve();\n",
              "    };\n",
              "  var firstScriptTag = document.getElementsByTagName('script')[0];\n",
              "  firstScriptTag.parentNode.insertBefore(tag, firstScriptTag);\n",
              "});\n",
              "};\n",
              "\n",
              "if(typeof $3Dmolpromise === 'undefined') {\n",
              "$3Dmolpromise = null;\n",
              "  $3Dmolpromise = loadScriptAsync('https://cdnjs.cloudflare.com/ajax/libs/3Dmol/2.0.4/3Dmol-min.js');\n",
              "}\n",
              "\n",
              "var viewer_16977235201137972 = null;\n",
              "var warn = document.getElementById(\"3dmolwarning_16977235201137972\");\n",
              "if(warn) {\n",
              "    warn.parentNode.removeChild(warn);\n",
              "}\n",
              "$3Dmolpromise.then(function() {\n",
              "viewer_16977235201137972 = $3Dmol.createViewer(document.getElementById(\"3dmolviewer_16977235201137972\"),{backgroundColor:\"white\"});\n",
              "viewer_16977235201137972.addModel(\"\\n     RDKit          3D\\n\\n  8  7  0  0  0  0  0  0  0  0999 V2000\\n    0.1660    0.6229   -0.1825 C   0  0  0  0  0  0  0  0  0  0  0  0\\n   -0.1660   -0.6229    0.1825 C   0  0  0  0  0  0  0  0  0  0  0  0\\n   -0.6488    1.3818   -1.0623 C   0  0  0  0  0  0  0  0  0  0  0  0\\n    0.6488   -1.3818    1.0623 C   0  0  0  0  0  0  0  0  0  0  0  0\\n   -1.3217    1.9925   -1.7814 N   0  0  0  0  0  0  0  0  0  0  0  0\\n    1.3217   -1.9925    1.7814 N   0  0  0  0  0  0  0  0  0  0  0  0\\n    1.0718    1.0974    0.1823 H   0  0  0  0  0  0  0  0  0  0  0  0\\n   -1.0718   -1.0974   -0.1823 H   0  0  0  0  0  0  0  0  0  0  0  0\\n  1  2  2  3\\n  1  3  1  0\\n  2  4  1  0\\n  3  5  3  0\\n  4  6  3  0\\n  1  7  1  0\\n  2  8  1  0\\nM  END\\n\");\n",
              "viewer_16977235201137972.setStyle({\"stick\": {}, \"sphere\": {\"scale\": 0.3}});\n",
              "viewer_16977235201137972.zoomTo();\n",
              "\tviewer_16977235201137972.zoomTo();\n",
              "viewer_16977235201137972.render();\n",
              "});\n",
              "</script>"
            ]
          },
          "metadata": {}
        },
        {
          "output_type": "execute_result",
          "data": {
            "text/plain": [
              "<py3Dmol.view at 0x79b0a006bc40>"
            ]
          },
          "metadata": {},
          "execution_count": 30
        }
      ]
    }
  ]
}