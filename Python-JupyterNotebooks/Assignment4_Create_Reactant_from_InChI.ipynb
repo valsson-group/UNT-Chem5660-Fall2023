{
  "nbformat": 4,
  "nbformat_minor": 0,
  "metadata": {
    "colab": {
      "provenance": [],
      "collapsed_sections": [
        "_jR3EjKnMkh8"
      ],
      "include_colab_link": true
    },
    "kernelspec": {
      "name": "python3",
      "display_name": "Python 3"
    },
    "language_info": {
      "name": "python"
    }
  },
  "cells": [
    {
      "cell_type": "markdown",
      "metadata": {
        "id": "view-in-github",
        "colab_type": "text"
      },
      "source": [
        "<a href=\"https://colab.research.google.com/github/valsson-group/UNT-Chem5660-Fall2023/blob/main/Python-JupyterNotebooks/Assignment4_Create_Reactant_from_InChI.ipynb\" target=\"_parent\"><img src=\"https://colab.research.google.com/assets/colab-badge.svg\" alt=\"Open In Colab\"/></a>"
      ]
    },
    {
      "cell_type": "markdown",
      "source": [
        "# Assignment 4: Example how to create initial reactant from InChl Strings\n",
        "\n",
        "This is an example how to create an initial geometry for reactant for Assignment 4 using InChl strings\n",
        "\n"
      ],
      "metadata": {
        "id": "RIPXBsdlgm0j"
      }
    },
    {
      "cell_type": "markdown",
      "source": [
        "# Imports and Function Definitions"
      ],
      "metadata": {
        "id": "_jR3EjKnMkh8"
      }
    },
    {
      "cell_type": "code",
      "execution_count": null,
      "metadata": {
        "id": "e8QZ9jJ1BcgK"
      },
      "outputs": [],
      "source": [
        "%%capture\n",
        "!pip install rdkit\n",
        "!pip install py3Dmol\n",
        "!pip install ipywidgets"
      ]
    },
    {
      "cell_type": "code",
      "source": [
        "# RDKit imports:\n",
        "from rdkit import Chem\n",
        "from rdkit.Chem import (\n",
        "    AllChem,\n",
        "    rdCoordGen,\n",
        ")\n",
        "from rdkit.Chem.Draw import IPythonConsole\n",
        "\n",
        "IPythonConsole.ipython_useSVG = True\n",
        "\n",
        "import py3Dmol"
      ],
      "metadata": {
        "id": "Aqqt3FznBur1"
      },
      "execution_count": null,
      "outputs": []
    },
    {
      "cell_type": "code",
      "source": [
        "def get_xyz(molecule, optimize=False):\n",
        "    \"\"\"Get xyz-coordinates for the molecule\"\"\"\n",
        "    mol = Chem.Mol(molecule)\n",
        "    mol = AllChem.AddHs(mol, addCoords=True)\n",
        "    AllChem.EmbedMolecule(mol)\n",
        "    if optimize:  # Optimize the molecules with the MM force field:\n",
        "        AllChem.MMFFOptimizeMolecule(mol)\n",
        "    xyz = []\n",
        "    for lines in Chem.MolToXYZBlock(mol).split(\"\\n\")[2:]:\n",
        "        strip = lines.strip()\n",
        "        if strip:\n",
        "            xyz.append(strip)\n",
        "    xyz = \"\\n\".join(xyz)\n",
        "    return mol, xyz\n",
        "\n",
        "def writeMoleculeToXYZfile(mol,fn_out,comment=\"\"):\n",
        "    conf = mol.GetConformer()\n",
        "    numAtoms = mol.GetConformer().GetNumAtoms()\n",
        "    f = open(fn_out,'w')\n",
        "    f.write(\"{0:3d}\\n\".format(numAtoms))\n",
        "    f.write(\"  {0}\\n\".format(comment))\n",
        "    for i in range(numAtoms):\n",
        "        atom = mol.GetAtomWithIdx(i).GetSymbol()\n",
        "        x = conf.GetAtomPosition(i)[0]\n",
        "        y = conf.GetAtomPosition(i)[1]\n",
        "        z = conf.GetAtomPosition(i)[2]\n",
        "        f.write(\"  {0:<3s}{1:>20.10f}{2:>20.10f}{3:>20.10f}\\n\".format(atom,x,y,z))\n",
        "#--------------------------------------------"
      ],
      "metadata": {
        "id": "l6qnmU6QCjMZ"
      },
      "execution_count": null,
      "outputs": []
    },
    {
      "cell_type": "markdown",
      "source": [
        "# Create Molecules from InChl Strings"
      ],
      "metadata": {
        "id": "5NYe7vLLM2cO"
      }
    },
    {
      "cell_type": "markdown",
      "source": [
        "### Define InChl Strings for the Molecules in the Reactant\n",
        "\n",
        "You need find the correct dieneophile molecules for Assignment 4 yourself. One way to do that is to search for them on PubChem using the [Draw Structre feature](https://pubchem.ncbi.nlm.nih.gov/#draw=true).\n",
        "\n",
        "One can also use SMILES string if you want. Then you would use the `Chem.MolFromSmiles` command instead.\n",
        "\n"
      ],
      "metadata": {
        "id": "ctJdKmrBNPyl"
      }
    },
    {
      "cell_type": "code",
      "source": [
        "# Cyclopentadiene from\n",
        "# https://pubchem.ncbi.nlm.nih.gov/compound/Cyclopentadiene\n",
        "molecule_1_inchi = \"InChI=1S/C5H6/c1-2-4-5-3-1/h1-4H,5H2\"\n",
        "\n",
        "# dieneophile molecule; here we only consider Ethylene from\n",
        "# https://pubchem.ncbi.nlm.nih.gov/compound/6325\n",
        "molecule_2_inchi = \"InChI=1S/C2H4/c1-2/h1-2H2\"\n",
        "\n"
      ],
      "metadata": {
        "id": "W5A8iNv9C3I8"
      },
      "execution_count": null,
      "outputs": []
    },
    {
      "cell_type": "markdown",
      "source": [
        "## Setup Molecules"
      ],
      "metadata": {
        "id": "U3gKDuqPPxpo"
      }
    },
    {
      "cell_type": "code",
      "source": [
        "molecule_1 = Chem.MolFromInchi(molecule_1_inchi)\n",
        "molecule_1"
      ],
      "metadata": {
        "id": "GkFYAMAbPw2H"
      },
      "execution_count": null,
      "outputs": []
    },
    {
      "cell_type": "code",
      "source": [
        "molecule3d_1, xyz_1 = get_xyz(molecule_1, optimize=True)\n",
        "\n",
        "print(xyz_1)\n",
        "# we also write the XYZ coordiantes to file\n",
        "writeMoleculeToXYZfile(molecule3d_1,\"reactant_molecule_1.xyz\",comment=\"\")"
      ],
      "metadata": {
        "id": "B2m13TLILoHC"
      },
      "execution_count": null,
      "outputs": []
    },
    {
      "cell_type": "code",
      "source": [
        "view = py3Dmol.view(\n",
        "    data=Chem.MolToMolBlock(molecule3d_1),\n",
        "    style={\"stick\": {}, \"sphere\": {\"scale\": 0.3}},\n",
        "    width=600,\n",
        "    height=600,\n",
        ")\n",
        "view.zoomTo()\n",
        "\n"
      ],
      "metadata": {
        "id": "2tKcS6x_Lteb"
      },
      "execution_count": null,
      "outputs": []
    },
    {
      "cell_type": "code",
      "source": [
        "molecule_2 = Chem.MolFromInchi(molecule_2_inchi)\n",
        "molecule_2"
      ],
      "metadata": {
        "id": "7zRrYKboW0AT"
      },
      "execution_count": null,
      "outputs": []
    },
    {
      "cell_type": "code",
      "source": [
        "molecule3d_2, xyz_2 = get_xyz(molecule_2, optimize=True)\n",
        "\n",
        "print(xyz_2)\n",
        "# we also write the XYZ coordiantes to file\n",
        "writeMoleculeToXYZfile(molecule3d_2,\"reactant_molecule_2.xyz\",comment=\"\")"
      ],
      "metadata": {
        "id": "ms4CPyLtW5oQ"
      },
      "execution_count": null,
      "outputs": []
    },
    {
      "cell_type": "code",
      "source": [
        "view = py3Dmol.view(\n",
        "    data=Chem.MolToMolBlock(molecule3d_2),\n",
        "    style={\"stick\": {}, \"sphere\": {\"scale\": 0.3}},\n",
        "    width=600,\n",
        "    height=600,\n",
        ")\n",
        "view.zoomTo()\n"
      ],
      "metadata": {
        "id": "3oufpYzyXGLC"
      },
      "execution_count": null,
      "outputs": []
    },
    {
      "cell_type": "markdown",
      "source": [
        "## Orienting the Molecules\n",
        "\n",
        "Now we have the molecules in XYZ file that we will work with. What we will do is use the `orient.py` script from https://github.com/smparker/orient-molecule/tree/master to manipulate the molecules.\n",
        "\n"
      ],
      "metadata": {
        "id": "G8VZAVMwaarv"
      }
    },
    {
      "cell_type": "code",
      "source": [
        "!rm -f ./orient.py*\n",
        "!wget https://raw.githubusercontent.com/smparker/orient-molecule/master/orient.py\n",
        "!chmod a+x ./orient.py\n",
        "!ls"
      ],
      "metadata": {
        "id": "4ZXuTt5nbcsN"
      },
      "execution_count": null,
      "outputs": []
    },
    {
      "cell_type": "code",
      "source": [
        "!./orient.py -h"
      ],
      "metadata": {
        "id": "-5OnO8yzfotp"
      },
      "execution_count": null,
      "outputs": []
    },
    {
      "cell_type": "markdown",
      "source": [
        "Here we first use the `-p` flag to align the molecules such that they are in the xy plane. We then use the `-tz` flag to translate the molecules in the z-direction, one -2 Angstrom and the other +2 Angstrom so that they have roughly 4 Angstrom difference between them. Both of these commands can be stacked in the call to the `orient.py` script (but the order matters). We then pipe the output to new files.\n"
      ],
      "metadata": {
        "id": "OWcTCvW0fjjI"
      }
    },
    {
      "cell_type": "code",
      "source": [
        "%%bash\n",
        "\n",
        "./orient.py -p 1 2 3 4 5 -tz -2.0 reactant_molecule_1.xyz > reactant_molecule_1_align_to_z.xyz\n",
        "echo \"reactant_molecule_1_align_to_z.xyz:\"\n",
        "cat reactant_molecule_1_align_to_z.xyz\n",
        "echo \"\"\n",
        "\n",
        "./orient.py -p 1 2 3 4 -tz 2.0 reactant_molecule_2.xyz > reactant_molecule_2_align_to_z.xyz\n",
        "echo \"reactant_molecule_1_align_to_z.xyz:\"\n",
        "cat reactant_molecule_2_align_to_z.xyz\n",
        "echo \"\"\n"
      ],
      "metadata": {
        "id": "rDy94zeUavhJ"
      },
      "execution_count": null,
      "outputs": []
    },
    {
      "cell_type": "markdown",
      "source": [
        "Then we can combine the two XYZ files into a single file using bash commands."
      ],
      "metadata": {
        "id": "OlJxQUl1grj5"
      }
    },
    {
      "cell_type": "code",
      "source": [
        "%%bash\n",
        "cat reactant_molecule_1_align_to_z.xyz | sed '1,2d' > reactant_1.tmp.xyz\n",
        "cat reactant_molecule_2_align_to_z.xyz | sed '1,2d' > reactant_2.tmp.xyz\n",
        "cat reactant_1.tmp.xyz reactant_2.tmp.xyz > reactant.tmp.xyz\n",
        "NumAtoms=`cat reactant.tmp.xyz | wc -l`\n",
        "rm -f reactant.xyz\n",
        "echo \"${NumAtoms}\" >> reactant.xyz\n",
        "echo \" \" >> reactant.xyz\n",
        "cat reactant.tmp.xyz >> reactant.xyz\n",
        "rm -f *.tmp.xyz\n",
        "\n",
        "echo \"reactant.xyz:\"\n",
        "cat reactant.xyz"
      ],
      "metadata": {
        "id": "lFC86AuEeHY4"
      },
      "execution_count": null,
      "outputs": []
    },
    {
      "cell_type": "markdown",
      "source": [
        "To create the product, it is better to avogardo or something like that as we need to create bonds"
      ],
      "metadata": {
        "id": "FnNuAI5DiZQV"
      }
    }
  ]
}