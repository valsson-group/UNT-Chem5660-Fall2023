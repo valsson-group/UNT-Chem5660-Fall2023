{
  "nbformat": 4,
  "nbformat_minor": 0,
  "metadata": {
    "colab": {
      "provenance": []
    },
    "kernelspec": {
      "name": "python3",
      "display_name": "Python 3"
    },
    "language_info": {
      "name": "python"
    }
  },
  "cells": [
    {
      "cell_type": "markdown",
      "source": [
        "# Potential Energy Curve for a Homonuclear Diatomic Molecule\n",
        "\n"
      ],
      "metadata": {
        "id": "e6uNCpGJZNWi"
      }
    },
    {
      "cell_type": "markdown",
      "source": [
        "## Setup python environment and imports"
      ],
      "metadata": {
        "id": "4joQFSzXZuuW"
      }
    },
    {
      "cell_type": "code",
      "execution_count": 1,
      "metadata": {
        "id": "mnJj_M1D4POB"
      },
      "outputs": [],
      "source": [
        "%%capture\n",
        "!pip install pyscf\n"
      ]
    },
    {
      "cell_type": "code",
      "source": [
        "# pyscf imports:\n",
        "from pyscf import gto, scf, dft\n",
        "\n",
        "from pyscf.data.nist import HARTREE2EV\n",
        "\n",
        "# For plotting\n",
        "import matplotlib\n",
        "from matplotlib import pyplot as plt\n",
        "\n",
        "# For numerics:\n",
        "import numpy as np"
      ],
      "metadata": {
        "id": "pboBu2_u4wvv",
        "outputId": "1b9fb656-1162-4847-d95a-991c71969d4f",
        "colab": {
          "base_uri": "https://localhost:8080/"
        }
      },
      "execution_count": 6,
      "outputs": [
        {
          "output_type": "stream",
          "name": "stderr",
          "text": [
            "/usr/local/lib/python3.10/dist-packages/pyscf/dft/libxc.py:772: UserWarning: Since PySCF-2.3, B3LYP (and B3P86) are changed to the VWN-RPA variant, the same to the B3LYP functional in Gaussian and ORCA (issue 1480). To restore the VWN5 definition, you can put the setting \"B3LYP_WITH_VWN5 = True\" in pyscf_conf.py\n",
            "  warnings.warn('Since PySCF-2.3, B3LYP (and B3P86) are changed to the VWN-RPA variant, '\n"
          ]
        }
      ]
    },
    {
      "cell_type": "markdown",
      "source": [
        "## Definition of the Molecule"
      ],
      "metadata": {
        "id": "bRJa_BnUZ_pD"
      }
    },
    {
      "cell_type": "markdown",
      "source": [
        "Here you should define the homonuclear diatomic molecule to be considered.\n",
        "\n"
      ],
      "metadata": {
        "id": "hWFvM4lXI8tw"
      }
    },
    {
      "cell_type": "code",
      "source": [
        "Atom=\"N\""
      ],
      "metadata": {
        "id": "NPIa8E67ZX-0"
      },
      "execution_count": 3,
      "outputs": []
    },
    {
      "cell_type": "markdown",
      "source": [
        "## Definition of the Functions to Generate the XYZ Coordiates and Calculations"
      ],
      "metadata": {
        "id": "TyRYjxlSZfgV"
      }
    },
    {
      "cell_type": "code",
      "source": [
        "def get_xyz(bondlength,atom=\"N\"):\n",
        "  xyz=\"{:2s} {:10.6f} {:10.6f} {:10.6f}\\n\".format(atom,bondlength/2,0.0,0.0)\n",
        "  xyz+=\"{:2s} {:10.6f} {:10.6f} {:10.6f}\\n\".format(atom,-bondlength/2,0.0,0.0)\n",
        "  return xyz"
      ],
      "metadata": {
        "id": "YxQmT22s7T3W"
      },
      "execution_count": 4,
      "outputs": []
    },
    {
      "cell_type": "code",
      "source": [
        "def run_calculation_hf(xyz, basis=\"sto-3g\"):\n",
        "    \"\"\"Calculate the energy (+ additional things like MO coefficients) with pyscf.\"\"\"\n",
        "    mol = gto.M(\n",
        "        atom=xyz,\n",
        "        basis=basis,\n",
        "        unit=\"ANG\",\n",
        "        symmetry=True,\n",
        "    )\n",
        "    mol.build()\n",
        "    mf = scf.RHF(mol)\n",
        "    mf.kernel()\n",
        "    return mf.e_tot\n",
        "\n",
        "def run_calculation_dft(xyz, functional=\"b3lyp\", basis=\"sto-3g\"):\n",
        "    \"\"\"Calculate the energy (+ additional things like MO coefficients) with pyscf.\"\"\"\n",
        "    mol = gto.M(\n",
        "        atom=xyz,\n",
        "        basis=basis,\n",
        "        unit=\"ANG\",\n",
        "        symmetry=True,\n",
        "    )\n",
        "    mol.build()\n",
        "    mf = dft.RKS(mol)\n",
        "    mf.xc = functional\n",
        "    mf.kernel()\n",
        "    return mf.e_tot"
      ],
      "metadata": {
        "id": "T6nfWMhP7yvE"
      },
      "execution_count": 5,
      "outputs": []
    },
    {
      "cell_type": "markdown",
      "source": [
        "## DFT calculations with different functionals"
      ],
      "metadata": {
        "id": "yR6G8M80aBp_"
      }
    },
    {
      "cell_type": "code",
      "source": [
        "bondlengths = np.linspace(0.8,2.5,50)\n",
        "\n",
        "XC_Functionals=[\"LDA\",\n",
        "                \"BLYP\",\n",
        "                \"B3LYP\",\n",
        "                \"SCAN\",\n",
        "            ]\n",
        "\n",
        "energy_dft = []\n",
        "for b in range(len(XC_Functionals)):\n",
        "  energy_dft.append(np.zeros(bondlengths.size))\n",
        "\n",
        "for i, bl in enumerate(bondlengths):\n",
        "  xyz=get_xyz(bondlength=bl,atom=Atom)\n",
        "  for k,e in enumerate(energy_dft):\n",
        "    e[i] = run_calculation_dft(xyz,functional=XC_Functionals[k],basis=\"cc-pVDZ\")\n",
        "\n",
        "energy_dft_eV = []\n",
        "for k,e in enumerate(energy_dft):\n",
        "    e_eV = (e - np.min(e))*HARTREE2EV\n",
        "    energy_dft_eV.append(e_eV)\n"
      ],
      "metadata": {
        "id": "YyzgCnK08Psh",
        "outputId": "d7d33952-fc3b-4804-f051-f8f78b5af803",
        "colab": {
          "base_uri": "https://localhost:8080/"
        }
      },
      "execution_count": 10,
      "outputs": [
        {
          "output_type": "stream",
          "name": "stdout",
          "text": [
            "converged SCF energy = -107.084977231852\n",
            "converged SCF energy = -108.917306520375\n",
            "converged SCF energy = -108.949522189646\n",
            "converged SCF energy = -108.899629294296\n",
            "converged SCF energy = -107.256873895819\n",
            "converged SCF energy = -109.086798841071\n",
            "converged SCF energy = -109.117476473123\n",
            "converged SCF energy = -109.06842771777\n",
            "converged SCF energy = -107.38952212737\n",
            "converged SCF energy = -109.217275817467\n",
            "converged SCF energy = -109.246282258926\n",
            "converged SCF energy = -109.19814783777\n",
            "converged SCF energy = -107.490371365805\n",
            "converged SCF energy = -109.316181969597\n",
            "converged SCF energy = -109.34339455488\n",
            "converged SCF energy = -109.295917815141\n",
            "converged SCF energy = -107.565486509719\n",
            "converged SCF energy = -109.389575550767\n",
            "converged SCF energy = -109.414880514637\n",
            "converged SCF energy = -109.368070054092\n",
            "converged SCF energy = -107.619823857376\n",
            "converged SCF energy = -109.442404359365\n",
            "converged SCF energy = -109.465696051786\n",
            "converged SCF energy = -109.419477235958\n",
            "converged SCF energy = -107.657444277782\n",
            "converged SCF energy = -109.478719149247\n",
            "converged SCF energy = -109.499899630502\n",
            "converged SCF energy = -109.45412179293\n",
            "converged SCF energy = -107.681678185556\n",
            "converged SCF energy = -109.501838858455\n",
            "converged SCF energy = -109.520817842967\n",
            "converged SCF energy = -109.475448417022\n",
            "converged SCF energy = -107.695255636053\n",
            "converged SCF energy = -109.514481667954\n",
            "converged SCF energy = -109.531176494849\n",
            "converged SCF energy = -109.486088772439\n",
            "converged SCF energy = -107.700410215367\n",
            "converged SCF energy = -109.518868904247\n",
            "converged SCF energy = -109.533204975226\n",
            "converged SCF energy = -109.48841603924\n",
            "converged SCF energy = -107.698965091514\n",
            "converged SCF energy = -109.516811656765\n",
            "converged SCF energy = -109.528722340471\n",
            "converged SCF energy = -109.484195376602\n",
            "converged SCF energy = -107.692402456921\n",
            "converged SCF energy = -109.50978038705\n",
            "converged SCF energy = -109.519207897064\n",
            "converged SCF energy = -109.474993205772\n",
            "converged SCF energy = -107.6819243973\n",
            "converged SCF energy = -109.498965917852\n",
            "converged SCF energy = -109.505861669377\n",
            "converged SCF energy = -109.461973127979\n",
            "converged SCF energy = -107.668502679437\n",
            "converged SCF energy = -109.485329152607\n",
            "converged SCF energy = -109.489654185476\n",
            "converged SCF energy = -109.446141965778\n",
            "converged SCF energy = -107.652919858729\n",
            "converged SCF energy = -109.469642239406\n",
            "converged SCF energy = -109.471367618083\n",
            "converged SCF energy = -109.428250260873\n",
            "converged SCF energy = -107.635804113685\n",
            "converged SCF energy = -109.452523325525\n",
            "converged SCF energy = -109.451630293785\n",
            "converged SCF energy = -109.408959441592\n",
            "converged SCF energy = -107.61765696526\n",
            "converged SCF energy = -109.434464280981\n",
            "converged SCF energy = -109.43094428828\n",
            "converged SCF energy = -109.388739238381\n",
            "converged SCF energy = -107.59887640329\n",
            "converged SCF energy = -109.415853829894\n",
            "converged SCF energy = -109.40970827803\n",
            "converged SCF energy = -109.368016614454\n",
            "converged SCF energy = -107.579775778242\n",
            "converged SCF energy = -109.396996404554\n",
            "converged SCF energy = -109.388236157607\n",
            "converged SCF energy = -109.34707322234\n",
            "converged SCF energy = -107.560598824561\n",
            "converged SCF energy = -109.378127299676\n",
            "converged SCF energy = -109.366772017946\n",
            "converged SCF energy = -109.326179461067\n",
            "converged SCF energy = -107.541533032205\n",
            "converged SCF energy = -109.35942589794\n",
            "converged SCF energy = -109.345503156479\n",
            "converged SCF energy = -109.305498699131\n",
            "converged SCF energy = -107.52271999142\n",
            "converged SCF energy = -109.341026215834\n",
            "converged SCF energy = -109.324570529878\n",
            "converged SCF energy = -109.285192787802\n",
            "converged SCF energy = -107.504264560057\n",
            "converged SCF energy = -109.323025946904\n",
            "converged SCF energy = -109.304077775191\n",
            "converged SCF energy = -109.265349834311\n",
            "converged SCF energy = -107.486242829148\n",
            "converged SCF energy = -109.305494426166\n",
            "converged SCF energy = -109.28409910843\n",
            "converged SCF energy = -109.246053334374\n",
            "converged SCF energy = -107.468708069045\n",
            "converged SCF energy = -109.288478770589\n",
            "converged SCF energy = -109.264685556634\n",
            "converged SCF energy = -109.227351328283\n",
            "converged SCF energy = -107.451697325709\n",
            "converged SCF energy = -109.272010094152\n",
            "converged SCF energy = -109.245871402984\n",
            "converged SCF energy = -109.20927488493\n",
            "converged SCF energy = -107.435231858929\n",
            "converged SCF energy = -109.256104445093\n",
            "converged SCF energy = -109.227674564316\n",
            "converged SCF energy = -109.191850019571\n",
            "converged SCF energy = -107.419326023247\n",
            "converged SCF energy = -109.240771286526\n",
            "converged SCF energy = -109.21010611722\n",
            "converged SCF energy = -109.175074651021\n",
            "converged SCF energy = -107.403986212699\n",
            "converged SCF energy = -109.226012524553\n",
            "converged SCF energy = -109.193168806654\n",
            "converged SCF energy = -109.158960897384\n",
            "converged SCF energy = -107.389213705952\n",
            "converged SCF energy = -109.211825590473\n",
            "converged SCF energy = -109.176860303287\n",
            "converged SCF energy = -109.143493573302\n",
            "converged SCF energy = -107.375005688205\n",
            "converged SCF energy = -109.198204177266\n",
            "converged SCF energy = -109.16117415632\n",
            "converged SCF energy = -109.128665901752\n",
            "converged SCF energy = -107.3613564329\n",
            "converged SCF energy = -109.185139537894\n",
            "converged SCF energy = -109.146101073454\n",
            "converged SCF energy = -109.114463762978\n",
            "converged SCF energy = -107.348257942483\n",
            "converged SCF energy = -109.172621208729\n",
            "converged SCF energy = -109.13162970054\n",
            "converged SCF energy = -109.100858443806\n",
            "converged SCF energy = -107.335700089082\n",
            "converged SCF energy = -109.160636938692\n",
            "converged SCF energy = -109.117746712074\n",
            "converged SCF energy = -109.087835719301\n",
            "converged SCF energy = -107.323671083776\n",
            "converged SCF energy = -109.149173246699\n",
            "converged SCF energy = -109.104437357474\n",
            "converged SCF energy = -109.075368100891\n",
            "converged SCF energy = -107.312157865861\n",
            "converged SCF energy = -109.13821579416\n",
            "converged SCF energy = -109.091685869572\n",
            "converged SCF energy = -109.063436087232\n",
            "converged SCF energy = -107.301146100475\n",
            "converged SCF energy = -109.127749222048\n",
            "converged SCF energy = -109.079475417976\n",
            "converged SCF energy = -109.052027338199\n",
            "converged SCF energy = -107.290620408532\n",
            "converged SCF energy = -109.117757430666\n",
            "converged SCF energy = -109.067788391036\n",
            "converged SCF energy = -109.041117149999\n",
            "converged SCF energy = -107.280564778174\n",
            "converged SCF energy = -109.108223960437\n",
            "converged SCF energy = -109.056606778152\n",
            "converged SCF energy = -109.030690793317\n",
            "converged SCF energy = -107.270962676546\n",
            "converged SCF energy = -109.099131960742\n",
            "converged SCF energy = -109.045912212937\n",
            "converged SCF energy = -109.020733159148\n",
            "converged SCF energy = -107.261797118013\n",
            "converged SCF energy = -109.090464274233\n",
            "converged SCF energy = -109.035686077512\n",
            "converged SCF energy = -109.011221463174\n",
            "converged SCF energy = -107.253051448274\n",
            "converged SCF energy = -109.082204210151\n",
            "converged SCF energy = -109.025910340287\n",
            "converged SCF energy = -109.002141381278\n",
            "converged SCF energy = -107.244707578372\n",
            "converged SCF energy = -109.074333797223\n",
            "converged SCF energy = -109.016565479304\n",
            "converged SCF energy = -108.993478224576\n",
            "converged SCF energy = -107.236749018941\n",
            "converged SCF energy = -109.066836615165\n",
            "converged SCF energy = -109.007633867833\n",
            "converged SCF energy = -108.985212975884\n",
            "converged SCF energy = -107.229158923612\n",
            "converged SCF energy = -109.059695975122\n",
            "converged SCF energy = -108.999097595426\n",
            "converged SCF energy = -108.977330136404\n",
            "converged SCF energy = -107.221920789336\n",
            "converged SCF energy = -109.052895562399\n",
            "converged SCF energy = -108.990939184571\n",
            "converged SCF energy = -108.969817350827\n",
            "converged SCF energy = -107.215018545772\n",
            "converged SCF energy = -109.046419489865\n",
            "converged SCF energy = -108.983141642861\n",
            "converged SCF energy = -108.962656799417\n",
            "converged SCF energy = -107.208436716722\n",
            "converged SCF energy = -109.040252488228\n",
            "converged SCF energy = -108.975688620698\n",
            "converged SCF energy = -108.955831722903\n",
            "converged SCF energy = -107.20216052092\n",
            "converged SCF energy = -109.034380049353\n",
            "converged SCF energy = -108.968564531195\n",
            "converged SCF energy = -108.949329142524\n",
            "converged SCF energy = -107.196175768974\n",
            "converged SCF energy = -109.02878828244\n",
            "converged SCF energy = -108.961754436621\n",
            "converged SCF energy = -108.943135258107\n"
          ]
        }
      ]
    },
    {
      "cell_type": "markdown",
      "source": [
        "### Analysis of Results"
      ],
      "metadata": {
        "id": "zWxMqqLIaqut"
      }
    },
    {
      "cell_type": "code",
      "source": [
        "plt.figure(1)\n",
        "for k,e_eV in enumerate(energy_dft_eV):\n",
        "  plt.plot(bondlengths,e_eV,label=XC_Functionals[k])\n",
        "plt.legend()\n",
        "plt.ylim([0,20])\n",
        "plt.xlabel(\"Bondlength [Angstrom]\")\n",
        "plt.ylabel(\"Potential Energy [eV]\")\n",
        "plt.title(\"{0}-{0} Potential Energy Curve\".format(Atom))\n",
        "\n",
        "plt.show()"
      ],
      "metadata": {
        "id": "JkNqRjjy8Xe7",
        "outputId": "fe37b11d-19b8-4fdc-ddc6-c335dcddd95f",
        "colab": {
          "base_uri": "https://localhost:8080/",
          "height": 472
        }
      },
      "execution_count": 13,
      "outputs": [
        {
          "output_type": "display_data",
          "data": {
            "text/plain": [
              "<Figure size 640x480 with 1 Axes>"
            ],
            "image/png": "[encoded data removed]"
          },
          "metadata": {}
        }
      ]
    }
  ]
}