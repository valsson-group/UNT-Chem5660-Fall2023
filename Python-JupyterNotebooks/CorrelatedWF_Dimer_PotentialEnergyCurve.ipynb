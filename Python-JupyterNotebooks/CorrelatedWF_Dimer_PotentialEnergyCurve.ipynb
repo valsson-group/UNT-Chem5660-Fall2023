{
  "nbformat": 4,
  "nbformat_minor": 0,
  "metadata": {
    "colab": {
      "provenance": []
    },
    "kernelspec": {
      "name": "python3",
      "display_name": "Python 3"
    },
    "language_info": {
      "name": "python"
    }
  },
  "cells": [
    {
      "cell_type": "markdown",
      "source": [
        "# Potential Energy Curve for a Homonuclear Diatomic Molecule\n",
        "\n"
      ],
      "metadata": {
        "id": "e6uNCpGJZNWi"
      }
    },
    {
      "cell_type": "markdown",
      "source": [
        "## Setup python environment and imports"
      ],
      "metadata": {
        "id": "4joQFSzXZuuW"
      }
    },
    {
      "cell_type": "code",
      "execution_count": 1,
      "metadata": {
        "id": "mnJj_M1D4POB"
      },
      "outputs": [],
      "source": [
        "%%capture\n",
        "!pip install pyscf\n"
      ]
    },
    {
      "cell_type": "code",
      "source": [
        "# pyscf imports:\n",
        "from pyscf import gto, scf, mp, ci, cc\n",
        "\n",
        "from pyscf.data.nist import HARTREE2EV\n",
        "\n",
        "# For plotting\n",
        "import matplotlib\n",
        "from matplotlib import pyplot as plt\n",
        "\n",
        "# For numerics:\n",
        "import numpy as np"
      ],
      "metadata": {
        "id": "pboBu2_u4wvv"
      },
      "execution_count": 53,
      "outputs": []
    },
    {
      "cell_type": "markdown",
      "source": [
        "## Definition of the Molecule"
      ],
      "metadata": {
        "id": "bRJa_BnUZ_pD"
      }
    },
    {
      "cell_type": "markdown",
      "source": [
        "Here you should define the homonuclear diatomic molecule to be considered.\n",
        "\n"
      ],
      "metadata": {
        "id": "hWFvM4lXI8tw"
      }
    },
    {
      "cell_type": "code",
      "source": [
        "Atom=\"N\""
      ],
      "metadata": {
        "id": "NPIa8E67ZX-0"
      },
      "execution_count": 3,
      "outputs": []
    },
    {
      "cell_type": "markdown",
      "source": [
        "## Definition of the Functions to Generate the XYZ Coordiates and Calculations"
      ],
      "metadata": {
        "id": "TyRYjxlSZfgV"
      }
    },
    {
      "cell_type": "code",
      "source": [
        "def get_xyz(bondlength,atom=\"N\"):\n",
        "  xyz=\"{:2s} {:10.6f} {:10.6f} {:10.6f}\\n\".format(atom,bondlength/2,0.0,0.0)\n",
        "  xyz+=\"{:2s} {:10.6f} {:10.6f} {:10.6f}\\n\".format(atom,-bondlength/2,0.0,0.0)\n",
        "  return xyz"
      ],
      "metadata": {
        "id": "YxQmT22s7T3W"
      },
      "execution_count": 4,
      "outputs": []
    },
    {
      "cell_type": "code",
      "source": [
        "def run_calculation_hf(xyz, basis=\"cc-pvdz\"):\n",
        "    \"\"\"Calculate the energy (+ additional things like MO coefficients) with pyscf.\"\"\"\n",
        "    mol = gto.M(\n",
        "        atom=xyz,\n",
        "        basis=basis,\n",
        "        unit=\"ANG\",\n",
        "        symmetry=True,\n",
        "    )\n",
        "    mol.build()\n",
        "    mf = mol.RHF().run()\n",
        "    return mf.e_tot\n",
        "\n",
        "def run_calculation_mp2(xyz, basis=\"cc-pvdz\"):\n",
        "    \"\"\"Calculate the energy (+ additional things like MO coefficients) with pyscf.\"\"\"\n",
        "    mol = gto.M(\n",
        "        atom=xyz,\n",
        "        basis=basis,\n",
        "        unit=\"ANG\",\n",
        "        symmetry=True,\n",
        "    )\n",
        "    mol.build()\n",
        "    mf = mol.RHF().run()\n",
        "    mf_mp2 = mp.MP2(mf).run()\n",
        "    return mf_mp2.e_tot\n",
        "\n",
        "def run_calculation_cisd(xyz, basis=\"cc-pvdz\"):\n",
        "    \"\"\"Calculate the energy (+ additional things like MO coefficients) with pyscf.\"\"\"\n",
        "    mol = gto.M(\n",
        "        atom=xyz,\n",
        "        basis=basis,\n",
        "        unit=\"ANG\",\n",
        "        symmetry=True,\n",
        "    )\n",
        "    mol.build()\n",
        "    mf = mol.RHF().run()\n",
        "    mf_cisd = ci.CISD(mf).run()\n",
        "    return mf_cisd.e_tot\n",
        "\n",
        "def run_calculation_ccsd(xyz, basis=\"cc-pvdz\"):\n",
        "    \"\"\"Calculate the energy (+ additional things like MO coefficients) with pyscf.\"\"\"\n",
        "    mol = gto.M(\n",
        "        atom=xyz,\n",
        "        basis=basis,\n",
        "        unit=\"ANG\",\n",
        "        symmetry=True,\n",
        "    )\n",
        "    mol.build()\n",
        "    mf = mol.RHF().run()\n",
        "    mf_ccsd = cc.CCSD(mf).run()\n",
        "    et = mf_ccsd.ccsd_t()\n",
        "    return mf_ccsd.e_tot, mf_ccsd.e_tot+et"
      ],
      "metadata": {
        "id": "T6nfWMhP7yvE"
      },
      "execution_count": 65,
      "outputs": []
    },
    {
      "cell_type": "markdown",
      "source": [
        "## Hartree-Fock calculations with different basis sets"
      ],
      "metadata": {
        "id": "yR6G8M80aBp_"
      }
    },
    {
      "cell_type": "code",
      "source": [
        "bondlengths = np.linspace(0.8,1.8,20)\n",
        "\n",
        "basis_set=\"cc-pvdz\"\n",
        "\n",
        "energy_hf    = np.zeros(bondlengths.size)\n",
        "energy_mp2   = np.zeros(bondlengths.size)\n",
        "energy_cisd  = np.zeros(bondlengths.size)\n",
        "energy_ccsd  = np.zeros(bondlengths.size)\n",
        "energy_ccsdt = np.zeros(bondlengths.size)\n",
        "\n",
        "for i, bl in enumerate(bondlengths):\n",
        "  xyz=get_xyz(bondlength=bl,atom=Atom)\n",
        "  energy_hf[i] = run_calculation_hf(xyz,basis=basis_set)\n",
        "  energy_mp2[i] = run_calculation_mp2(xyz,basis=basis_set)\n",
        "  energy_cisd[i] = run_calculation_cisd(xyz,basis=basis_set)\n",
        "  energy_ccsd[i], energy_ccsdt[i] = run_calculation_ccsd(xyz,basis=basis_set)\n",
        "\n",
        "energy_hf_eV = (energy_hf-np.min(energy_hf))*HARTREE2EV\n",
        "energy_mp2_eV = (energy_mp2-np.min(energy_mp2))*HARTREE2EV\n",
        "energy_cisd_eV = (energy_cisd-np.min(energy_cisd))*HARTREE2EV\n",
        "energy_ccsd_eV = (energy_ccsd-np.min(energy_ccsd))*HARTREE2EV\n",
        "energy_ccsdt_eV = (energy_ccsdt-np.min(energy_ccsdt))*HARTREE2EV\n",
        "\n",
        ""
      ],
      "metadata": {
        "id": "YyzgCnK08Psh",
        "outputId": "bfd58b4f-c44b-4a91-89a1-a551015f74d5",
        "colab": {
          "base_uri": "https://localhost:8080/"
        }
      },
      "execution_count": 66,
      "outputs": [
        {
          "output_type": "stream",
          "name": "stdout",
          "text": [
            "converged SCF energy = -108.40735863448\n",
            "converged SCF energy = -108.40735863448\n",
            "E(MP2) = -108.645735742509  E_corr = -0.238377108028913\n",
            "E(SCS-MP2) = -108.639664895327  E_corr = -0.232306260846981\n",
            "converged SCF energy = -108.40735863448\n",
            "E(RCISD) = -108.648478823875  E_corr = -0.2411201893948629\n",
            "converged SCF energy = -108.40735863448\n",
            "E(CCSD) = -108.6598548325029  E_corr = -0.2524961980228027\n",
            "CCSD(T) correction = -0.00547090629290842\n",
            "converged SCF energy = -108.642435855906\n",
            "converged SCF energy = -108.642435855906\n",
            "E(MP2) = -108.891788674196  E_corr = -0.249352818289259\n",
            "E(SCS-MP2) = -108.885214578606  E_corr = -0.24277872269957\n",
            "converged SCF energy = -108.642435855906\n",
            "E(RCISD) = -108.892300539723  E_corr = -0.2498646838166882\n",
            "converged SCF energy = -108.642435855906\n",
            "E(CCSD) = -108.905023568017  E_corr = -0.2625877121105945\n",
            "CCSD(T) correction = -0.0062544718947831\n",
            "converged SCF energy = -108.795044238407\n",
            "converged SCF energy = -108.795044238407\n",
            "E(MP2) = -109.055935965317  E_corr = -0.260891726909636\n",
            "E(SCS-MP2) = -109.048811625776  E_corr = -0.253767387368983\n",
            "converged SCF energy = -108.795044238407\n",
            "E(RCISD) = -109.0537044120862  E_corr = -0.258660173679151\n",
            "converged SCF energy = -108.795044238407\n",
            "E(CCSD) = -109.0679210568096  E_corr = -0.2728768184025016\n",
            "CCSD(T) correction = -0.00717280591903874\n",
            "converged SCF energy = -108.887660668451\n",
            "converged SCF energy = -108.887660668451\n",
            "E(MP2) = -109.160818886276  E_corr = -0.273158217825327\n",
            "E(SCS-MP2) = -109.153071822458  E_corr = -0.265411154007362\n",
            "converged SCF energy = -108.887660668451\n",
            "E(RCISD) = -109.1552078995299  E_corr = -0.2675472310788263\n",
            "converged SCF energy = -108.887660668451\n",
            "E(CCSD) = -109.1710823195939  E_corr = -0.2834216511430084\n",
            "CCSD(T) correction = -0.00824232310626425\n",
            "converged SCF energy = -108.936837382987\n",
            "converged SCF energy = -108.936837382987\n",
            "E(MP2) = -109.223164819992  E_corr = -0.28632743700433\n",
            "E(SCS-MP2) = -109.214701299975  E_corr = -0.277863916987388\n",
            "converged SCF energy = -108.936837382988\n",
            "E(RCISD) = -109.2134026474212  E_corr = -0.2765652644336085\n",
            "converged SCF energy = -108.936837382988\n",
            "E(CCSD) = -109.2311185117352  E_corr = -0.2942811287474969\n",
            "CCSD(T) correction = -0.00947928493894406\n",
            "converged SCF energy = -108.954815353316\n",
            "converged SCF energy = -108.954815353316\n",
            "E(MP2) = -109.255390941521  E_corr = -0.300575588204322\n",
            "E(SCS-MP2) = -109.246098071143  E_corr = -0.29128271782642\n",
            "converged SCF energy = -108.954815353316\n",
            "E(RCISD) = -109.2405577168922  E_corr = -0.2857423635760497\n",
            "converged SCF energy = -108.954815353316\n",
            "E(CCSD) = -109.2603186138536  E_corr = -0.3055032605373602\n",
            "CCSD(T) correction = -0.0108988463885156\n",
            "converged SCF energy = -108.950665433533\n",
            "converged SCF energy = -108.950665433533\n",
            "E(MP2) = -109.266742485427  E_corr = -0.316077051893513\n",
            "E(SCS-MP2) = -109.256489088521  E_corr = -0.30582365498792\n",
            "converged SCF energy = -108.950665433533\n",
            "E(RCISD) = -109.245757795939  E_corr = -0.2950923624058541\n",
            "converged SCF energy = -108.950665433533\n",
            "E(CCSD) = -109.2677868769083  E_corr = -0.3171214433753068\n",
            "CCSD(T) correction = -0.0125146588141178\n",
            "converged SCF energy = -108.931089754169\n",
            "converged SCF energy = -108.931089754169\n",
            "E(MP2) = -109.26408850121  E_corr = -0.332998747040515\n",
            "E(SCS-MP2) = -109.252725939694  E_corr = -0.32163618552499\n",
            "converged SCF energy = -108.931089754169\n",
            "E(RCISD) = -109.2357024517406  E_corr = -0.3046126975716241\n",
            "converged SCF energy = -108.931089754169\n",
            "E(CCSD) = -109.2602411632366  E_corr = -0.3291514090675327\n",
            "CCSD(T) correction = -0.0143384876406934\n",
            "converged SCF energy = -108.901022636681\n",
            "converged SCF energy = -108.901022636681\n",
            "E(MP2) = -109.252516752745  E_corr = -0.351494116064118\n",
            "E(SCS-MP2) = -109.239880345583  E_corr = -0.338857708902305\n",
            "converged SCF energy = -108.901022636681\n",
            "E(RCISD) = -109.2153072135891  E_corr = -0.3142845769082534\n",
            "converged SCF energy = -108.901022636681\n",
            "E(CCSD) = -109.2426137414753  E_corr = -0.3415911047943777\n",
            "CCSD(T) correction = -0.0163801588343853\n",
            "converged SCF energy = -108.864079841091\n",
            "converged SCF energy = -108.864079841091\n",
            "E(MP2) = -109.235781035358  E_corr = -0.371701194266234\n",
            "E(SCS-MP2) = -109.221692050612  E_corr = -0.357612209520952\n",
            "converged SCF energy = -108.864079841091\n",
            "E(RCISD) = -109.1881568199757  E_corr = -0.3240769788844262\n",
            "converged SCF energy = -108.864079841091\n",
            "E(CCSD) = -109.2185044715096  E_corr = -0.3544246304182735\n",
            "CCSD(T) correction = -0.0186482511240082\n",
            "converged SCF energy = -108.822907347618\n",
            "converged SCF energy = -108.822907347618\n",
            "E(MP2) = -109.216641648188  E_corr = -0.393734300570361\n",
            "E(SCS-MP2) = -109.200910283572  E_corr = -0.378002935954037\n",
            "converged SCF energy = -108.822907347618\n",
            "E(RCISD) = -109.1568555951246  E_corr = -0.333948247506652\n",
            "converged SCF energy = -108.822907347618\n",
            "E(CCSD) = -109.1905324937612  E_corr = -0.3676251461432043\n",
            "CCSD(T) correction = -0.0211508576579805\n",
            "converged SCF energy = -108.779429047137\n",
            "converged SCF energy = -108.779429047137\n",
            "E(MP2) = -109.197112534251  E_corr = -0.417683487113844\n",
            "E(SCS-MP2) = -109.179541129886  E_corr = -0.400112082748193\n",
            "converged SCF energy = -108.779429047137\n",
            "E(RCISD) = -109.1232809078909  E_corr = -0.3438518607535963\n",
            "converged SCF energy = -108.779429047137\n",
            "E(CCSD) = -109.1605914059872  E_corr = -0.3811623588498338\n",
            "CCSD(T) correction = -0.0238977698968831\n",
            "converged SCF energy = -108.73503248482\n",
            "converged SCF energy = -108.73503248482\n",
            "E(MP2) = -109.17864315998  E_corr = -0.443610675160174\n",
            "E(SCS-MP2) = -109.159029568396  E_corr = -0.423997083576692\n",
            "converged SCF energy = -108.73503248482\n",
            "E(RCISD) = -109.0887723210239  E_corr = -0.3537398362041861\n",
            "converged SCF energy = -108.73503248482\n",
            "E(CCSD) = -109.1300416461652  E_corr = -0.3950091613454654\n",
            "CCSD(T) correction = -0.0269033163374476\n",
            "converged SCF energy = -108.690695574846\n",
            "converged SCF energy = -108.690695574846\n",
            "E(MP2) = -109.162248698018  E_corr = -0.471553123171917\n",
            "E(SCS-MP2) = -109.140388989209  E_corr = -0.449693414363101\n",
            "converged SCF energy = -108.690695574846\n",
            "E(RCISD) = -109.0542633169788  E_corr = -0.3635677421324379\n",
            "converged SCF energy = -108.690695574846\n",
            "E(CCSD) = -109.0998466341693  E_corr = -0.40915105932297\n",
            "CCSD(T) correction = -0.03019102197999\n",
            "converged SCF energy = -108.647096704724\n",
            "converged SCF energy = -108.647096704724\n",
            "E(MP2) = -109.148615502439  E_corr = -0.501518797715115\n",
            "E(SCS-MP2) = -109.124306532477  E_corr = -0.477209827753023\n",
            "converged SCF energy = -108.647096704724\n",
            "E(RCISD) = -109.0203917126202  E_corr = -0.3732950078966876\n",
            "converged SCF energy = -108.647096704724\n",
            "E(CCSD) = -109.070687233659  E_corr = -0.4235905289353769\n",
            "CCSD(T) correction = -0.0337984757709527\n",
            "converged SCF energy = -108.604685444326\n",
            "converged SCF energy = -108.604685444326\n",
            "E(MP2) = -109.138178616184  E_corr = -0.533493171858249\n",
            "E(SCS-MP2) = -109.111219614855  E_corr = -0.506534170529681\n",
            "converged SCF energy = -108.604685444326\n",
            "E(RCISD) = -108.98757337009  E_corr = -0.3828879257642659\n",
            "converged SCF energy = -108.604685444326\n",
            "E(CCSD) = -109.0430422336347  E_corr = -0.4383567893089508\n",
            "CCSD(T) correction = -0.0377849997952725\n",
            "converged SCF energy = -108.563745603702\n",
            "converged SCF energy = -108.563745603702\n",
            "E(MP2) = -109.131187905025  E_corr = -0.567442301323028\n",
            "E(SCS-MP2) = -109.101381539751  E_corr = -0.537635936048885\n",
            "converged SCF energy = -108.563745603702\n",
            "E(RCISD) = -108.9560653465596  E_corr = -0.3923197428573815\n",
            "converged SCF energy = -108.563745603702\n",
            "E(CCSD) = -109.0172578435616  E_corr = -0.453512239859269\n",
            "CCSD(T) correction = -0.042240272925821\n",
            "converged SCF energy = -108.524445028706\n",
            "converged SCF energy = -108.524445028706\n",
            "E(MP2) = -109.127760827029  E_corr = -0.603315798322338\n",
            "E(SCS-MP2) = -109.09491395547  E_corr = -0.570468926764187\n",
            "converged SCF energy = -108.524445028706\n",
            "E(RCISD) = -108.9260149863319  E_corr = -0.4015699576257257\n",
            "converged SCF energy = -108.524445028706\n",
            "E(CCSD) = -108.9936043189032  E_corr = -0.4691592901970396\n",
            "CCSD(T) correction = -0.0472952432124159\n",
            "converged SCF energy = -108.486866491294\n",
            "converged SCF energy = -108.486866491294\n",
            "E(MP2) = -109.127922940468  E_corr = -0.641056449174034\n",
            "E(SCS-MP2) = -109.091846638892  E_corr = -0.604980147597889\n",
            "converged SCF energy = -108.486866491294\n",
            "E(RCISD) = -108.8974913148198  E_corr = -0.4106248235257429\n",
            "converged SCF energy = -108.486866491294\n",
            "E(CCSD) = -108.9723185023675  E_corr = -0.4854520110733334\n",
            "CCSD(T) correction = -0.053137484367741\n",
            "converged SCF energy = -108.451043240343\n",
            "converged SCF energy = -108.451043240343\n",
            "E(MP2) = -109.131638720831  E_corr = -0.680595480488702\n",
            "E(SCS-MP2) = -109.092148883189  E_corr = -0.641105642846179\n",
            "converged SCF energy = -108.451043240343\n",
            "E(RCISD) = -108.8705173350474  E_corr = -0.4194740947046812\n",
            "converged SCF energy = -108.451043240343\n",
            "E(CCSD) = -108.9536415093777  E_corr = -0.5025982690349799\n",
            "CCSD(T) correction = -0.0600257415925428\n"
          ]
        }
      ]
    },
    {
      "cell_type": "markdown",
      "source": [
        "### Analysis of Results"
      ],
      "metadata": {
        "id": "zWxMqqLIaqut"
      }
    },
    {
      "cell_type": "code",
      "source": [
        "plt.figure(1)\n",
        "plt.plot(bondlengths,energy_hf_eV,label=\"HF/{}\".format(basis_set))\n",
        "plt.plot(bondlengths,energy_mp2_eV,label=\"MP2/{}\".format(basis_set))\n",
        "plt.plot(bondlengths,energy_cisd_eV,label=\"CISD/{}\".format(basis_set))\n",
        "plt.plot(bondlengths,energy_ccsd_eV,label=\"CCSD/{}\".format(basis_set))\n",
        "plt.plot(bondlengths,energy_ccsdt_eV,label=\"CCSD(T)/{}\".format(basis_set))\n",
        "plt.legend()\n",
        "plt.ylim([0,30])\n",
        "plt.xlabel(\"Bondlength [Angstrom]\")\n",
        "plt.ylabel(\"Potential Energy [eV]\")\n",
        "plt.title(\"{0}-{0} Potential Energy Curve\".format(Atom))\n",
        "\n",
        "plt.show()"
      ],
      "metadata": {
        "id": "JkNqRjjy8Xe7",
        "outputId": "51877553-f22e-405c-e7ab-722c62fb5ba1",
        "colab": {
          "base_uri": "https://localhost:8080/",
          "height": 472
        }
      },
      "execution_count": 67,
      "outputs": [
        {
          "output_type": "display_data",
          "data": {
            "text/plain": [
              "<Figure size 640x480 with 1 Axes>"
            ],
            "image/png": "[encoded data removed]"
          },
          "metadata": {}
        }
      ]
    }
  ]
}