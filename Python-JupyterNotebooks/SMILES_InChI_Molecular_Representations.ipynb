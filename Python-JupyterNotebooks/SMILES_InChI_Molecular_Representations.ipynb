{
  "nbformat": 4,
  "nbformat_minor": 0,
  "metadata": {
    "colab": {
      "provenance": [],
      "collapsed_sections": [
        "_jR3EjKnMkh8"
      ]
    },
    "kernelspec": {
      "name": "python3",
      "display_name": "Python 3"
    },
    "language_info": {
      "name": "python"
    }
  },
  "cells": [
    {
      "cell_type": "markdown",
      "source": [
        "# SMILES and InChl Molecular Representations\n",
        "\n"
      ],
      "metadata": {
        "id": "RIPXBsdlgm0j"
      }
    },
    {
      "cell_type": "markdown",
      "source": [
        "# Imports and Function Definitions"
      ],
      "metadata": {
        "id": "_jR3EjKnMkh8"
      }
    },
    {
      "cell_type": "code",
      "execution_count": null,
      "metadata": {
        "id": "e8QZ9jJ1BcgK"
      },
      "outputs": [],
      "source": [
        "%%capture\n",
        "!pip install rdkit\n",
        "!pip install py3Dmol\n",
        "!pip install ipywidgets"
      ]
    },
    {
      "cell_type": "code",
      "source": [
        "# RDKit imports:\n",
        "from rdkit import Chem\n",
        "from rdkit.Chem import (\n",
        "    AllChem,\n",
        "    rdCoordGen,\n",
        ")\n",
        "from rdkit.Chem.Draw import IPythonConsole\n",
        "\n",
        "IPythonConsole.ipython_useSVG = True\n",
        "\n",
        "import py3Dmol"
      ],
      "metadata": {
        "id": "Aqqt3FznBur1"
      },
      "execution_count": null,
      "outputs": []
    },
    {
      "cell_type": "code",
      "source": [
        "def get_xyz(molecule, optimize=False):\n",
        "    \"\"\"Get xyz-coordinates for the molecule\"\"\"\n",
        "    mol = Chem.Mol(molecule)\n",
        "    mol = AllChem.AddHs(mol, addCoords=True)\n",
        "    AllChem.EmbedMolecule(mol)\n",
        "    if optimize:  # Optimize the molecules with the MM force field:\n",
        "        AllChem.MMFFOptimizeMolecule(mol)\n",
        "    xyz = []\n",
        "    for lines in Chem.MolToXYZBlock(mol).split(\"\\n\")[2:]:\n",
        "        strip = lines.strip()\n",
        "        if strip:\n",
        "            xyz.append(strip)\n",
        "    xyz = \"\\n\".join(xyz)\n",
        "    return mol, xyz"
      ],
      "metadata": {
        "id": "l6qnmU6QCjMZ"
      },
      "execution_count": null,
      "outputs": []
    },
    {
      "cell_type": "markdown",
      "source": [
        "# Molecule from SMILES String"
      ],
      "metadata": {
        "id": "5NYe7vLLM2cO"
      }
    },
    {
      "cell_type": "markdown",
      "source": [
        "### Define SMILES String for Molecule\n",
        "\n"
      ],
      "metadata": {
        "id": "ctJdKmrBNPyl"
      }
    },
    {
      "cell_type": "code",
      "source": [
        "molecule_smiles = \"CC1=C(C(CCC1)(C)C)/C=C/C(=C/C=C\\C(=C\\C=O)\\C)/CC\"\n"
      ],
      "metadata": {
        "id": "W5A8iNv9C3I8"
      },
      "execution_count": null,
      "outputs": []
    },
    {
      "cell_type": "markdown",
      "source": [
        "## Do All Calculations"
      ],
      "metadata": {
        "id": "U3gKDuqPPxpo"
      }
    },
    {
      "cell_type": "code",
      "source": [
        "molecule = Chem.MolFromSmiles(molecule_smiles)\n",
        "molecule"
      ],
      "metadata": {
        "colab": {
          "base_uri": "https://localhost:8080/",
          "height": 171
        },
        "id": "GkFYAMAbPw2H",
        "outputId": "dc1c9398-1432-47a3-de94-b7d84fa123b4"
      },
      "execution_count": null,
      "outputs": [
        {
          "output_type": "execute_result",
          "data": {
            "text/plain": [
              "<rdkit.Chem.rdchem.Mol at 0x7afc00133ca0>"
            ],
            "text/html": [
              "<?xml version='1.0' encoding='iso-8859-1'?>\n",
              "<svg version='1.1' baseProfile='full'\n",
              "              xmlns='http://www.w3.org/2000/svg'\n",
              "                      xmlns:rdkit='http://www.rdkit.org/xml'\n",
              "                      xmlns:xlink='http://www.w3.org/1999/xlink'\n",
              "                  xml:space='preserve'\n",
              "width='450px' height='150px' viewBox='0 0 450 150'>\n",
              "<!-- END OF HEADER -->\n",
              "<rect style='opacity:1.0;fill:#FFFFFF;stroke:none' width='450.0' height='150.0' x='0.0' y='0.0'> </rect>\n",
              "<path class='bond-0 atom-0 atom-1' d='M 280.0,131.7 L 310.0,122.1' style='fill:none;fill-rule:evenodd;stroke:#000000;stroke-width:2.0px;stroke-linecap:butt;stroke-linejoin:miter;stroke-opacity:1' />\n",
              "<path class='bond-1 atom-1 atom-2' d='M 310.0,122.1 L 316.6,91.3' style='fill:none;fill-rule:evenodd;stroke:#000000;stroke-width:2.0px;stroke-linecap:butt;stroke-linejoin:miter;stroke-opacity:1' />\n",
              "<path class='bond-1 atom-1 atom-2' d='M 315.2,120.4 L 320.6,94.9' style='fill:none;fill-rule:evenodd;stroke:#000000;stroke-width:2.0px;stroke-linecap:butt;stroke-linejoin:miter;stroke-opacity:1' />\n",
              "<path class='bond-2 atom-2 atom-3' d='M 316.6,91.3 L 346.5,81.6' style='fill:none;fill-rule:evenodd;stroke:#000000;stroke-width:2.0px;stroke-linecap:butt;stroke-linejoin:miter;stroke-opacity:1' />\n",
              "<path class='bond-3 atom-3 atom-4' d='M 346.5,81.6 L 369.9,102.7' style='fill:none;fill-rule:evenodd;stroke:#000000;stroke-width:2.0px;stroke-linecap:butt;stroke-linejoin:miter;stroke-opacity:1' />\n",
              "<path class='bond-4 atom-4 atom-5' d='M 369.9,102.7 L 363.3,133.5' style='fill:none;fill-rule:evenodd;stroke:#000000;stroke-width:2.0px;stroke-linecap:butt;stroke-linejoin:miter;stroke-opacity:1' />\n",
              "<path class='bond-5 atom-5 atom-6' d='M 363.3,133.5 L 333.3,143.2' style='fill:none;fill-rule:evenodd;stroke:#000000;stroke-width:2.0px;stroke-linecap:butt;stroke-linejoin:miter;stroke-opacity:1' />\n",
              "<path class='bond-6 atom-3 atom-7' d='M 346.5,81.6 L 331.8,53.8' style='fill:none;fill-rule:evenodd;stroke:#000000;stroke-width:2.0px;stroke-linecap:butt;stroke-linejoin:miter;stroke-opacity:1' />\n",
              "<path class='bond-7 atom-3 atom-8' d='M 346.5,81.6 L 371.4,62.3' style='fill:none;fill-rule:evenodd;stroke:#000000;stroke-width:2.0px;stroke-linecap:butt;stroke-linejoin:miter;stroke-opacity:1' />\n",
              "<path class='bond-8 atom-2 atom-9' d='M 316.6,91.3 L 293.2,70.2' style='fill:none;fill-rule:evenodd;stroke:#000000;stroke-width:2.0px;stroke-linecap:butt;stroke-linejoin:miter;stroke-opacity:1' />\n",
              "<path class='bond-9 atom-9 atom-10' d='M 293.2,70.2 L 263.2,79.8' style='fill:none;fill-rule:evenodd;stroke:#000000;stroke-width:2.0px;stroke-linecap:butt;stroke-linejoin:miter;stroke-opacity:1' />\n",
              "<path class='bond-9 atom-9 atom-10' d='M 292.1,75.5 L 264.7,84.3' style='fill:none;fill-rule:evenodd;stroke:#000000;stroke-width:2.0px;stroke-linecap:butt;stroke-linejoin:miter;stroke-opacity:1' />\n",
              "<path class='bond-10 atom-10 atom-11' d='M 263.2,79.8 L 239.9,58.7' style='fill:none;fill-rule:evenodd;stroke:#000000;stroke-width:2.0px;stroke-linecap:butt;stroke-linejoin:miter;stroke-opacity:1' />\n",
              "<path class='bond-11 atom-11 atom-12' d='M 239.9,58.7 L 209.9,68.4' style='fill:none;fill-rule:evenodd;stroke:#000000;stroke-width:2.0px;stroke-linecap:butt;stroke-linejoin:miter;stroke-opacity:1' />\n",
              "<path class='bond-11 atom-11 atom-12' d='M 235.8,55.1 L 211.1,63.1' style='fill:none;fill-rule:evenodd;stroke:#000000;stroke-width:2.0px;stroke-linecap:butt;stroke-linejoin:miter;stroke-opacity:1' />\n",
              "<path class='bond-12 atom-12 atom-13' d='M 209.9,68.4 L 186.5,47.3' style='fill:none;fill-rule:evenodd;stroke:#000000;stroke-width:2.0px;stroke-linecap:butt;stroke-linejoin:miter;stroke-opacity:1' />\n",
              "<path class='bond-13 atom-13 atom-14' d='M 186.5,47.3 L 156.6,57.0' style='fill:none;fill-rule:evenodd;stroke:#000000;stroke-width:2.0px;stroke-linecap:butt;stroke-linejoin:miter;stroke-opacity:1' />\n",
              "<path class='bond-13 atom-13 atom-14' d='M 185.4,52.6 L 160.6,60.6' style='fill:none;fill-rule:evenodd;stroke:#000000;stroke-width:2.0px;stroke-linecap:butt;stroke-linejoin:miter;stroke-opacity:1' />\n",
              "<path class='bond-14 atom-14 atom-15' d='M 156.6,57.0 L 150.0,87.7' style='fill:none;fill-rule:evenodd;stroke:#000000;stroke-width:2.0px;stroke-linecap:butt;stroke-linejoin:miter;stroke-opacity:1' />\n",
              "<path class='bond-15 atom-15 atom-16' d='M 150.0,87.7 L 120.0,97.4' style='fill:none;fill-rule:evenodd;stroke:#000000;stroke-width:2.0px;stroke-linecap:butt;stroke-linejoin:miter;stroke-opacity:1' />\n",
              "<path class='bond-15 atom-15 atom-16' d='M 148.8,93.1 L 124.1,101.1' style='fill:none;fill-rule:evenodd;stroke:#000000;stroke-width:2.0px;stroke-linecap:butt;stroke-linejoin:miter;stroke-opacity:1' />\n",
              "<path class='bond-16 atom-16 atom-17' d='M 120.0,97.4 L 113.4,128.2' style='fill:none;fill-rule:evenodd;stroke:#000000;stroke-width:2.0px;stroke-linecap:butt;stroke-linejoin:miter;stroke-opacity:1' />\n",
              "<path class='bond-17 atom-17 atom-18' d='M 113.4,128.2 L 101.0,132.2' style='fill:none;fill-rule:evenodd;stroke:#000000;stroke-width:2.0px;stroke-linecap:butt;stroke-linejoin:miter;stroke-opacity:1' />\n",
              "<path class='bond-17 atom-17 atom-18' d='M 101.0,132.2 L 88.6,136.2' style='fill:none;fill-rule:evenodd;stroke:#FF0000;stroke-width:2.0px;stroke-linecap:butt;stroke-linejoin:miter;stroke-opacity:1' />\n",
              "<path class='bond-17 atom-17 atom-18' d='M 109.4,124.6 L 99.5,127.7' style='fill:none;fill-rule:evenodd;stroke:#000000;stroke-width:2.0px;stroke-linecap:butt;stroke-linejoin:miter;stroke-opacity:1' />\n",
              "<path class='bond-17 atom-17 atom-18' d='M 99.5,127.7 L 87.1,131.7' style='fill:none;fill-rule:evenodd;stroke:#FF0000;stroke-width:2.0px;stroke-linecap:butt;stroke-linejoin:miter;stroke-opacity:1' />\n",
              "<path class='bond-18 atom-15 atom-19' d='M 150.0,87.7 L 173.3,108.9' style='fill:none;fill-rule:evenodd;stroke:#000000;stroke-width:2.0px;stroke-linecap:butt;stroke-linejoin:miter;stroke-opacity:1' />\n",
              "<path class='bond-19 atom-11 atom-20' d='M 239.9,58.7 L 246.5,27.9' style='fill:none;fill-rule:evenodd;stroke:#000000;stroke-width:2.0px;stroke-linecap:butt;stroke-linejoin:miter;stroke-opacity:1' />\n",
              "<path class='bond-20 atom-20 atom-21' d='M 246.5,27.9 L 223.1,6.8' style='fill:none;fill-rule:evenodd;stroke:#000000;stroke-width:2.0px;stroke-linecap:butt;stroke-linejoin:miter;stroke-opacity:1' />\n",
              "<path class='bond-21 atom-6 atom-1' d='M 333.3,143.2 L 310.0,122.1' style='fill:none;fill-rule:evenodd;stroke:#000000;stroke-width:2.0px;stroke-linecap:butt;stroke-linejoin:miter;stroke-opacity:1' />\n",
              "<path d='M 368.7,101.7 L 369.9,102.7 L 369.6,104.3' style='fill:none;stroke:#000000;stroke-width:2.0px;stroke-linecap:butt;stroke-linejoin:miter;stroke-opacity:1;' />\n",
              "<path d='M 363.6,132.0 L 363.3,133.5 L 361.8,134.0' style='fill:none;stroke:#000000;stroke-width:2.0px;stroke-linecap:butt;stroke-linejoin:miter;stroke-opacity:1;' />\n",
              "<path d='M 334.8,142.7 L 333.3,143.2 L 332.2,142.1' style='fill:none;stroke:#000000;stroke-width:2.0px;stroke-linecap:butt;stroke-linejoin:miter;stroke-opacity:1;' />\n",
              "<path d='M 294.4,71.2 L 293.2,70.2 L 291.7,70.6' style='fill:none;stroke:#000000;stroke-width:2.0px;stroke-linecap:butt;stroke-linejoin:miter;stroke-opacity:1;' />\n",
              "<path d='M 264.7,79.4 L 263.2,79.8 L 262.1,78.8' style='fill:none;stroke:#000000;stroke-width:2.0px;stroke-linecap:butt;stroke-linejoin:miter;stroke-opacity:1;' />\n",
              "<path d='M 211.4,67.9 L 209.9,68.4 L 208.7,67.3' style='fill:none;stroke:#000000;stroke-width:2.0px;stroke-linecap:butt;stroke-linejoin:miter;stroke-opacity:1;' />\n",
              "<path d='M 187.7,48.3 L 186.5,47.3 L 185.0,47.8' style='fill:none;stroke:#000000;stroke-width:2.0px;stroke-linecap:butt;stroke-linejoin:miter;stroke-opacity:1;' />\n",
              "<path d='M 158.1,56.5 L 156.6,57.0 L 156.2,58.5' style='fill:none;stroke:#000000;stroke-width:2.0px;stroke-linecap:butt;stroke-linejoin:miter;stroke-opacity:1;' />\n",
              "<path d='M 121.5,96.9 L 120.0,97.4 L 119.7,99.0' style='fill:none;stroke:#000000;stroke-width:2.0px;stroke-linecap:butt;stroke-linejoin:miter;stroke-opacity:1;' />\n",
              "<path d='M 113.7,126.7 L 113.4,128.2 L 112.8,128.4' style='fill:none;stroke:#000000;stroke-width:2.0px;stroke-linecap:butt;stroke-linejoin:miter;stroke-opacity:1;' />\n",
              "<path d='M 246.2,29.5 L 246.5,27.9 L 245.3,26.9' style='fill:none;stroke:#000000;stroke-width:2.0px;stroke-linecap:butt;stroke-linejoin:miter;stroke-opacity:1;' />\n",
              "<path class='atom-18' d='M 78.6 135.7\n",
              "Q 78.6 133.5, 79.7 132.3\n",
              "Q 80.7 131.1, 82.7 131.1\n",
              "Q 84.7 131.1, 85.7 132.3\n",
              "Q 86.8 133.5, 86.8 135.7\n",
              "Q 86.8 137.8, 85.7 139.1\n",
              "Q 84.7 140.3, 82.7 140.3\n",
              "Q 80.7 140.3, 79.7 139.1\n",
              "Q 78.6 137.8, 78.6 135.7\n",
              "M 82.7 139.3\n",
              "Q 84.1 139.3, 84.8 138.4\n",
              "Q 85.5 137.4, 85.5 135.7\n",
              "Q 85.5 133.9, 84.8 133.0\n",
              "Q 84.1 132.1, 82.7 132.1\n",
              "Q 81.4 132.1, 80.6 133.0\n",
              "Q 79.9 133.9, 79.9 135.7\n",
              "Q 79.9 137.5, 80.6 138.4\n",
              "Q 81.4 139.3, 82.7 139.3\n",
              "' fill='#FF0000'/>\n",
              "</svg>\n"
            ],
            "image/svg+xml": "<?xml version='1.0' encoding='iso-8859-1'?>\n<svg version='1.1' baseProfile='full'\n              xmlns='http://www.w3.org/2000/svg'\n                      xmlns:rdkit='http://www.rdkit.org/xml'\n                      xmlns:xlink='http://www.w3.org/1999/xlink'\n                  xml:space='preserve'\nwidth='450px' height='150px' viewBox='0 0 450 150'>\n<!-- END OF HEADER -->\n<rect style='opacity:1.0;fill:#FFFFFF;stroke:none' width='450.0' height='150.0' x='0.0' y='0.0'> </rect>\n<path class='bond-0 atom-0 atom-1' d='M 280.0,131.7 L 310.0,122.1' style='fill:none;fill-rule:evenodd;stroke:#000000;stroke-width:2.0px;stroke-linecap:butt;stroke-linejoin:miter;stroke-opacity:1' />\n<path class='bond-1 atom-1 atom-2' d='M 310.0,122.1 L 316.6,91.3' style='fill:none;fill-rule:evenodd;stroke:#000000;stroke-width:2.0px;stroke-linecap:butt;stroke-linejoin:miter;stroke-opacity:1' />\n<path class='bond-1 atom-1 atom-2' d='M 315.2,120.4 L 320.6,94.9' style='fill:none;fill-rule:evenodd;stroke:#000000;stroke-width:2.0px;stroke-linecap:butt;stroke-linejoin:miter;stroke-opacity:1' />\n<path class='bond-2 atom-2 atom-3' d='M 316.6,91.3 L 346.5,81.6' style='fill:none;fill-rule:evenodd;stroke:#000000;stroke-width:2.0px;stroke-linecap:butt;stroke-linejoin:miter;stroke-opacity:1' />\n<path class='bond-3 atom-3 atom-4' d='M 346.5,81.6 L 369.9,102.7' style='fill:none;fill-rule:evenodd;stroke:#000000;stroke-width:2.0px;stroke-linecap:butt;stroke-linejoin:miter;stroke-opacity:1' />\n<path class='bond-4 atom-4 atom-5' d='M 369.9,102.7 L 363.3,133.5' style='fill:none;fill-rule:evenodd;stroke:#000000;stroke-width:2.0px;stroke-linecap:butt;stroke-linejoin:miter;stroke-opacity:1' />\n<path class='bond-5 atom-5 atom-6' d='M 363.3,133.5 L 333.3,143.2' style='fill:none;fill-rule:evenodd;stroke:#000000;stroke-width:2.0px;stroke-linecap:butt;stroke-linejoin:miter;stroke-opacity:1' />\n<path class='bond-6 atom-3 atom-7' d='M 346.5,81.6 L 331.8,53.8' style='fill:none;fill-rule:evenodd;stroke:#000000;stroke-width:2.0px;stroke-linecap:butt;stroke-linejoin:miter;stroke-opacity:1' />\n<path class='bond-7 atom-3 atom-8' d='M 346.5,81.6 L 371.4,62.3' style='fill:none;fill-rule:evenodd;stroke:#000000;stroke-width:2.0px;stroke-linecap:butt;stroke-linejoin:miter;stroke-opacity:1' />\n<path class='bond-8 atom-2 atom-9' d='M 316.6,91.3 L 293.2,70.2' style='fill:none;fill-rule:evenodd;stroke:#000000;stroke-width:2.0px;stroke-linecap:butt;stroke-linejoin:miter;stroke-opacity:1' />\n<path class='bond-9 atom-9 atom-10' d='M 293.2,70.2 L 263.2,79.8' style='fill:none;fill-rule:evenodd;stroke:#000000;stroke-width:2.0px;stroke-linecap:butt;stroke-linejoin:miter;stroke-opacity:1' />\n<path class='bond-9 atom-9 atom-10' d='M 292.1,75.5 L 264.7,84.3' style='fill:none;fill-rule:evenodd;stroke:#000000;stroke-width:2.0px;stroke-linecap:butt;stroke-linejoin:miter;stroke-opacity:1' />\n<path class='bond-10 atom-10 atom-11' d='M 263.2,79.8 L 239.9,58.7' style='fill:none;fill-rule:evenodd;stroke:#000000;stroke-width:2.0px;stroke-linecap:butt;stroke-linejoin:miter;stroke-opacity:1' />\n<path class='bond-11 atom-11 atom-12' d='M 239.9,58.7 L 209.9,68.4' style='fill:none;fill-rule:evenodd;stroke:#000000;stroke-width:2.0px;stroke-linecap:butt;stroke-linejoin:miter;stroke-opacity:1' />\n<path class='bond-11 atom-11 atom-12' d='M 235.8,55.1 L 211.1,63.1' style='fill:none;fill-rule:evenodd;stroke:#000000;stroke-width:2.0px;stroke-linecap:butt;stroke-linejoin:miter;stroke-opacity:1' />\n<path class='bond-12 atom-12 atom-13' d='M 209.9,68.4 L 186.5,47.3' style='fill:none;fill-rule:evenodd;stroke:#000000;stroke-width:2.0px;stroke-linecap:butt;stroke-linejoin:miter;stroke-opacity:1' />\n<path class='bond-13 atom-13 atom-14' d='M 186.5,47.3 L 156.6,57.0' style='fill:none;fill-rule:evenodd;stroke:#000000;stroke-width:2.0px;stroke-linecap:butt;stroke-linejoin:miter;stroke-opacity:1' />\n<path class='bond-13 atom-13 atom-14' d='M 185.4,52.6 L 160.6,60.6' style='fill:none;fill-rule:evenodd;stroke:#000000;stroke-width:2.0px;stroke-linecap:butt;stroke-linejoin:miter;stroke-opacity:1' />\n<path class='bond-14 atom-14 atom-15' d='M 156.6,57.0 L 150.0,87.7' style='fill:none;fill-rule:evenodd;stroke:#000000;stroke-width:2.0px;stroke-linecap:butt;stroke-linejoin:miter;stroke-opacity:1' />\n<path class='bond-15 atom-15 atom-16' d='M 150.0,87.7 L 120.0,97.4' style='fill:none;fill-rule:evenodd;stroke:#000000;stroke-width:2.0px;stroke-linecap:butt;stroke-linejoin:miter;stroke-opacity:1' />\n<path class='bond-15 atom-15 atom-16' d='M 148.8,93.1 L 124.1,101.1' style='fill:none;fill-rule:evenodd;stroke:#000000;stroke-width:2.0px;stroke-linecap:butt;stroke-linejoin:miter;stroke-opacity:1' />\n<path class='bond-16 atom-16 atom-17' d='M 120.0,97.4 L 113.4,128.2' style='fill:none;fill-rule:evenodd;stroke:#000000;stroke-width:2.0px;stroke-linecap:butt;stroke-linejoin:miter;stroke-opacity:1' />\n<path class='bond-17 atom-17 atom-18' d='M 113.4,128.2 L 101.0,132.2' style='fill:none;fill-rule:evenodd;stroke:#000000;stroke-width:2.0px;stroke-linecap:butt;stroke-linejoin:miter;stroke-opacity:1' />\n<path class='bond-17 atom-17 atom-18' d='M 101.0,132.2 L 88.6,136.2' style='fill:none;fill-rule:evenodd;stroke:#FF0000;stroke-width:2.0px;stroke-linecap:butt;stroke-linejoin:miter;stroke-opacity:1' />\n<path class='bond-17 atom-17 atom-18' d='M 109.4,124.6 L 99.5,127.7' style='fill:none;fill-rule:evenodd;stroke:#000000;stroke-width:2.0px;stroke-linecap:butt;stroke-linejoin:miter;stroke-opacity:1' />\n<path class='bond-17 atom-17 atom-18' d='M 99.5,127.7 L 87.1,131.7' style='fill:none;fill-rule:evenodd;stroke:#FF0000;stroke-width:2.0px;stroke-linecap:butt;stroke-linejoin:miter;stroke-opacity:1' />\n<path class='bond-18 atom-15 atom-19' d='M 150.0,87.7 L 173.3,108.9' style='fill:none;fill-rule:evenodd;stroke:#000000;stroke-width:2.0px;stroke-linecap:butt;stroke-linejoin:miter;stroke-opacity:1' />\n<path class='bond-19 atom-11 atom-20' d='M 239.9,58.7 L 246.5,27.9' style='fill:none;fill-rule:evenodd;stroke:#000000;stroke-width:2.0px;stroke-linecap:butt;stroke-linejoin:miter;stroke-opacity:1' />\n<path class='bond-20 atom-20 atom-21' d='M 246.5,27.9 L 223.1,6.8' style='fill:none;fill-rule:evenodd;stroke:#000000;stroke-width:2.0px;stroke-linecap:butt;stroke-linejoin:miter;stroke-opacity:1' />\n<path class='bond-21 atom-6 atom-1' d='M 333.3,143.2 L 310.0,122.1' style='fill:none;fill-rule:evenodd;stroke:#000000;stroke-width:2.0px;stroke-linecap:butt;stroke-linejoin:miter;stroke-opacity:1' />\n<path d='M 368.7,101.7 L 369.9,102.7 L 369.6,104.3' style='fill:none;stroke:#000000;stroke-width:2.0px;stroke-linecap:butt;stroke-linejoin:miter;stroke-opacity:1;' />\n<path d='M 363.6,132.0 L 363.3,133.5 L 361.8,134.0' style='fill:none;stroke:#000000;stroke-width:2.0px;stroke-linecap:butt;stroke-linejoin:miter;stroke-opacity:1;' />\n<path d='M 334.8,142.7 L 333.3,143.2 L 332.2,142.1' style='fill:none;stroke:#000000;stroke-width:2.0px;stroke-linecap:butt;stroke-linejoin:miter;stroke-opacity:1;' />\n<path d='M 294.4,71.2 L 293.2,70.2 L 291.7,70.6' style='fill:none;stroke:#000000;stroke-width:2.0px;stroke-linecap:butt;stroke-linejoin:miter;stroke-opacity:1;' />\n<path d='M 264.7,79.4 L 263.2,79.8 L 262.1,78.8' style='fill:none;stroke:#000000;stroke-width:2.0px;stroke-linecap:butt;stroke-linejoin:miter;stroke-opacity:1;' />\n<path d='M 211.4,67.9 L 209.9,68.4 L 208.7,67.3' style='fill:none;stroke:#000000;stroke-width:2.0px;stroke-linecap:butt;stroke-linejoin:miter;stroke-opacity:1;' />\n<path d='M 187.7,48.3 L 186.5,47.3 L 185.0,47.8' style='fill:none;stroke:#000000;stroke-width:2.0px;stroke-linecap:butt;stroke-linejoin:miter;stroke-opacity:1;' />\n<path d='M 158.1,56.5 L 156.6,57.0 L 156.2,58.5' style='fill:none;stroke:#000000;stroke-width:2.0px;stroke-linecap:butt;stroke-linejoin:miter;stroke-opacity:1;' />\n<path d='M 121.5,96.9 L 120.0,97.4 L 119.7,99.0' style='fill:none;stroke:#000000;stroke-width:2.0px;stroke-linecap:butt;stroke-linejoin:miter;stroke-opacity:1;' />\n<path d='M 113.7,126.7 L 113.4,128.2 L 112.8,128.4' style='fill:none;stroke:#000000;stroke-width:2.0px;stroke-linecap:butt;stroke-linejoin:miter;stroke-opacity:1;' />\n<path d='M 246.2,29.5 L 246.5,27.9 L 245.3,26.9' style='fill:none;stroke:#000000;stroke-width:2.0px;stroke-linecap:butt;stroke-linejoin:miter;stroke-opacity:1;' />\n<path class='atom-18' d='M 78.6 135.7\nQ 78.6 133.5, 79.7 132.3\nQ 80.7 131.1, 82.7 131.1\nQ 84.7 131.1, 85.7 132.3\nQ 86.8 133.5, 86.8 135.7\nQ 86.8 137.8, 85.7 139.1\nQ 84.7 140.3, 82.7 140.3\nQ 80.7 140.3, 79.7 139.1\nQ 78.6 137.8, 78.6 135.7\nM 82.7 139.3\nQ 84.1 139.3, 84.8 138.4\nQ 85.5 137.4, 85.5 135.7\nQ 85.5 133.9, 84.8 133.0\nQ 84.1 132.1, 82.7 132.1\nQ 81.4 132.1, 80.6 133.0\nQ 79.9 133.9, 79.9 135.7\nQ 79.9 137.5, 80.6 138.4\nQ 81.4 139.3, 82.7 139.3\n' fill='#FF0000'/>\n</svg>\n",
            "image/png": "[encoded data removed]"
          },
          "metadata": {},
          "execution_count": 9
        }
      ]
    },
    {
      "cell_type": "markdown",
      "source": [
        "### Get XYZ Cartesian Coordinates"
      ],
      "metadata": {
        "id": "D77DGFVAM2TS"
      }
    },
    {
      "cell_type": "code",
      "source": [
        "molecule3d, xyz = get_xyz(molecule, optimize=True)\n",
        "print(xyz)"
      ],
      "metadata": {
        "colab": {
          "base_uri": "https://localhost:8080/"
        },
        "id": "B2m13TLILoHC",
        "outputId": "9df7f8c4-8471-4ff6-cd6f-7f8ad4c30808"
      },
      "execution_count": null,
      "outputs": [
        {
          "output_type": "stream",
          "name": "stdout",
          "text": [
            "C     -3.211454   -1.067035   -2.168970\n",
            "C     -3.394223   -0.162420   -0.979067\n",
            "C     -2.439019    0.656718   -0.491356\n",
            "C     -2.684866    1.619135    0.689551\n",
            "C     -4.201884    1.810565    0.946260\n",
            "C     -4.961533    0.491267    0.931535\n",
            "C     -4.794666   -0.218547   -0.405368\n",
            "C     -2.094461    3.021081    0.435043\n",
            "C     -2.022942    1.046066    1.962394\n",
            "C     -1.120368    0.724726   -1.111509\n",
            "C     -0.083718   -0.058773   -0.763098\n",
            "C      1.271320   -0.015334   -1.324042\n",
            "C      2.231805   -0.750517   -0.725805\n",
            "C      3.610398   -0.877617   -1.150049\n",
            "C      4.674474   -1.305799   -0.447733\n",
            "C      4.825088   -1.667486    0.962978\n",
            "C      5.879748   -2.434038    1.301099\n",
            "C      6.186945   -2.915594    2.670437\n",
            "O      7.230771   -3.509938    2.911453\n",
            "C      3.878026   -1.079097    1.979670\n",
            "C      1.538855    0.889818   -2.517120\n",
            "C      1.112172    0.255583   -3.836133\n",
            "H     -2.171300   -1.145210   -2.509789\n",
            "H     -3.547810   -2.082404   -1.932658\n",
            "H     -3.805901   -0.687034   -3.005146\n",
            "H     -4.364970    2.308668    1.909973\n",
            "H     -4.625826    2.475085    0.187910\n",
            "H     -6.027690    0.671934    1.117425\n",
            "H     -4.612730   -0.160311    1.741788\n",
            "H     -5.476783    0.238980   -1.134956\n",
            "H     -5.111390   -1.263642   -0.285906\n",
            "H     -2.368338    3.716290    1.239611\n",
            "H     -1.001487    2.997315    0.390593\n",
            "H     -2.456577    3.443730   -0.503355\n",
            "H     -2.383701    0.038155    2.191082\n",
            "H     -0.929970    0.978513    1.849338\n",
            "H     -2.216787    1.680720    2.834357\n",
            "H     -1.029409    1.495750   -1.877801\n",
            "H     -0.251167   -0.794369    0.027314\n",
            "H      1.960694   -1.352960    0.135808\n",
            "H      3.795026   -0.648111   -2.196598\n",
            "H      5.597470   -1.393109   -1.026180\n",
            "H      6.590752   -2.791226    0.555662\n",
            "H      5.433928   -2.735097    3.452228\n",
            "H      4.364951   -0.906796    2.950278\n",
            "H      3.020240   -1.742844    2.143598\n",
            "H      3.517355   -0.090160    1.669441\n",
            "H      2.601270    1.150854   -2.594382\n",
            "H      1.045642    1.853340   -2.383516\n",
            "H      1.630702   -0.694481   -4.012595\n",
            "H      1.351002    0.924271   -4.676673\n",
            "H      0.042337    0.061385   -3.850074\n"
          ]
        }
      ]
    },
    {
      "cell_type": "markdown",
      "source": [
        "### Visualize 3D Molecular Structure"
      ],
      "metadata": {
        "id": "GPlaETjWNzgU"
      }
    },
    {
      "cell_type": "code",
      "source": [
        "view = py3Dmol.view(\n",
        "    data=Chem.MolToMolBlock(molecule3d),\n",
        "    style={\"stick\": {}, \"sphere\": {\"scale\": 0.3}},\n",
        "    width=600,\n",
        "    height=600,\n",
        ")\n",
        "view.zoomTo()"
      ],
      "metadata": {
        "colab": {
          "base_uri": "https://localhost:8080/",
          "height": 635
        },
        "id": "2tKcS6x_Lteb",
        "outputId": "bc2b6a12-bf2f-4ccd-aaf1-1568329d3bf1"
      },
      "execution_count": null,
      "outputs": [
        {
          "output_type": "display_data",
          "data": {
            "application/3dmoljs_load.v0": "<div id=\"3dmolviewer_1692711337859294\"  style=\"position: relative; width: 600px; height: 600px;\">\n        <p id=\"3dmolwarning_1692711337859294\" style=\"background-color:#ffcccc;color:black\">You appear to be running in JupyterLab (or JavaScript failed to load for some other reason).  You need to install the 3dmol extension: <br>\n        <tt>jupyter labextension install jupyterlab_3dmol</tt></p>\n        </div>\n<script>\n\nvar loadScriptAsync = function(uri){\n  return new Promise((resolve, reject) => {\n    //this is to ignore the existence of requirejs amd\n    var savedexports, savedmodule;\n    if (typeof exports !== 'undefined') savedexports = exports;\n    else exports = {}\n    if (typeof module !== 'undefined') savedmodule = module;\n    else module = {}\n\n    var tag = document.createElement('script');\n    tag.src = uri;\n    tag.async = true;\n    tag.onload = () => {\n        exports = savedexports;\n        module = savedmodule;\n        resolve();\n    };\n  var firstScriptTag = document.getElementsByTagName('script')[0];\n  firstScriptTag.parentNode.insertBefore(tag, firstScriptTag);\n});\n};\n\nif(typeof $3Dmolpromise === 'undefined') {\n$3Dmolpromise = null;\n  $3Dmolpromise = loadScriptAsync('https://cdnjs.cloudflare.com/ajax/libs/3Dmol/2.0.3/3Dmol-min.js');\n}\n\nvar viewer_1692711337859294 = null;\nvar warn = document.getElementById(\"3dmolwarning_1692711337859294\");\nif(warn) {\n    warn.parentNode.removeChild(warn);\n}\n$3Dmolpromise.then(function() {\nviewer_1692711337859294 = $3Dmol.createViewer(document.getElementById(\"3dmolviewer_1692711337859294\"),{backgroundColor:\"white\"});\nviewer_1692711337859294.addModel(\"\\n     RDKit          3D\\n\\n 52 52  0  0  0  0  0  0  0  0999 V2000\\n   -3.2115   -1.0670   -2.1690 C   0  0  0  0  0  0  0  0  0  0  0  0\\n   -3.3942   -0.1624   -0.9791 C   0  0  0  0  0  0  0  0  0  0  0  0\\n   -2.4390    0.6567   -0.4914 C   0  0  0  0  0  0  0  0  0  0  0  0\\n   -2.6849    1.6191    0.6896 C   0  0  0  0  0  0  0  0  0  0  0  0\\n   -4.2019    1.8106    0.9463 C   0  0  0  0  0  0  0  0  0  0  0  0\\n   -4.9615    0.4913    0.9315 C   0  0  0  0  0  0  0  0  0  0  0  0\\n   -4.7947   -0.2185   -0.4054 C   0  0  0  0  0  0  0  0  0  0  0  0\\n   -2.0945    3.0211    0.4350 C   0  0  0  0  0  0  0  0  0  0  0  0\\n   -2.0229    1.0461    1.9624 C   0  0  0  0  0  0  0  0  0  0  0  0\\n   -1.1204    0.7247   -1.1115 C   0  0  0  0  0  0  0  0  0  0  0  0\\n   -0.0837   -0.0588   -0.7631 C   0  0  0  0  0  0  0  0  0  0  0  0\\n    1.2713   -0.0153   -1.3240 C   0  0  0  0  0  0  0  0  0  0  0  0\\n    2.2318   -0.7505   -0.7258 C   0  0  0  0  0  0  0  0  0  0  0  0\\n    3.6104   -0.8776   -1.1500 C   0  0  0  0  0  0  0  0  0  0  0  0\\n    4.6745   -1.3058   -0.4477 C   0  0  0  0  0  0  0  0  0  0  0  0\\n    4.8251   -1.6675    0.9630 C   0  0  0  0  0  0  0  0  0  0  0  0\\n    5.8797   -2.4340    1.3011 C   0  0  0  0  0  0  0  0  0  0  0  0\\n    6.1869   -2.9156    2.6704 C   0  0  0  0  0  0  0  0  0  0  0  0\\n    7.2308   -3.5099    2.9115 O   0  0  0  0  0  0  0  0  0  0  0  0\\n    3.8780   -1.0791    1.9797 C   0  0  0  0  0  0  0  0  0  0  0  0\\n    1.5389    0.8898   -2.5171 C   0  0  0  0  0  0  0  0  0  0  0  0\\n    1.1122    0.2556   -3.8361 C   0  0  0  0  0  0  0  0  0  0  0  0\\n   -2.1713   -1.1452   -2.5098 H   0  0  0  0  0  0  0  0  0  0  0  0\\n   -3.5478   -2.0824   -1.9327 H   0  0  0  0  0  0  0  0  0  0  0  0\\n   -3.8059   -0.6870   -3.0051 H   0  0  0  0  0  0  0  0  0  0  0  0\\n   -4.3650    2.3087    1.9100 H   0  0  0  0  0  0  0  0  0  0  0  0\\n   -4.6258    2.4751    0.1879 H   0  0  0  0  0  0  0  0  0  0  0  0\\n   -6.0277    0.6719    1.1174 H   0  0  0  0  0  0  0  0  0  0  0  0\\n   -4.6127   -0.1603    1.7418 H   0  0  0  0  0  0  0  0  0  0  0  0\\n   -5.4768    0.2390   -1.1350 H   0  0  0  0  0  0  0  0  0  0  0  0\\n   -5.1114   -1.2636   -0.2859 H   0  0  0  0  0  0  0  0  0  0  0  0\\n   -2.3683    3.7163    1.2396 H   0  0  0  0  0  0  0  0  0  0  0  0\\n   -1.0015    2.9973    0.3906 H   0  0  0  0  0  0  0  0  0  0  0  0\\n   -2.4566    3.4437   -0.5034 H   0  0  0  0  0  0  0  0  0  0  0  0\\n   -2.3837    0.0382    2.1911 H   0  0  0  0  0  0  0  0  0  0  0  0\\n   -0.9300    0.9785    1.8493 H   0  0  0  0  0  0  0  0  0  0  0  0\\n   -2.2168    1.6807    2.8344 H   0  0  0  0  0  0  0  0  0  0  0  0\\n   -1.0294    1.4957   -1.8778 H   0  0  0  0  0  0  0  0  0  0  0  0\\n   -0.2512   -0.7944    0.0273 H   0  0  0  0  0  0  0  0  0  0  0  0\\n    1.9607   -1.3530    0.1358 H   0  0  0  0  0  0  0  0  0  0  0  0\\n    3.7950   -0.6481   -2.1966 H   0  0  0  0  0  0  0  0  0  0  0  0\\n    5.5975   -1.3931   -1.0262 H   0  0  0  0  0  0  0  0  0  0  0  0\\n    6.5908   -2.7912    0.5557 H   0  0  0  0  0  0  0  0  0  0  0  0\\n    5.4339   -2.7351    3.4522 H   0  0  0  0  0  0  0  0  0  0  0  0\\n    4.3650   -0.9068    2.9503 H   0  0  0  0  0  0  0  0  0  0  0  0\\n    3.0202   -1.7428    2.1436 H   0  0  0  0  0  0  0  0  0  0  0  0\\n    3.5174   -0.0902    1.6694 H   0  0  0  0  0  0  0  0  0  0  0  0\\n    2.6013    1.1509   -2.5944 H   0  0  0  0  0  0  0  0  0  0  0  0\\n    1.0456    1.8533   -2.3835 H   0  0  0  0  0  0  0  0  0  0  0  0\\n    1.6307   -0.6945   -4.0126 H   0  0  0  0  0  0  0  0  0  0  0  0\\n    1.3510    0.9243   -4.6767 H   0  0  0  0  0  0  0  0  0  0  0  0\\n    0.0423    0.0614   -3.8501 H   0  0  0  0  0  0  0  0  0  0  0  0\\n  1  2  1  0\\n  2  3  2  0\\n  3  4  1  0\\n  4  5  1  0\\n  5  6  1  0\\n  6  7  1  0\\n  4  8  1  0\\n  4  9  1  0\\n  3 10  1  0\\n 10 11  2  0\\n 11 12  1  0\\n 12 13  2  0\\n 13 14  1  0\\n 14 15  2  0\\n 15 16  1  0\\n 16 17  2  0\\n 17 18  1  0\\n 18 19  2  0\\n 16 20  1  0\\n 12 21  1  0\\n 21 22  1  0\\n  7  2  1  0\\n  1 23  1  0\\n  1 24  1  0\\n  1 25  1  0\\n  5 26  1  0\\n  5 27  1  0\\n  6 28  1  0\\n  6 29  1  0\\n  7 30  1  0\\n  7 31  1  0\\n  8 32  1  0\\n  8 33  1  0\\n  8 34  1  0\\n  9 35  1  0\\n  9 36  1  0\\n  9 37  1  0\\n 10 38  1  0\\n 11 39  1  0\\n 13 40  1  0\\n 14 41  1  0\\n 15 42  1  0\\n 17 43  1  0\\n 18 44  1  0\\n 20 45  1  0\\n 20 46  1  0\\n 20 47  1  0\\n 21 48  1  0\\n 21 49  1  0\\n 22 50  1  0\\n 22 51  1  0\\n 22 52  1  0\\nM  END\\n\");\nviewer_1692711337859294.setStyle({\"stick\": {}, \"sphere\": {\"scale\": 0.3}});\nviewer_1692711337859294.zoomTo();\n\tviewer_1692711337859294.zoomTo();\nviewer_1692711337859294.render();\n});\n</script>",
            "text/html": [
              "<div id=\"3dmolviewer_1692711337859294\"  style=\"position: relative; width: 600px; height: 600px;\">\n",
              "        <p id=\"3dmolwarning_1692711337859294\" style=\"background-color:#ffcccc;color:black\">You appear to be running in JupyterLab (or JavaScript failed to load for some other reason).  You need to install the 3dmol extension: <br>\n",
              "        <tt>jupyter labextension install jupyterlab_3dmol</tt></p>\n",
              "        </div>\n",
              "<script>\n",
              "\n",
              "var loadScriptAsync = function(uri){\n",
              "  return new Promise((resolve, reject) => {\n",
              "    //this is to ignore the existence of requirejs amd\n",
              "    var savedexports, savedmodule;\n",
              "    if (typeof exports !== 'undefined') savedexports = exports;\n",
              "    else exports = {}\n",
              "    if (typeof module !== 'undefined') savedmodule = module;\n",
              "    else module = {}\n",
              "\n",
              "    var tag = document.createElement('script');\n",
              "    tag.src = uri;\n",
              "    tag.async = true;\n",
              "    tag.onload = () => {\n",
              "        exports = savedexports;\n",
              "        module = savedmodule;\n",
              "        resolve();\n",
              "    };\n",
              "  var firstScriptTag = document.getElementsByTagName('script')[0];\n",
              "  firstScriptTag.parentNode.insertBefore(tag, firstScriptTag);\n",
              "});\n",
              "};\n",
              "\n",
              "if(typeof $3Dmolpromise === 'undefined') {\n",
              "$3Dmolpromise = null;\n",
              "  $3Dmolpromise = loadScriptAsync('https://cdnjs.cloudflare.com/ajax/libs/3Dmol/2.0.3/3Dmol-min.js');\n",
              "}\n",
              "\n",
              "var viewer_1692711337859294 = null;\n",
              "var warn = document.getElementById(\"3dmolwarning_1692711337859294\");\n",
              "if(warn) {\n",
              "    warn.parentNode.removeChild(warn);\n",
              "}\n",
              "$3Dmolpromise.then(function() {\n",
              "viewer_1692711337859294 = $3Dmol.createViewer(document.getElementById(\"3dmolviewer_1692711337859294\"),{backgroundColor:\"white\"});\n",
              "viewer_1692711337859294.addModel(\"\\n     RDKit          3D\\n\\n 52 52  0  0  0  0  0  0  0  0999 V2000\\n   -3.2115   -1.0670   -2.1690 C   0  0  0  0  0  0  0  0  0  0  0  0\\n   -3.3942   -0.1624   -0.9791 C   0  0  0  0  0  0  0  0  0  0  0  0\\n   -2.4390    0.6567   -0.4914 C   0  0  0  0  0  0  0  0  0  0  0  0\\n   -2.6849    1.6191    0.6896 C   0  0  0  0  0  0  0  0  0  0  0  0\\n   -4.2019    1.8106    0.9463 C   0  0  0  0  0  0  0  0  0  0  0  0\\n   -4.9615    0.4913    0.9315 C   0  0  0  0  0  0  0  0  0  0  0  0\\n   -4.7947   -0.2185   -0.4054 C   0  0  0  0  0  0  0  0  0  0  0  0\\n   -2.0945    3.0211    0.4350 C   0  0  0  0  0  0  0  0  0  0  0  0\\n   -2.0229    1.0461    1.9624 C   0  0  0  0  0  0  0  0  0  0  0  0\\n   -1.1204    0.7247   -1.1115 C   0  0  0  0  0  0  0  0  0  0  0  0\\n   -0.0837   -0.0588   -0.7631 C   0  0  0  0  0  0  0  0  0  0  0  0\\n    1.2713   -0.0153   -1.3240 C   0  0  0  0  0  0  0  0  0  0  0  0\\n    2.2318   -0.7505   -0.7258 C   0  0  0  0  0  0  0  0  0  0  0  0\\n    3.6104   -0.8776   -1.1500 C   0  0  0  0  0  0  0  0  0  0  0  0\\n    4.6745   -1.3058   -0.4477 C   0  0  0  0  0  0  0  0  0  0  0  0\\n    4.8251   -1.6675    0.9630 C   0  0  0  0  0  0  0  0  0  0  0  0\\n    5.8797   -2.4340    1.3011 C   0  0  0  0  0  0  0  0  0  0  0  0\\n    6.1869   -2.9156    2.6704 C   0  0  0  0  0  0  0  0  0  0  0  0\\n    7.2308   -3.5099    2.9115 O   0  0  0  0  0  0  0  0  0  0  0  0\\n    3.8780   -1.0791    1.9797 C   0  0  0  0  0  0  0  0  0  0  0  0\\n    1.5389    0.8898   -2.5171 C   0  0  0  0  0  0  0  0  0  0  0  0\\n    1.1122    0.2556   -3.8361 C   0  0  0  0  0  0  0  0  0  0  0  0\\n   -2.1713   -1.1452   -2.5098 H   0  0  0  0  0  0  0  0  0  0  0  0\\n   -3.5478   -2.0824   -1.9327 H   0  0  0  0  0  0  0  0  0  0  0  0\\n   -3.8059   -0.6870   -3.0051 H   0  0  0  0  0  0  0  0  0  0  0  0\\n   -4.3650    2.3087    1.9100 H   0  0  0  0  0  0  0  0  0  0  0  0\\n   -4.6258    2.4751    0.1879 H   0  0  0  0  0  0  0  0  0  0  0  0\\n   -6.0277    0.6719    1.1174 H   0  0  0  0  0  0  0  0  0  0  0  0\\n   -4.6127   -0.1603    1.7418 H   0  0  0  0  0  0  0  0  0  0  0  0\\n   -5.4768    0.2390   -1.1350 H   0  0  0  0  0  0  0  0  0  0  0  0\\n   -5.1114   -1.2636   -0.2859 H   0  0  0  0  0  0  0  0  0  0  0  0\\n   -2.3683    3.7163    1.2396 H   0  0  0  0  0  0  0  0  0  0  0  0\\n   -1.0015    2.9973    0.3906 H   0  0  0  0  0  0  0  0  0  0  0  0\\n   -2.4566    3.4437   -0.5034 H   0  0  0  0  0  0  0  0  0  0  0  0\\n   -2.3837    0.0382    2.1911 H   0  0  0  0  0  0  0  0  0  0  0  0\\n   -0.9300    0.9785    1.8493 H   0  0  0  0  0  0  0  0  0  0  0  0\\n   -2.2168    1.6807    2.8344 H   0  0  0  0  0  0  0  0  0  0  0  0\\n   -1.0294    1.4957   -1.8778 H   0  0  0  0  0  0  0  0  0  0  0  0\\n   -0.2512   -0.7944    0.0273 H   0  0  0  0  0  0  0  0  0  0  0  0\\n    1.9607   -1.3530    0.1358 H   0  0  0  0  0  0  0  0  0  0  0  0\\n    3.7950   -0.6481   -2.1966 H   0  0  0  0  0  0  0  0  0  0  0  0\\n    5.5975   -1.3931   -1.0262 H   0  0  0  0  0  0  0  0  0  0  0  0\\n    6.5908   -2.7912    0.5557 H   0  0  0  0  0  0  0  0  0  0  0  0\\n    5.4339   -2.7351    3.4522 H   0  0  0  0  0  0  0  0  0  0  0  0\\n    4.3650   -0.9068    2.9503 H   0  0  0  0  0  0  0  0  0  0  0  0\\n    3.0202   -1.7428    2.1436 H   0  0  0  0  0  0  0  0  0  0  0  0\\n    3.5174   -0.0902    1.6694 H   0  0  0  0  0  0  0  0  0  0  0  0\\n    2.6013    1.1509   -2.5944 H   0  0  0  0  0  0  0  0  0  0  0  0\\n    1.0456    1.8533   -2.3835 H   0  0  0  0  0  0  0  0  0  0  0  0\\n    1.6307   -0.6945   -4.0126 H   0  0  0  0  0  0  0  0  0  0  0  0\\n    1.3510    0.9243   -4.6767 H   0  0  0  0  0  0  0  0  0  0  0  0\\n    0.0423    0.0614   -3.8501 H   0  0  0  0  0  0  0  0  0  0  0  0\\n  1  2  1  0\\n  2  3  2  0\\n  3  4  1  0\\n  4  5  1  0\\n  5  6  1  0\\n  6  7  1  0\\n  4  8  1  0\\n  4  9  1  0\\n  3 10  1  0\\n 10 11  2  0\\n 11 12  1  0\\n 12 13  2  0\\n 13 14  1  0\\n 14 15  2  0\\n 15 16  1  0\\n 16 17  2  0\\n 17 18  1  0\\n 18 19  2  0\\n 16 20  1  0\\n 12 21  1  0\\n 21 22  1  0\\n  7  2  1  0\\n  1 23  1  0\\n  1 24  1  0\\n  1 25  1  0\\n  5 26  1  0\\n  5 27  1  0\\n  6 28  1  0\\n  6 29  1  0\\n  7 30  1  0\\n  7 31  1  0\\n  8 32  1  0\\n  8 33  1  0\\n  8 34  1  0\\n  9 35  1  0\\n  9 36  1  0\\n  9 37  1  0\\n 10 38  1  0\\n 11 39  1  0\\n 13 40  1  0\\n 14 41  1  0\\n 15 42  1  0\\n 17 43  1  0\\n 18 44  1  0\\n 20 45  1  0\\n 20 46  1  0\\n 20 47  1  0\\n 21 48  1  0\\n 21 49  1  0\\n 22 50  1  0\\n 22 51  1  0\\n 22 52  1  0\\nM  END\\n\");\n",
              "viewer_1692711337859294.setStyle({\"stick\": {}, \"sphere\": {\"scale\": 0.3}});\n",
              "viewer_1692711337859294.zoomTo();\n",
              "\tviewer_1692711337859294.zoomTo();\n",
              "viewer_1692711337859294.render();\n",
              "});\n",
              "</script>"
            ]
          },
          "metadata": {}
        },
        {
          "output_type": "execute_result",
          "data": {
            "text/plain": [
              "<py3Dmol.view at 0x7afbe99314e0>"
            ]
          },
          "metadata": {},
          "execution_count": 11
        }
      ]
    },
    {
      "cell_type": "markdown",
      "source": [
        "# Molecule from InChi String"
      ],
      "metadata": {
        "id": "Pau7gfftOP2N"
      }
    },
    {
      "cell_type": "markdown",
      "source": [
        "### Define InChi String for Molecule"
      ],
      "metadata": {
        "id": "KQitRB7vOYvM"
      }
    },
    {
      "cell_type": "code",
      "source": [
        "molecule_Inchi = \"InChI=1S/C20H28O/c1-16(8-6-9-17(2)13-15-21)11-12-19-18(3)10-7-14-20(19,4)5/h6,8-9,11-13,15H,7,10,14H2,1-5H3/b9-6-,12-11+,16-8+,17-13+\"\n"
      ],
      "metadata": {
        "id": "BcTEKmJTMECP"
      },
      "execution_count": null,
      "outputs": []
    },
    {
      "cell_type": "markdown",
      "source": [
        "## Do All Calculations"
      ],
      "metadata": {
        "id": "yaMGobqbQMFh"
      }
    },
    {
      "cell_type": "code",
      "source": [
        "molecule = Chem.MolFromInchi(molecule_Inchi)\n",
        "molecule"
      ],
      "metadata": {
        "colab": {
          "base_uri": "https://localhost:8080/",
          "height": 171
        },
        "id": "f7tCS4KtQK0Y",
        "outputId": "0b86a787-37e6-42fa-8e5e-595ce6cf7ece"
      },
      "execution_count": null,
      "outputs": [
        {
          "output_type": "execute_result",
          "data": {
            "text/plain": [
              "<rdkit.Chem.rdchem.Mol at 0x7afbe9948040>"
            ],
            "text/html": [
              "<?xml version='1.0' encoding='iso-8859-1'?>\n",
              "<svg version='1.1' baseProfile='full'\n",
              "              xmlns='http://www.w3.org/2000/svg'\n",
              "                      xmlns:rdkit='http://www.rdkit.org/xml'\n",
              "                      xmlns:xlink='http://www.w3.org/1999/xlink'\n",
              "                  xml:space='preserve'\n",
              "width='450px' height='150px' viewBox='0 0 450 150'>\n",
              "<!-- END OF HEADER -->\n",
              "<rect style='opacity:1.0;fill:#FFFFFF;stroke:none' width='450.0' height='150.0' x='0.0' y='0.0'> </rect>\n",
              "<path class='bond-0 atom-0 atom-15' d='M 251.4,6.8 L 243.1,42.7' style='fill:none;fill-rule:evenodd;stroke:#000000;stroke-width:2.0px;stroke-linecap:butt;stroke-linejoin:miter;stroke-opacity:1' />\n",
              "<path class='bond-1 atom-1 atom-16' d='M 164.4,100.3 L 137.4,75.1' style='fill:none;fill-rule:evenodd;stroke:#000000;stroke-width:2.0px;stroke-linecap:butt;stroke-linejoin:miter;stroke-opacity:1' />\n",
              "<path class='bond-2 atom-2 atom-17' d='M 288.8,128.9 L 324.0,118.1' style='fill:none;fill-rule:evenodd;stroke:#000000;stroke-width:2.0px;stroke-linecap:butt;stroke-linejoin:miter;stroke-opacity:1' />\n",
              "<path class='bond-3 atom-3 atom-19' d='M 350.8,38.5 L 367.5,71.4' style='fill:none;fill-rule:evenodd;stroke:#000000;stroke-width:2.0px;stroke-linecap:butt;stroke-linejoin:miter;stroke-opacity:1' />\n",
              "<path class='bond-4 atom-4 atom-19' d='M 396.9,49.1 L 367.5,71.4' style='fill:none;fill-rule:evenodd;stroke:#000000;stroke-width:2.0px;stroke-linecap:butt;stroke-linejoin:miter;stroke-opacity:1' />\n",
              "<path class='bond-5 atom-5 atom-7' d='M 180.9,28.4 L 207.9,53.5' style='fill:none;fill-rule:evenodd;stroke:#000000;stroke-width:2.0px;stroke-linecap:butt;stroke-linejoin:miter;stroke-opacity:1' />\n",
              "<path class='bond-6 atom-5 atom-8' d='M 180.9,28.4 L 145.7,39.2' style='fill:none;fill-rule:evenodd;stroke:#000000;stroke-width:2.0px;stroke-linecap:butt;stroke-linejoin:miter;stroke-opacity:1' />\n",
              "<path class='bond-6 atom-5 atom-8' d='M 179.5,34.6 L 150.3,43.6' style='fill:none;fill-rule:evenodd;stroke:#000000;stroke-width:2.0px;stroke-linecap:butt;stroke-linejoin:miter;stroke-opacity:1' />\n",
              "<path class='bond-7 atom-6 atom-9' d='M 386.2,132.4 L 351.0,143.2' style='fill:none;fill-rule:evenodd;stroke:#000000;stroke-width:2.0px;stroke-linecap:butt;stroke-linejoin:miter;stroke-opacity:1' />\n",
              "<path class='bond-8 atom-6 atom-13' d='M 386.2,132.4 L 394.5,96.5' style='fill:none;fill-rule:evenodd;stroke:#000000;stroke-width:2.0px;stroke-linecap:butt;stroke-linejoin:miter;stroke-opacity:1' />\n",
              "<path class='bond-9 atom-7 atom-15' d='M 207.9,53.5 L 243.1,42.7' style='fill:none;fill-rule:evenodd;stroke:#000000;stroke-width:2.0px;stroke-linecap:butt;stroke-linejoin:miter;stroke-opacity:1' />\n",
              "<path class='bond-9 atom-7 atom-15' d='M 209.3,47.3 L 238.4,38.4' style='fill:none;fill-rule:evenodd;stroke:#000000;stroke-width:2.0px;stroke-linecap:butt;stroke-linejoin:miter;stroke-opacity:1' />\n",
              "<path class='bond-10 atom-8 atom-16' d='M 145.7,39.2 L 137.4,75.1' style='fill:none;fill-rule:evenodd;stroke:#000000;stroke-width:2.0px;stroke-linecap:butt;stroke-linejoin:miter;stroke-opacity:1' />\n",
              "<path class='bond-11 atom-9 atom-17' d='M 351.0,143.2 L 324.0,118.1' style='fill:none;fill-rule:evenodd;stroke:#000000;stroke-width:2.0px;stroke-linecap:butt;stroke-linejoin:miter;stroke-opacity:1' />\n",
              "<path class='bond-12 atom-10 atom-11' d='M 270.1,67.8 L 305.3,57.0' style='fill:none;fill-rule:evenodd;stroke:#000000;stroke-width:2.0px;stroke-linecap:butt;stroke-linejoin:miter;stroke-opacity:1' />\n",
              "<path class='bond-12 atom-10 atom-11' d='M 271.5,61.6 L 303.7,51.8' style='fill:none;fill-rule:evenodd;stroke:#000000;stroke-width:2.0px;stroke-linecap:butt;stroke-linejoin:miter;stroke-opacity:1' />\n",
              "<path class='bond-13 atom-10 atom-15' d='M 270.1,67.8 L 243.1,42.7' style='fill:none;fill-rule:evenodd;stroke:#000000;stroke-width:2.0px;stroke-linecap:butt;stroke-linejoin:miter;stroke-opacity:1' />\n",
              "<path class='bond-14 atom-11 atom-18' d='M 305.3,57.0 L 332.3,82.2' style='fill:none;fill-rule:evenodd;stroke:#000000;stroke-width:2.0px;stroke-linecap:butt;stroke-linejoin:miter;stroke-opacity:1' />\n",
              "<path class='bond-15 atom-12 atom-14' d='M 102.2,85.9 L 93.9,121.9' style='fill:none;fill-rule:evenodd;stroke:#000000;stroke-width:2.0px;stroke-linecap:butt;stroke-linejoin:miter;stroke-opacity:1' />\n",
              "<path class='bond-16 atom-12 atom-16' d='M 102.2,85.9 L 137.4,75.1' style='fill:none;fill-rule:evenodd;stroke:#000000;stroke-width:2.0px;stroke-linecap:butt;stroke-linejoin:miter;stroke-opacity:1' />\n",
              "<path class='bond-16 atom-12 atom-16' d='M 106.8,90.3 L 136.0,81.4' style='fill:none;fill-rule:evenodd;stroke:#000000;stroke-width:2.0px;stroke-linecap:butt;stroke-linejoin:miter;stroke-opacity:1' />\n",
              "<path class='bond-17 atom-13 atom-19' d='M 394.5,96.5 L 367.5,71.4' style='fill:none;fill-rule:evenodd;stroke:#000000;stroke-width:2.0px;stroke-linecap:butt;stroke-linejoin:miter;stroke-opacity:1' />\n",
              "<path class='bond-18 atom-14 atom-20' d='M 93.9,121.9 L 79.3,126.3' style='fill:none;fill-rule:evenodd;stroke:#000000;stroke-width:2.0px;stroke-linecap:butt;stroke-linejoin:miter;stroke-opacity:1' />\n",
              "<path class='bond-18 atom-14 atom-20' d='M 79.3,126.3 L 64.7,130.8' style='fill:none;fill-rule:evenodd;stroke:#FF0000;stroke-width:2.0px;stroke-linecap:butt;stroke-linejoin:miter;stroke-opacity:1' />\n",
              "<path class='bond-18 atom-14 atom-20' d='M 89.2,117.5 L 77.7,121.1' style='fill:none;fill-rule:evenodd;stroke:#000000;stroke-width:2.0px;stroke-linecap:butt;stroke-linejoin:miter;stroke-opacity:1' />\n",
              "<path class='bond-18 atom-14 atom-20' d='M 77.7,121.1 L 63.1,125.5' style='fill:none;fill-rule:evenodd;stroke:#FF0000;stroke-width:2.0px;stroke-linecap:butt;stroke-linejoin:miter;stroke-opacity:1' />\n",
              "<path class='bond-19 atom-17 atom-18' d='M 324.0,118.1 L 332.3,82.2' style='fill:none;fill-rule:evenodd;stroke:#000000;stroke-width:2.0px;stroke-linecap:butt;stroke-linejoin:miter;stroke-opacity:1' />\n",
              "<path class='bond-19 atom-17 atom-18' d='M 330.1,116.2 L 337.0,86.5' style='fill:none;fill-rule:evenodd;stroke:#000000;stroke-width:2.0px;stroke-linecap:butt;stroke-linejoin:miter;stroke-opacity:1' />\n",
              "<path class='bond-20 atom-18 atom-19' d='M 332.3,82.2 L 367.5,71.4' style='fill:none;fill-rule:evenodd;stroke:#000000;stroke-width:2.0px;stroke-linecap:butt;stroke-linejoin:miter;stroke-opacity:1' />\n",
              "<path d='M 182.2,29.7 L 180.9,28.4 L 179.1,29.0' style='fill:none;stroke:#000000;stroke-width:2.0px;stroke-linecap:butt;stroke-linejoin:miter;stroke-opacity:1;' />\n",
              "<path d='M 384.5,132.9 L 386.2,132.4 L 386.6,130.6' style='fill:none;stroke:#000000;stroke-width:2.0px;stroke-linecap:butt;stroke-linejoin:miter;stroke-opacity:1;' />\n",
              "<path d='M 206.5,52.3 L 207.9,53.5 L 209.6,53.0' style='fill:none;stroke:#000000;stroke-width:2.0px;stroke-linecap:butt;stroke-linejoin:miter;stroke-opacity:1;' />\n",
              "<path d='M 147.4,38.7 L 145.7,39.2 L 145.2,41.0' style='fill:none;stroke:#000000;stroke-width:2.0px;stroke-linecap:butt;stroke-linejoin:miter;stroke-opacity:1;' />\n",
              "<path d='M 352.8,142.6 L 351.0,143.2 L 349.6,141.9' style='fill:none;stroke:#000000;stroke-width:2.0px;stroke-linecap:butt;stroke-linejoin:miter;stroke-opacity:1;' />\n",
              "<path d='M 271.8,67.3 L 270.1,67.8 L 268.7,66.6' style='fill:none;stroke:#000000;stroke-width:2.0px;stroke-linecap:butt;stroke-linejoin:miter;stroke-opacity:1;' />\n",
              "<path d='M 303.5,57.6 L 305.3,57.0 L 306.7,58.3' style='fill:none;stroke:#000000;stroke-width:2.0px;stroke-linecap:butt;stroke-linejoin:miter;stroke-opacity:1;' />\n",
              "<path d='M 101.8,87.7 L 102.2,85.9 L 103.9,85.4' style='fill:none;stroke:#000000;stroke-width:2.0px;stroke-linecap:butt;stroke-linejoin:miter;stroke-opacity:1;' />\n",
              "<path d='M 394.1,98.3 L 394.5,96.5 L 393.1,95.2' style='fill:none;stroke:#000000;stroke-width:2.0px;stroke-linecap:butt;stroke-linejoin:miter;stroke-opacity:1;' />\n",
              "<path d='M 94.3,120.1 L 93.9,121.9 L 93.2,122.1' style='fill:none;stroke:#000000;stroke-width:2.0px;stroke-linecap:butt;stroke-linejoin:miter;stroke-opacity:1;' />\n",
              "<path class='atom-20' d='M 53.1 130.0\n",
              "Q 53.1 127.5, 54.3 126.1\n",
              "Q 55.5 124.7, 57.9 124.7\n",
              "Q 60.2 124.7, 61.4 126.1\n",
              "Q 62.7 127.5, 62.7 130.0\n",
              "Q 62.7 132.6, 61.4 134.0\n",
              "Q 60.1 135.5, 57.9 135.5\n",
              "Q 55.6 135.5, 54.3 134.0\n",
              "Q 53.1 132.6, 53.1 130.0\n",
              "M 57.9 134.3\n",
              "Q 59.5 134.3, 60.3 133.2\n",
              "Q 61.2 132.1, 61.2 130.0\n",
              "Q 61.2 128.0, 60.3 127.0\n",
              "Q 59.5 125.9, 57.9 125.9\n",
              "Q 56.3 125.9, 55.4 127.0\n",
              "Q 54.5 128.0, 54.5 130.0\n",
              "Q 54.5 132.2, 55.4 133.2\n",
              "Q 56.3 134.3, 57.9 134.3\n",
              "' fill='#FF0000'/>\n",
              "</svg>\n"
            ],
            "image/svg+xml": "<?xml version='1.0' encoding='iso-8859-1'?>\n<svg version='1.1' baseProfile='full'\n              xmlns='http://www.w3.org/2000/svg'\n                      xmlns:rdkit='http://www.rdkit.org/xml'\n                      xmlns:xlink='http://www.w3.org/1999/xlink'\n                  xml:space='preserve'\nwidth='450px' height='150px' viewBox='0 0 450 150'>\n<!-- END OF HEADER -->\n<rect style='opacity:1.0;fill:#FFFFFF;stroke:none' width='450.0' height='150.0' x='0.0' y='0.0'> </rect>\n<path class='bond-0 atom-0 atom-15' d='M 251.4,6.8 L 243.1,42.7' style='fill:none;fill-rule:evenodd;stroke:#000000;stroke-width:2.0px;stroke-linecap:butt;stroke-linejoin:miter;stroke-opacity:1' />\n<path class='bond-1 atom-1 atom-16' d='M 164.4,100.3 L 137.4,75.1' style='fill:none;fill-rule:evenodd;stroke:#000000;stroke-width:2.0px;stroke-linecap:butt;stroke-linejoin:miter;stroke-opacity:1' />\n<path class='bond-2 atom-2 atom-17' d='M 288.8,128.9 L 324.0,118.1' style='fill:none;fill-rule:evenodd;stroke:#000000;stroke-width:2.0px;stroke-linecap:butt;stroke-linejoin:miter;stroke-opacity:1' />\n<path class='bond-3 atom-3 atom-19' d='M 350.8,38.5 L 367.5,71.4' style='fill:none;fill-rule:evenodd;stroke:#000000;stroke-width:2.0px;stroke-linecap:butt;stroke-linejoin:miter;stroke-opacity:1' />\n<path class='bond-4 atom-4 atom-19' d='M 396.9,49.1 L 367.5,71.4' style='fill:none;fill-rule:evenodd;stroke:#000000;stroke-width:2.0px;stroke-linecap:butt;stroke-linejoin:miter;stroke-opacity:1' />\n<path class='bond-5 atom-5 atom-7' d='M 180.9,28.4 L 207.9,53.5' style='fill:none;fill-rule:evenodd;stroke:#000000;stroke-width:2.0px;stroke-linecap:butt;stroke-linejoin:miter;stroke-opacity:1' />\n<path class='bond-6 atom-5 atom-8' d='M 180.9,28.4 L 145.7,39.2' style='fill:none;fill-rule:evenodd;stroke:#000000;stroke-width:2.0px;stroke-linecap:butt;stroke-linejoin:miter;stroke-opacity:1' />\n<path class='bond-6 atom-5 atom-8' d='M 179.5,34.6 L 150.3,43.6' style='fill:none;fill-rule:evenodd;stroke:#000000;stroke-width:2.0px;stroke-linecap:butt;stroke-linejoin:miter;stroke-opacity:1' />\n<path class='bond-7 atom-6 atom-9' d='M 386.2,132.4 L 351.0,143.2' style='fill:none;fill-rule:evenodd;stroke:#000000;stroke-width:2.0px;stroke-linecap:butt;stroke-linejoin:miter;stroke-opacity:1' />\n<path class='bond-8 atom-6 atom-13' d='M 386.2,132.4 L 394.5,96.5' style='fill:none;fill-rule:evenodd;stroke:#000000;stroke-width:2.0px;stroke-linecap:butt;stroke-linejoin:miter;stroke-opacity:1' />\n<path class='bond-9 atom-7 atom-15' d='M 207.9,53.5 L 243.1,42.7' style='fill:none;fill-rule:evenodd;stroke:#000000;stroke-width:2.0px;stroke-linecap:butt;stroke-linejoin:miter;stroke-opacity:1' />\n<path class='bond-9 atom-7 atom-15' d='M 209.3,47.3 L 238.4,38.4' style='fill:none;fill-rule:evenodd;stroke:#000000;stroke-width:2.0px;stroke-linecap:butt;stroke-linejoin:miter;stroke-opacity:1' />\n<path class='bond-10 atom-8 atom-16' d='M 145.7,39.2 L 137.4,75.1' style='fill:none;fill-rule:evenodd;stroke:#000000;stroke-width:2.0px;stroke-linecap:butt;stroke-linejoin:miter;stroke-opacity:1' />\n<path class='bond-11 atom-9 atom-17' d='M 351.0,143.2 L 324.0,118.1' style='fill:none;fill-rule:evenodd;stroke:#000000;stroke-width:2.0px;stroke-linecap:butt;stroke-linejoin:miter;stroke-opacity:1' />\n<path class='bond-12 atom-10 atom-11' d='M 270.1,67.8 L 305.3,57.0' style='fill:none;fill-rule:evenodd;stroke:#000000;stroke-width:2.0px;stroke-linecap:butt;stroke-linejoin:miter;stroke-opacity:1' />\n<path class='bond-12 atom-10 atom-11' d='M 271.5,61.6 L 303.7,51.8' style='fill:none;fill-rule:evenodd;stroke:#000000;stroke-width:2.0px;stroke-linecap:butt;stroke-linejoin:miter;stroke-opacity:1' />\n<path class='bond-13 atom-10 atom-15' d='M 270.1,67.8 L 243.1,42.7' style='fill:none;fill-rule:evenodd;stroke:#000000;stroke-width:2.0px;stroke-linecap:butt;stroke-linejoin:miter;stroke-opacity:1' />\n<path class='bond-14 atom-11 atom-18' d='M 305.3,57.0 L 332.3,82.2' style='fill:none;fill-rule:evenodd;stroke:#000000;stroke-width:2.0px;stroke-linecap:butt;stroke-linejoin:miter;stroke-opacity:1' />\n<path class='bond-15 atom-12 atom-14' d='M 102.2,85.9 L 93.9,121.9' style='fill:none;fill-rule:evenodd;stroke:#000000;stroke-width:2.0px;stroke-linecap:butt;stroke-linejoin:miter;stroke-opacity:1' />\n<path class='bond-16 atom-12 atom-16' d='M 102.2,85.9 L 137.4,75.1' style='fill:none;fill-rule:evenodd;stroke:#000000;stroke-width:2.0px;stroke-linecap:butt;stroke-linejoin:miter;stroke-opacity:1' />\n<path class='bond-16 atom-12 atom-16' d='M 106.8,90.3 L 136.0,81.4' style='fill:none;fill-rule:evenodd;stroke:#000000;stroke-width:2.0px;stroke-linecap:butt;stroke-linejoin:miter;stroke-opacity:1' />\n<path class='bond-17 atom-13 atom-19' d='M 394.5,96.5 L 367.5,71.4' style='fill:none;fill-rule:evenodd;stroke:#000000;stroke-width:2.0px;stroke-linecap:butt;stroke-linejoin:miter;stroke-opacity:1' />\n<path class='bond-18 atom-14 atom-20' d='M 93.9,121.9 L 79.3,126.3' style='fill:none;fill-rule:evenodd;stroke:#000000;stroke-width:2.0px;stroke-linecap:butt;stroke-linejoin:miter;stroke-opacity:1' />\n<path class='bond-18 atom-14 atom-20' d='M 79.3,126.3 L 64.7,130.8' style='fill:none;fill-rule:evenodd;stroke:#FF0000;stroke-width:2.0px;stroke-linecap:butt;stroke-linejoin:miter;stroke-opacity:1' />\n<path class='bond-18 atom-14 atom-20' d='M 89.2,117.5 L 77.7,121.1' style='fill:none;fill-rule:evenodd;stroke:#000000;stroke-width:2.0px;stroke-linecap:butt;stroke-linejoin:miter;stroke-opacity:1' />\n<path class='bond-18 atom-14 atom-20' d='M 77.7,121.1 L 63.1,125.5' style='fill:none;fill-rule:evenodd;stroke:#FF0000;stroke-width:2.0px;stroke-linecap:butt;stroke-linejoin:miter;stroke-opacity:1' />\n<path class='bond-19 atom-17 atom-18' d='M 324.0,118.1 L 332.3,82.2' style='fill:none;fill-rule:evenodd;stroke:#000000;stroke-width:2.0px;stroke-linecap:butt;stroke-linejoin:miter;stroke-opacity:1' />\n<path class='bond-19 atom-17 atom-18' d='M 330.1,116.2 L 337.0,86.5' style='fill:none;fill-rule:evenodd;stroke:#000000;stroke-width:2.0px;stroke-linecap:butt;stroke-linejoin:miter;stroke-opacity:1' />\n<path class='bond-20 atom-18 atom-19' d='M 332.3,82.2 L 367.5,71.4' style='fill:none;fill-rule:evenodd;stroke:#000000;stroke-width:2.0px;stroke-linecap:butt;stroke-linejoin:miter;stroke-opacity:1' />\n<path d='M 182.2,29.7 L 180.9,28.4 L 179.1,29.0' style='fill:none;stroke:#000000;stroke-width:2.0px;stroke-linecap:butt;stroke-linejoin:miter;stroke-opacity:1;' />\n<path d='M 384.5,132.9 L 386.2,132.4 L 386.6,130.6' style='fill:none;stroke:#000000;stroke-width:2.0px;stroke-linecap:butt;stroke-linejoin:miter;stroke-opacity:1;' />\n<path d='M 206.5,52.3 L 207.9,53.5 L 209.6,53.0' style='fill:none;stroke:#000000;stroke-width:2.0px;stroke-linecap:butt;stroke-linejoin:miter;stroke-opacity:1;' />\n<path d='M 147.4,38.7 L 145.7,39.2 L 145.2,41.0' style='fill:none;stroke:#000000;stroke-width:2.0px;stroke-linecap:butt;stroke-linejoin:miter;stroke-opacity:1;' />\n<path d='M 352.8,142.6 L 351.0,143.2 L 349.6,141.9' style='fill:none;stroke:#000000;stroke-width:2.0px;stroke-linecap:butt;stroke-linejoin:miter;stroke-opacity:1;' />\n<path d='M 271.8,67.3 L 270.1,67.8 L 268.7,66.6' style='fill:none;stroke:#000000;stroke-width:2.0px;stroke-linecap:butt;stroke-linejoin:miter;stroke-opacity:1;' />\n<path d='M 303.5,57.6 L 305.3,57.0 L 306.7,58.3' style='fill:none;stroke:#000000;stroke-width:2.0px;stroke-linecap:butt;stroke-linejoin:miter;stroke-opacity:1;' />\n<path d='M 101.8,87.7 L 102.2,85.9 L 103.9,85.4' style='fill:none;stroke:#000000;stroke-width:2.0px;stroke-linecap:butt;stroke-linejoin:miter;stroke-opacity:1;' />\n<path d='M 394.1,98.3 L 394.5,96.5 L 393.1,95.2' style='fill:none;stroke:#000000;stroke-width:2.0px;stroke-linecap:butt;stroke-linejoin:miter;stroke-opacity:1;' />\n<path d='M 94.3,120.1 L 93.9,121.9 L 93.2,122.1' style='fill:none;stroke:#000000;stroke-width:2.0px;stroke-linecap:butt;stroke-linejoin:miter;stroke-opacity:1;' />\n<path class='atom-20' d='M 53.1 130.0\nQ 53.1 127.5, 54.3 126.1\nQ 55.5 124.7, 57.9 124.7\nQ 60.2 124.7, 61.4 126.1\nQ 62.7 127.5, 62.7 130.0\nQ 62.7 132.6, 61.4 134.0\nQ 60.1 135.5, 57.9 135.5\nQ 55.6 135.5, 54.3 134.0\nQ 53.1 132.6, 53.1 130.0\nM 57.9 134.3\nQ 59.5 134.3, 60.3 133.2\nQ 61.2 132.1, 61.2 130.0\nQ 61.2 128.0, 60.3 127.0\nQ 59.5 125.9, 57.9 125.9\nQ 56.3 125.9, 55.4 127.0\nQ 54.5 128.0, 54.5 130.0\nQ 54.5 132.2, 55.4 133.2\nQ 56.3 134.3, 57.9 134.3\n' fill='#FF0000'/>\n</svg>\n",
            "image/png": "[encoded data removed]"
          },
          "metadata": {},
          "execution_count": 13
        }
      ]
    },
    {
      "cell_type": "markdown",
      "source": [
        "### Get XYZ Cartesian Coordinates"
      ],
      "metadata": {
        "id": "FHX9SpxyOnml"
      }
    },
    {
      "cell_type": "code",
      "source": [
        "molecule3d, xyz = get_xyz(molecule, optimize=True)\n",
        "print(xyz)"
      ],
      "metadata": {
        "colab": {
          "base_uri": "https://localhost:8080/"
        },
        "id": "u1L3JCl3MaWR",
        "outputId": "069d85b0-a3ce-4703-cdb5-b8ac8a4b4888"
      },
      "execution_count": null,
      "outputs": [
        {
          "output_type": "stream",
          "name": "stdout",
          "text": [
            "C      0.842274   -0.125991    3.012156\n",
            "C      1.879385    4.367542   -0.075034\n",
            "C      1.939157   -2.013409   -1.691837\n",
            "C     -2.794393   -1.894452   -0.803004\n",
            "C     -2.058500   -3.731498    0.737635\n",
            "C      0.831723    2.919232    2.521488\n",
            "C     -1.344552   -3.590403   -3.049301\n",
            "C      0.568526    1.904367    1.522160\n",
            "C      1.055462    4.232512    2.338927\n",
            "C      0.139179   -3.269283   -2.924581\n",
            "C      0.189644   -0.281547    0.562787\n",
            "C      0.033239   -1.615863    0.572482\n",
            "C      0.875822    6.320842    1.151343\n",
            "C     -1.896971   -4.074182   -1.716922\n",
            "C      0.971814    7.263759    0.015911\n",
            "C      0.532374    0.566994    1.707471\n",
            "C      1.223299    5.017590    1.115462\n",
            "C      0.519982   -2.532631   -1.658199\n",
            "C     -0.332293   -2.386710   -0.613444\n",
            "C     -1.744720   -3.011874   -0.595346\n",
            "O      0.697939    8.449711    0.157465\n",
            "H     -0.049955   -0.626885    3.404041\n",
            "H      1.203283    0.548747    3.792341\n",
            "H      1.631303   -0.873999    2.871850\n",
            "H      2.496434    5.076118   -0.637546\n",
            "H      2.563521    3.565927    0.226167\n",
            "H      1.128951    3.958726   -0.757586\n",
            "H      2.306633   -1.674761   -0.721579\n",
            "H      2.621577   -2.805824   -2.019907\n",
            "H      2.017167   -1.179061   -2.397839\n",
            "H     -2.813474   -1.196396    0.042247\n",
            "H     -2.587973   -1.306463   -1.705439\n",
            "H     -3.804382   -2.311691   -0.901064\n",
            "H     -2.116008   -3.033628    1.579122\n",
            "H     -1.293304   -4.481507    0.973648\n",
            "H     -3.026594   -4.246755    0.687207\n",
            "H      0.772654    2.591576    3.558499\n",
            "H     -1.893064   -2.705334   -3.391731\n",
            "H     -1.489481   -4.362415   -3.814440\n",
            "H      0.331662    2.287944    0.533475\n",
            "H      1.127344    4.822496    3.257233\n",
            "H      0.711996   -4.204068   -2.961351\n",
            "H      0.437115   -2.679158   -3.799705\n",
            "H      0.033824    0.234070   -0.385445\n",
            "H      0.140474   -2.191838    1.486598\n",
            "H      0.454586    6.773869    2.044763\n",
            "H     -2.951679   -4.354042   -1.839922\n",
            "H     -1.366287   -4.993767   -1.436644\n",
            "H      1.285289    6.853412   -0.955949\n"
          ]
        }
      ]
    },
    {
      "cell_type": "markdown",
      "source": [
        "### Visualize 3D Molecular Structure"
      ],
      "metadata": {
        "id": "9v2Co-IqOy2e"
      }
    },
    {
      "cell_type": "code",
      "source": [
        "view = py3Dmol.view(\n",
        "    data=Chem.MolToMolBlock(molecule3d),\n",
        "    style={\"stick\": {}, \"sphere\": {\"scale\": 0.3}},\n",
        "    width=600,\n",
        "    height=600,\n",
        ")\n",
        "view.zoomTo()"
      ],
      "metadata": {
        "colab": {
          "base_uri": "https://localhost:8080/",
          "height": 635
        },
        "id": "5tJo9oQ8McCk",
        "outputId": "2afdce41-4bcb-4390-f621-a51a1c9ac0fb"
      },
      "execution_count": null,
      "outputs": [
        {
          "output_type": "display_data",
          "data": {
            "application/3dmoljs_load.v0": "<div id=\"3dmolviewer_16927113778228247\"  style=\"position: relative; width: 600px; height: 600px;\">\n        <p id=\"3dmolwarning_16927113778228247\" style=\"background-color:#ffcccc;color:black\">You appear to be running in JupyterLab (or JavaScript failed to load for some other reason).  You need to install the 3dmol extension: <br>\n        <tt>jupyter labextension install jupyterlab_3dmol</tt></p>\n        </div>\n<script>\n\nvar loadScriptAsync = function(uri){\n  return new Promise((resolve, reject) => {\n    //this is to ignore the existence of requirejs amd\n    var savedexports, savedmodule;\n    if (typeof exports !== 'undefined') savedexports = exports;\n    else exports = {}\n    if (typeof module !== 'undefined') savedmodule = module;\n    else module = {}\n\n    var tag = document.createElement('script');\n    tag.src = uri;\n    tag.async = true;\n    tag.onload = () => {\n        exports = savedexports;\n        module = savedmodule;\n        resolve();\n    };\n  var firstScriptTag = document.getElementsByTagName('script')[0];\n  firstScriptTag.parentNode.insertBefore(tag, firstScriptTag);\n});\n};\n\nif(typeof $3Dmolpromise === 'undefined') {\n$3Dmolpromise = null;\n  $3Dmolpromise = loadScriptAsync('https://cdnjs.cloudflare.com/ajax/libs/3Dmol/2.0.3/3Dmol-min.js');\n}\n\nvar viewer_16927113778228247 = null;\nvar warn = document.getElementById(\"3dmolwarning_16927113778228247\");\nif(warn) {\n    warn.parentNode.removeChild(warn);\n}\n$3Dmolpromise.then(function() {\nviewer_16927113778228247 = $3Dmol.createViewer(document.getElementById(\"3dmolviewer_16927113778228247\"),{backgroundColor:\"white\"});\nviewer_16927113778228247.addModel(\"\\n     RDKit          3D\\n\\n 49 49  0  0  0  0  0  0  0  0999 V2000\\n    0.8423   -0.1260    3.0122 C   0  0  0  0  0  0  0  0  0  0  0  0\\n    1.8794    4.3675   -0.0750 C   0  0  0  0  0  0  0  0  0  0  0  0\\n    1.9392   -2.0134   -1.6918 C   0  0  0  0  0  0  0  0  0  0  0  0\\n   -2.7944   -1.8945   -0.8030 C   0  0  0  0  0  0  0  0  0  0  0  0\\n   -2.0585   -3.7315    0.7376 C   0  0  0  0  0  0  0  0  0  0  0  0\\n    0.8317    2.9192    2.5215 C   0  0  0  0  0  0  0  0  0  0  0  0\\n   -1.3446   -3.5904   -3.0493 C   0  0  0  0  0  0  0  0  0  0  0  0\\n    0.5685    1.9044    1.5222 C   0  0  0  0  0  0  0  0  0  0  0  0\\n    1.0555    4.2325    2.3389 C   0  0  0  0  0  0  0  0  0  0  0  0\\n    0.1392   -3.2693   -2.9246 C   0  0  0  0  0  0  0  0  0  0  0  0\\n    0.1896   -0.2815    0.5628 C   0  0  0  0  0  0  0  0  0  0  0  0\\n    0.0332   -1.6159    0.5725 C   0  0  0  0  0  0  0  0  0  0  0  0\\n    0.8758    6.3208    1.1513 C   0  0  0  0  0  0  0  0  0  0  0  0\\n   -1.8970   -4.0742   -1.7169 C   0  0  0  0  0  0  0  0  0  0  0  0\\n    0.9718    7.2638    0.0159 C   0  0  0  0  0  0  0  0  0  0  0  0\\n    0.5324    0.5670    1.7075 C   0  0  0  0  0  0  0  0  0  0  0  0\\n    1.2233    5.0176    1.1155 C   0  0  0  0  0  0  0  0  0  0  0  0\\n    0.5200   -2.5326   -1.6582 C   0  0  0  0  0  0  0  0  0  0  0  0\\n   -0.3323   -2.3867   -0.6134 C   0  0  0  0  0  0  0  0  0  0  0  0\\n   -1.7447   -3.0119   -0.5953 C   0  0  0  0  0  0  0  0  0  0  0  0\\n    0.6979    8.4497    0.1575 O   0  0  0  0  0  0  0  0  0  0  0  0\\n   -0.0500   -0.6269    3.4040 H   0  0  0  0  0  0  0  0  0  0  0  0\\n    1.2033    0.5487    3.7923 H   0  0  0  0  0  0  0  0  0  0  0  0\\n    1.6313   -0.8740    2.8719 H   0  0  0  0  0  0  0  0  0  0  0  0\\n    2.4964    5.0761   -0.6375 H   0  0  0  0  0  0  0  0  0  0  0  0\\n    2.5635    3.5659    0.2262 H   0  0  0  0  0  0  0  0  0  0  0  0\\n    1.1290    3.9587   -0.7576 H   0  0  0  0  0  0  0  0  0  0  0  0\\n    2.3066   -1.6748   -0.7216 H   0  0  0  0  0  0  0  0  0  0  0  0\\n    2.6216   -2.8058   -2.0199 H   0  0  0  0  0  0  0  0  0  0  0  0\\n    2.0172   -1.1791   -2.3978 H   0  0  0  0  0  0  0  0  0  0  0  0\\n   -2.8135   -1.1964    0.0422 H   0  0  0  0  0  0  0  0  0  0  0  0\\n   -2.5880   -1.3065   -1.7054 H   0  0  0  0  0  0  0  0  0  0  0  0\\n   -3.8044   -2.3117   -0.9011 H   0  0  0  0  0  0  0  0  0  0  0  0\\n   -2.1160   -3.0336    1.5791 H   0  0  0  0  0  0  0  0  0  0  0  0\\n   -1.2933   -4.4815    0.9736 H   0  0  0  0  0  0  0  0  0  0  0  0\\n   -3.0266   -4.2468    0.6872 H   0  0  0  0  0  0  0  0  0  0  0  0\\n    0.7727    2.5916    3.5585 H   0  0  0  0  0  0  0  0  0  0  0  0\\n   -1.8931   -2.7053   -3.3917 H   0  0  0  0  0  0  0  0  0  0  0  0\\n   -1.4895   -4.3624   -3.8144 H   0  0  0  0  0  0  0  0  0  0  0  0\\n    0.3317    2.2879    0.5335 H   0  0  0  0  0  0  0  0  0  0  0  0\\n    1.1273    4.8225    3.2572 H   0  0  0  0  0  0  0  0  0  0  0  0\\n    0.7120   -4.2041   -2.9614 H   0  0  0  0  0  0  0  0  0  0  0  0\\n    0.4371   -2.6792   -3.7997 H   0  0  0  0  0  0  0  0  0  0  0  0\\n    0.0338    0.2341   -0.3854 H   0  0  0  0  0  0  0  0  0  0  0  0\\n    0.1405   -2.1918    1.4866 H   0  0  0  0  0  0  0  0  0  0  0  0\\n    0.4546    6.7739    2.0448 H   0  0  0  0  0  0  0  0  0  0  0  0\\n   -2.9517   -4.3540   -1.8399 H   0  0  0  0  0  0  0  0  0  0  0  0\\n   -1.3663   -4.9938   -1.4366 H   0  0  0  0  0  0  0  0  0  0  0  0\\n    1.2853    6.8534   -0.9559 H   0  0  0  0  0  0  0  0  0  0  0  0\\n  1 16  1  0\\n  2 17  1  0\\n  3 18  1  0\\n  4 20  1  0\\n  5 20  1  0\\n  6  8  1  0\\n  6  9  2  0\\n  7 10  1  0\\n  7 14  1  0\\n  8 16  2  0\\n  9 17  1  0\\n 10 18  1  0\\n 11 12  2  0\\n 11 16  1  0\\n 12 19  1  0\\n 13 15  1  0\\n 13 17  2  0\\n 14 20  1  0\\n 15 21  2  0\\n 18 19  2  0\\n 19 20  1  0\\n  1 22  1  0\\n  1 23  1  0\\n  1 24  1  0\\n  2 25  1  0\\n  2 26  1  0\\n  2 27  1  0\\n  3 28  1  0\\n  3 29  1  0\\n  3 30  1  0\\n  4 31  1  0\\n  4 32  1  0\\n  4 33  1  0\\n  5 34  1  0\\n  5 35  1  0\\n  5 36  1  0\\n  6 37  1  0\\n  7 38  1  0\\n  7 39  1  0\\n  8 40  1  0\\n  9 41  1  0\\n 10 42  1  0\\n 10 43  1  0\\n 11 44  1  0\\n 12 45  1  0\\n 13 46  1  0\\n 14 47  1  0\\n 14 48  1  0\\n 15 49  1  0\\nM  END\\n\");\nviewer_16927113778228247.setStyle({\"stick\": {}, \"sphere\": {\"scale\": 0.3}});\nviewer_16927113778228247.zoomTo();\n\tviewer_16927113778228247.zoomTo();\nviewer_16927113778228247.render();\n});\n</script>",
            "text/html": [
              "<div id=\"3dmolviewer_16927113778228247\"  style=\"position: relative; width: 600px; height: 600px;\">\n",
              "        <p id=\"3dmolwarning_16927113778228247\" style=\"background-color:#ffcccc;color:black\">You appear to be running in JupyterLab (or JavaScript failed to load for some other reason).  You need to install the 3dmol extension: <br>\n",
              "        <tt>jupyter labextension install jupyterlab_3dmol</tt></p>\n",
              "        </div>\n",
              "<script>\n",
              "\n",
              "var loadScriptAsync = function(uri){\n",
              "  return new Promise((resolve, reject) => {\n",
              "    //this is to ignore the existence of requirejs amd\n",
              "    var savedexports, savedmodule;\n",
              "    if (typeof exports !== 'undefined') savedexports = exports;\n",
              "    else exports = {}\n",
              "    if (typeof module !== 'undefined') savedmodule = module;\n",
              "    else module = {}\n",
              "\n",
              "    var tag = document.createElement('script');\n",
              "    tag.src = uri;\n",
              "    tag.async = true;\n",
              "    tag.onload = () => {\n",
              "        exports = savedexports;\n",
              "        module = savedmodule;\n",
              "        resolve();\n",
              "    };\n",
              "  var firstScriptTag = document.getElementsByTagName('script')[0];\n",
              "  firstScriptTag.parentNode.insertBefore(tag, firstScriptTag);\n",
              "});\n",
              "};\n",
              "\n",
              "if(typeof $3Dmolpromise === 'undefined') {\n",
              "$3Dmolpromise = null;\n",
              "  $3Dmolpromise = loadScriptAsync('https://cdnjs.cloudflare.com/ajax/libs/3Dmol/2.0.3/3Dmol-min.js');\n",
              "}\n",
              "\n",
              "var viewer_16927113778228247 = null;\n",
              "var warn = document.getElementById(\"3dmolwarning_16927113778228247\");\n",
              "if(warn) {\n",
              "    warn.parentNode.removeChild(warn);\n",
              "}\n",
              "$3Dmolpromise.then(function() {\n",
              "viewer_16927113778228247 = $3Dmol.createViewer(document.getElementById(\"3dmolviewer_16927113778228247\"),{backgroundColor:\"white\"});\n",
              "viewer_16927113778228247.addModel(\"\\n     RDKit          3D\\n\\n 49 49  0  0  0  0  0  0  0  0999 V2000\\n    0.8423   -0.1260    3.0122 C   0  0  0  0  0  0  0  0  0  0  0  0\\n    1.8794    4.3675   -0.0750 C   0  0  0  0  0  0  0  0  0  0  0  0\\n    1.9392   -2.0134   -1.6918 C   0  0  0  0  0  0  0  0  0  0  0  0\\n   -2.7944   -1.8945   -0.8030 C   0  0  0  0  0  0  0  0  0  0  0  0\\n   -2.0585   -3.7315    0.7376 C   0  0  0  0  0  0  0  0  0  0  0  0\\n    0.8317    2.9192    2.5215 C   0  0  0  0  0  0  0  0  0  0  0  0\\n   -1.3446   -3.5904   -3.0493 C   0  0  0  0  0  0  0  0  0  0  0  0\\n    0.5685    1.9044    1.5222 C   0  0  0  0  0  0  0  0  0  0  0  0\\n    1.0555    4.2325    2.3389 C   0  0  0  0  0  0  0  0  0  0  0  0\\n    0.1392   -3.2693   -2.9246 C   0  0  0  0  0  0  0  0  0  0  0  0\\n    0.1896   -0.2815    0.5628 C   0  0  0  0  0  0  0  0  0  0  0  0\\n    0.0332   -1.6159    0.5725 C   0  0  0  0  0  0  0  0  0  0  0  0\\n    0.8758    6.3208    1.1513 C   0  0  0  0  0  0  0  0  0  0  0  0\\n   -1.8970   -4.0742   -1.7169 C   0  0  0  0  0  0  0  0  0  0  0  0\\n    0.9718    7.2638    0.0159 C   0  0  0  0  0  0  0  0  0  0  0  0\\n    0.5324    0.5670    1.7075 C   0  0  0  0  0  0  0  0  0  0  0  0\\n    1.2233    5.0176    1.1155 C   0  0  0  0  0  0  0  0  0  0  0  0\\n    0.5200   -2.5326   -1.6582 C   0  0  0  0  0  0  0  0  0  0  0  0\\n   -0.3323   -2.3867   -0.6134 C   0  0  0  0  0  0  0  0  0  0  0  0\\n   -1.7447   -3.0119   -0.5953 C   0  0  0  0  0  0  0  0  0  0  0  0\\n    0.6979    8.4497    0.1575 O   0  0  0  0  0  0  0  0  0  0  0  0\\n   -0.0500   -0.6269    3.4040 H   0  0  0  0  0  0  0  0  0  0  0  0\\n    1.2033    0.5487    3.7923 H   0  0  0  0  0  0  0  0  0  0  0  0\\n    1.6313   -0.8740    2.8719 H   0  0  0  0  0  0  0  0  0  0  0  0\\n    2.4964    5.0761   -0.6375 H   0  0  0  0  0  0  0  0  0  0  0  0\\n    2.5635    3.5659    0.2262 H   0  0  0  0  0  0  0  0  0  0  0  0\\n    1.1290    3.9587   -0.7576 H   0  0  0  0  0  0  0  0  0  0  0  0\\n    2.3066   -1.6748   -0.7216 H   0  0  0  0  0  0  0  0  0  0  0  0\\n    2.6216   -2.8058   -2.0199 H   0  0  0  0  0  0  0  0  0  0  0  0\\n    2.0172   -1.1791   -2.3978 H   0  0  0  0  0  0  0  0  0  0  0  0\\n   -2.8135   -1.1964    0.0422 H   0  0  0  0  0  0  0  0  0  0  0  0\\n   -2.5880   -1.3065   -1.7054 H   0  0  0  0  0  0  0  0  0  0  0  0\\n   -3.8044   -2.3117   -0.9011 H   0  0  0  0  0  0  0  0  0  0  0  0\\n   -2.1160   -3.0336    1.5791 H   0  0  0  0  0  0  0  0  0  0  0  0\\n   -1.2933   -4.4815    0.9736 H   0  0  0  0  0  0  0  0  0  0  0  0\\n   -3.0266   -4.2468    0.6872 H   0  0  0  0  0  0  0  0  0  0  0  0\\n    0.7727    2.5916    3.5585 H   0  0  0  0  0  0  0  0  0  0  0  0\\n   -1.8931   -2.7053   -3.3917 H   0  0  0  0  0  0  0  0  0  0  0  0\\n   -1.4895   -4.3624   -3.8144 H   0  0  0  0  0  0  0  0  0  0  0  0\\n    0.3317    2.2879    0.5335 H   0  0  0  0  0  0  0  0  0  0  0  0\\n    1.1273    4.8225    3.2572 H   0  0  0  0  0  0  0  0  0  0  0  0\\n    0.7120   -4.2041   -2.9614 H   0  0  0  0  0  0  0  0  0  0  0  0\\n    0.4371   -2.6792   -3.7997 H   0  0  0  0  0  0  0  0  0  0  0  0\\n    0.0338    0.2341   -0.3854 H   0  0  0  0  0  0  0  0  0  0  0  0\\n    0.1405   -2.1918    1.4866 H   0  0  0  0  0  0  0  0  0  0  0  0\\n    0.4546    6.7739    2.0448 H   0  0  0  0  0  0  0  0  0  0  0  0\\n   -2.9517   -4.3540   -1.8399 H   0  0  0  0  0  0  0  0  0  0  0  0\\n   -1.3663   -4.9938   -1.4366 H   0  0  0  0  0  0  0  0  0  0  0  0\\n    1.2853    6.8534   -0.9559 H   0  0  0  0  0  0  0  0  0  0  0  0\\n  1 16  1  0\\n  2 17  1  0\\n  3 18  1  0\\n  4 20  1  0\\n  5 20  1  0\\n  6  8  1  0\\n  6  9  2  0\\n  7 10  1  0\\n  7 14  1  0\\n  8 16  2  0\\n  9 17  1  0\\n 10 18  1  0\\n 11 12  2  0\\n 11 16  1  0\\n 12 19  1  0\\n 13 15  1  0\\n 13 17  2  0\\n 14 20  1  0\\n 15 21  2  0\\n 18 19  2  0\\n 19 20  1  0\\n  1 22  1  0\\n  1 23  1  0\\n  1 24  1  0\\n  2 25  1  0\\n  2 26  1  0\\n  2 27  1  0\\n  3 28  1  0\\n  3 29  1  0\\n  3 30  1  0\\n  4 31  1  0\\n  4 32  1  0\\n  4 33  1  0\\n  5 34  1  0\\n  5 35  1  0\\n  5 36  1  0\\n  6 37  1  0\\n  7 38  1  0\\n  7 39  1  0\\n  8 40  1  0\\n  9 41  1  0\\n 10 42  1  0\\n 10 43  1  0\\n 11 44  1  0\\n 12 45  1  0\\n 13 46  1  0\\n 14 47  1  0\\n 14 48  1  0\\n 15 49  1  0\\nM  END\\n\");\n",
              "viewer_16927113778228247.setStyle({\"stick\": {}, \"sphere\": {\"scale\": 0.3}});\n",
              "viewer_16927113778228247.zoomTo();\n",
              "\tviewer_16927113778228247.zoomTo();\n",
              "viewer_16927113778228247.render();\n",
              "});\n",
              "</script>"
            ]
          },
          "metadata": {}
        },
        {
          "output_type": "execute_result",
          "data": {
            "text/plain": [
              "<py3Dmol.view at 0x7afbe9932a70>"
            ]
          },
          "metadata": {},
          "execution_count": 15
        }
      ]
    }
  ]
}