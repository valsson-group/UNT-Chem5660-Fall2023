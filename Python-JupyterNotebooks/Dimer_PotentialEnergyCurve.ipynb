{
  "nbformat": 4,
  "nbformat_minor": 0,
  "metadata": {
    "colab": {
      "provenance": []
    },
    "kernelspec": {
      "name": "python3",
      "display_name": "Python 3"
    },
    "language_info": {
      "name": "python"
    }
  },
  "cells": [
    {
      "cell_type": "markdown",
      "source": [
        "# Potential Energy Curve for a Homonuclear Diatomic Molecule\n",
        "\n"
      ],
      "metadata": {
        "id": "e6uNCpGJZNWi"
      }
    },
    {
      "cell_type": "markdown",
      "source": [
        "## Setup python environment and imports"
      ],
      "metadata": {
        "id": "4joQFSzXZuuW"
      }
    },
    {
      "cell_type": "code",
      "execution_count": null,
      "metadata": {
        "id": "mnJj_M1D4POB"
      },
      "outputs": [],
      "source": [
        "%%capture\n",
        "!pip install pyscf\n"
      ]
    },
    {
      "cell_type": "code",
      "source": [
        "# pyscf imports:\n",
        "from pyscf import gto, scf\n",
        "\n",
        "from pyscf.data.nist import HARTREE2EV\n",
        "\n",
        "# For plotting\n",
        "import matplotlib\n",
        "from matplotlib import pyplot as plt\n",
        "\n",
        "# For numerics:\n",
        "import numpy as np"
      ],
      "metadata": {
        "id": "pboBu2_u4wvv"
      },
      "execution_count": null,
      "outputs": []
    },
    {
      "cell_type": "markdown",
      "source": [
        "## Definition of the Molecule"
      ],
      "metadata": {
        "id": "bRJa_BnUZ_pD"
      }
    },
    {
      "cell_type": "markdown",
      "source": [
        "Here you should define the homonuclear diatomic molecule to be considered.\n",
        "\n"
      ],
      "metadata": {
        "id": "hWFvM4lXI8tw"
      }
    },
    {
      "cell_type": "code",
      "source": [
        "Atom=\"N\""
      ],
      "metadata": {
        "id": "NPIa8E67ZX-0"
      },
      "execution_count": null,
      "outputs": []
    },
    {
      "cell_type": "markdown",
      "source": [
        "## Definition of the Functions to Generate the XYZ Coordiates and Calculations"
      ],
      "metadata": {
        "id": "TyRYjxlSZfgV"
      }
    },
    {
      "cell_type": "code",
      "source": [
        "def get_xyz(bondlength,atom=\"N\"):\n",
        "  xyz=\"{:2s} {:10.6f} {:10.6f} {:10.6f}\\n\".format(atom,bondlength/2,0.0,0.0)\n",
        "  xyz+=\"{:2s} {:10.6f} {:10.6f} {:10.6f}\\n\".format(atom,-bondlength/2,0.0,0.0)\n",
        "  return xyz"
      ],
      "metadata": {
        "id": "YxQmT22s7T3W"
      },
      "execution_count": null,
      "outputs": []
    },
    {
      "cell_type": "code",
      "source": [
        "def run_calculation_hf(xyz, basis=\"sto-3g\"):\n",
        "    \"\"\"Calculate the energy (+ additional things like MO coefficients) with pyscf.\"\"\"\n",
        "    mol = gto.M(\n",
        "        atom=xyz,\n",
        "        basis=basis,\n",
        "        unit=\"ANG\",\n",
        "        symmetry=True,\n",
        "    )\n",
        "    mol.build()\n",
        "    mf = scf.RHF(mol)\n",
        "    mf.kernel()\n",
        "    return mf.e_tot"
      ],
      "metadata": {
        "id": "T6nfWMhP7yvE"
      },
      "execution_count": null,
      "outputs": []
    },
    {
      "cell_type": "markdown",
      "source": [
        "## Hartree-Fock calculations with different basis sets"
      ],
      "metadata": {
        "id": "yR6G8M80aBp_"
      }
    },
    {
      "cell_type": "code",
      "source": [
        "bondlengths = np.linspace(0.8,2.5,100)\n",
        "\n",
        "basis_sets=[\"sto-3g\",\n",
        "            \"cc-pVDZ\",\n",
        "            \"cc-pVTZ\",\n",
        "            \"def2-tzvpp\"\n",
        "            ]\n",
        "\n",
        "energy_hf = []\n",
        "for b in range(len(basis_sets)):\n",
        "  energy_hf.append(np.zeros(bondlengths.size))\n",
        "\n",
        "for i, bl in enumerate(bondlengths):\n",
        "  xyz=get_xyz(bondlength=bl,atom=Atom)\n",
        "  for k,e in enumerate(energy_hf):\n",
        "    e[i] = run_calculation_hf(xyz,basis=basis_sets[k])\n",
        "\n",
        "energy_hf_eV = []\n",
        "for k,e in enumerate(energy_hf):\n",
        "    e_eV = (e - np.min(e))*HARTREE2EV\n",
        "    energy_hf_eV.append(e_eV)\n"
      ],
      "metadata": {
        "id": "YyzgCnK08Psh"
      },
      "execution_count": null,
      "outputs": []
    },
    {
      "cell_type": "markdown",
      "source": [
        "### Analysis of Results"
      ],
      "metadata": {
        "id": "zWxMqqLIaqut"
      }
    },
    {
      "cell_type": "code",
      "source": [
        "plt.figure(1)\n",
        "for k,e_eV in enumerate(energy_hf_eV):\n",
        "  plt.plot(bondlengths,e_eV,label=basis_sets[k])\n",
        "plt.legend()\n",
        "plt.ylim([0,30])\n",
        "plt.xlabel(\"Bondlength [Angstrom]\")\n",
        "plt.ylabel(\"Potential Energy [eV]\")\n",
        "plt.title(\"{0}-{0} Potential Energy Curve\".format(Atom))\n",
        "\n",
        "plt.show()"
      ],
      "metadata": {
        "id": "JkNqRjjy8Xe7"
      },
      "execution_count": null,
      "outputs": []
    }
  ]
}