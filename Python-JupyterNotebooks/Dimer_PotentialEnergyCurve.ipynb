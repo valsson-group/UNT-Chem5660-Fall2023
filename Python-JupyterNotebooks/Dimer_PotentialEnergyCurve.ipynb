{
  "nbformat": 4,
  "nbformat_minor": 0,
  "metadata": {
    "colab": {
      "provenance": []
    },
    "kernelspec": {
      "name": "python3",
      "display_name": "Python 3"
    },
    "language_info": {
      "name": "python"
    }
  },
  "cells": [
    {
      "cell_type": "markdown",
      "source": [
        "# Potential Energy Curve for a Homonuclear Diatomic Molecule\n",
        "\n"
      ],
      "metadata": {
        "id": "e6uNCpGJZNWi"
      }
    },
    {
      "cell_type": "markdown",
      "source": [
        "## Setup python environment and imports"
      ],
      "metadata": {
        "id": "4joQFSzXZuuW"
      }
    },
    {
      "cell_type": "code",
      "execution_count": null,
      "metadata": {
        "id": "mnJj_M1D4POB"
      },
      "outputs": [],
      "source": [
        "%%capture\n",
        "!pip install pyscf\n"
      ]
    },
    {
      "cell_type": "code",
      "source": [
        "# pyscf imports:\n",
        "from pyscf import gto, dft, scf\n",
        "\n",
        "from pyscf.data.nist import HARTREE2EV\n",
        "\n",
        "# For plotting\n",
        "import matplotlib\n",
        "from matplotlib import pyplot as plt\n",
        "\n",
        "# For numerics:\n",
        "import numpy as np"
      ],
      "metadata": {
        "id": "pboBu2_u4wvv"
      },
      "execution_count": null,
      "outputs": []
    },
    {
      "cell_type": "markdown",
      "source": [
        "## Definition of the Molecule"
      ],
      "metadata": {
        "id": "bRJa_BnUZ_pD"
      }
    },
    {
      "cell_type": "markdown",
      "source": [
        "Here you should define the homonuclear diatomic molecule to be considered.\n",
        "\n"
      ],
      "metadata": {
        "id": "hWFvM4lXI8tw"
      }
    },
    {
      "cell_type": "code",
      "source": [
        "Atom=\"N\""
      ],
      "metadata": {
        "id": "NPIa8E67ZX-0"
      },
      "execution_count": null,
      "outputs": []
    },
    {
      "cell_type": "markdown",
      "source": [
        "## Definition of the Functions to Generate the XYZ Coordiates and Calculations"
      ],
      "metadata": {
        "id": "TyRYjxlSZfgV"
      }
    },
    {
      "cell_type": "code",
      "source": [
        "def get_xyz(bondlength,atom=\"N\"):\n",
        "  xyz=\"{:2s} {:10.6f} {:10.6f} {:10.6f}\\n\".format(atom,bondlength/2,0.0,0.0)\n",
        "  xyz+=\"{:2s} {:10.6f} {:10.6f} {:10.6f}\\n\".format(atom,-bondlength/2,0.0,0.0)\n",
        "  return xyz"
      ],
      "metadata": {
        "id": "YxQmT22s7T3W"
      },
      "execution_count": null,
      "outputs": []
    },
    {
      "cell_type": "code",
      "source": [
        "def run_calculation_hf(xyz, basis=\"sto-3g\"):\n",
        "    \"\"\"Calculate the energy (+ additional things like MO coefficients) with pyscf.\"\"\"\n",
        "    mol = gto.M(\n",
        "        atom=xyz,\n",
        "        basis=basis,\n",
        "        unit=\"ANG\",\n",
        "        symmetry=True,\n",
        "    )\n",
        "    mol.build()\n",
        "    mf = scf.RHF(mol)\n",
        "    mf.kernel()\n",
        "    return mf.e_tot"
      ],
      "metadata": {
        "id": "T6nfWMhP7yvE"
      },
      "execution_count": null,
      "outputs": []
    },
    {
      "cell_type": "code",
      "source": [
        "def run_calculation_dft(xyz, functional=\"b3lyp\", basis=\"sto-3g\"):\n",
        "    \"\"\"Calculate the energy (+ additional things like MO coefficients) with pyscf.\"\"\"\n",
        "    mol = gto.M(\n",
        "        atom=xyz,\n",
        "        basis=basis,\n",
        "        unit=\"ANG\",\n",
        "        symmetry=True,\n",
        "    )\n",
        "    mol.build()\n",
        "    mf = dft.RKS(mol)\n",
        "    mf.xc = functional\n",
        "    mf.kernel()\n",
        "    return mf.e_tot"
      ],
      "metadata": {
        "id": "JyiXVVG3hTLi"
      },
      "execution_count": null,
      "outputs": []
    },
    {
      "cell_type": "markdown",
      "source": [
        "## Comparision of HF versus DFT"
      ],
      "metadata": {
        "id": "yR6G8M80aBp_"
      }
    },
    {
      "cell_type": "code",
      "source": [
        "bondlengths = np.linspace(0.2,3.4,60)\n",
        "energy_hf = np.zeros(bondlengths.size)\n",
        "energy_dft_lda = np.zeros(bondlengths.size)\n",
        "energy_dft_b3lyp = np.zeros(bondlengths.size)\n",
        "\n",
        "for i, bl in enumerate(bondlengths):\n",
        "  xyz=get_xyz(bondlength=bl,atom=Atom)\n",
        "  energy_dft_b3lyp[i] = run_calculation_dft(xyz)\n",
        "  energy_dft_lda[i] = run_calculation_dft(xyz,functional=\"lda\")\n",
        "  energy_hf[i] = run_calculation_hf(xyz)\n",
        "\n",
        "energy_dft_b3lyp_eV = (energy_dft_b3lyp - np.min(energy_dft_b3lyp))*HARTREE2EV\n",
        "energy_dft_lda_eV = (energy_dft_lda - np.min(energy_dft_lda))*HARTREE2EV\n",
        "energy_hf_eV = (energy_hf - np.min(energy_hf))*HARTREE2EV\n"
      ],
      "metadata": {
        "id": "YyzgCnK08Psh"
      },
      "execution_count": null,
      "outputs": []
    },
    {
      "cell_type": "markdown",
      "source": [
        "### Analysis of Results"
      ],
      "metadata": {
        "id": "zWxMqqLIaqut"
      }
    },
    {
      "cell_type": "code",
      "source": [
        "plt.figure(1)\n",
        "plt.plot(bondlengths,energy_hf_eV,label=\"HF\")\n",
        "plt.plot(bondlengths,energy_dft_lda_eV,label=\"DFT/LDA\")\n",
        "plt.plot(bondlengths,energy_dft_b3lyp_eV,label=\"DFT/B3LYP\")\n",
        "plt.legend()\n",
        "plt.ylim([0,30])\n",
        "plt.xlabel(\"Bondlength [Angstrom]\")\n",
        "plt.ylabel(\"Potential Energy [eV]\")\n",
        "plt.title(\"{0}-{0} Potential Energy Curve\".format(Atom))\n",
        "\n",
        "plt.figure(2)\n",
        "plt.plot(bondlengths,energy_hf_eV,label=\"HF\")\n",
        "plt.plot(bondlengths,energy_dft_lda_eV,label=\"DFT/LDA\")\n",
        "plt.plot(bondlengths,energy_dft_b3lyp_eV,label=\"DFT/B3LYP\")\n",
        "plt.legend()\n",
        "plt.xlim([1,1.5])\n",
        "plt.ylim([0,5])\n",
        "plt.xlabel(\"Bondlength [Angstrom]\")\n",
        "plt.ylabel(\"Potential Energy [eV]\")\n",
        "plt.title(\"{0}-{0} Potential Energy Curve\".format(Atom))\n",
        "\n",
        "\n",
        "plt.show()"
      ],
      "metadata": {
        "id": "JkNqRjjy8Xe7"
      },
      "execution_count": null,
      "outputs": []
    },
    {
      "cell_type": "markdown",
      "source": [
        "## Comparision of Different Basis Sets"
      ],
      "metadata": {
        "id": "sgxuvTcSaQk6"
      }
    },
    {
      "cell_type": "code",
      "source": [
        "bondlengths = np.linspace(0.2,3.4,60)\n",
        "energy_dft_b3lyp_ccpvdz = np.zeros(bondlengths.size)\n",
        "energy_dft_b3lyp_ccpvtz = np.zeros(bondlengths.size)\n",
        "\n",
        "for i, bl in enumerate(bondlengths):\n",
        "  xyz=get_xyz(bondlength=bl,atom=Atom)\n",
        "  energy_dft_b3lyp_ccpvdz[i] = run_calculation_dft(xyz,basis=\"ccpvdz\")\n",
        "  energy_dft_b3lyp_ccpvtz[i] = run_calculation_dft(xyz,basis=\"ccpvtz\")\n",
        "\n",
        "energy_dft_b3lyp_ccpvdz_eV = (energy_dft_b3lyp_ccpvdz - np.min(energy_dft_b3lyp_ccpvdz))*HARTREE2EV\n",
        "energy_dft_b3lyp_ccpvtz_eV = (energy_dft_b3lyp_ccpvtz - np.min(energy_dft_b3lyp_ccpvtz))*HARTREE2EV\n"
      ],
      "metadata": {
        "id": "xj_1Jwx70Tnt"
      },
      "execution_count": null,
      "outputs": []
    },
    {
      "cell_type": "markdown",
      "source": [
        "### Analysis of Results"
      ],
      "metadata": {
        "id": "81m0h7oZajD7"
      }
    },
    {
      "cell_type": "code",
      "source": [
        "plt.figure(1)\n",
        "plt.plot(bondlengths,energy_dft_b3lyp_eV,label=\"DFT/B3LYP - sto-3g\")\n",
        "plt.plot(bondlengths,energy_dft_b3lyp_ccpvdz_eV,label=\"DFT/B3LYP - cc-pVDZ\")\n",
        "plt.plot(bondlengths,energy_dft_b3lyp_ccpvtz_eV,label=\"DFT/B3LYP - cc-pVTZ\")\n",
        "plt.legend()\n",
        "plt.ylim([0,30])\n",
        "plt.xlabel(\"Bondlength [Angstrom]\")\n",
        "plt.ylabel(\"Potential Energy [eV]\")\n",
        "plt.title(\"{0}-{0} Potential Energy Curve\".format(Atom))\n",
        "\n",
        "plt.figure(2)\n",
        "plt.plot(bondlengths,energy_dft_b3lyp_eV,label=\"DFT/B3LYP - sto-3g\")\n",
        "plt.plot(bondlengths,energy_dft_b3lyp_ccpvdz_eV,label=\"DFT/B3LYP - cc-pVDZ\")\n",
        "plt.plot(bondlengths,energy_dft_b3lyp_ccpvtz_eV,label=\"DFT/B3LYP - cc-pVTZ\")\n",
        "plt.legend()\n",
        "plt.xlim([1,1.5])\n",
        "plt.ylim([0,5])\n",
        "plt.xlabel(\"Bondlength [Angstrom]\")\n",
        "plt.ylabel(\"Potential Energy [eV]\")\n",
        "plt.title(\"{0}-{0} Potential Energy Curve\".format(Atom))\n",
        "\n",
        "\n",
        "plt.show()"
      ],
      "metadata": {
        "id": "tffG_wnk1a-V"
      },
      "execution_count": null,
      "outputs": []
    }
  ]
}