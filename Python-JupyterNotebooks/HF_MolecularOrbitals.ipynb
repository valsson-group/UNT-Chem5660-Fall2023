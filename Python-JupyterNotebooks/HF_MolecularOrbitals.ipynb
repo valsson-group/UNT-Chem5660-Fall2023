{
  "cells": [
    {
      "cell_type": "markdown",
      "metadata": {
        "id": "e6uNCpGJZNWi"
      },
      "source": [
        "# Molecular Orbitals from Hartree-Fock Calculations\n",
        "\n",
        "Simple Juypter notebook that performs Hartree-Fock calculations using pyscf.\n",
        "\n",
        "Part of the code take from and inspired by https://www.andersle.no/posts/2022/mo/mo.html"
      ]
    },
    {
      "cell_type": "markdown",
      "metadata": {
        "id": "4joQFSzXZuuW"
      },
      "source": [
        "## Setup python environment and imports"
      ]
    },
    {
      "cell_type": "code",
      "execution_count": null,
      "metadata": {
        "id": "mnJj_M1D4POB"
      },
      "outputs": [],
      "source": [
        "%%capture\n",
        "!pip install numpy\n",
        "!pip install scipy\n",
        "!pip install Cython\n",
        "!pip install pandas\n",
        "!pip install sklearn\n",
        "!pip install statsmodels\n",
        "!pip install matplotlib\n",
        "!pip install seaborn\n",
        "!pip install rdkit\n",
        "!pip install py3Dmol\n",
        "!pip install ipywidgets\n",
        "!pip install sphinx\n",
        "!pip install nbsphinx\n",
        "!pip install pydata-sphinx-theme\n",
        "!pip install lxml\n",
        "!pip install fortecubeview\n",
        "!pip install pythreejs\n",
        "!pip install scikit-image\n",
        "!pip install pyscf\n",
        "!pip install shap\n",
        "!pip install catboost\n",
        "!pip install graphviz"
      ]
    },
    {
      "cell_type": "code",
      "execution_count": null,
      "metadata": {
        "id": "pboBu2_u4wvv"
      },
      "outputs": [],
      "source": [
        "import pathlib\n",
        "\n",
        "# RDKit imports:\n",
        "from rdkit import Chem\n",
        "from rdkit.Chem import (\n",
        "    AllChem,\n",
        "    rdCoordGen,\n",
        ")\n",
        "from rdkit.Chem.Draw import IPythonConsole\n",
        "\n",
        "IPythonConsole.ipython_useSVG = True  # Use higher quality images for molecules\n",
        "\n",
        "# For visualization of molecules and orbitals:\n",
        "import py3Dmol\n",
        "import fortecubeview\n",
        "\n",
        "# pyscf imports:\n",
        "import pyscf\n",
        "\n",
        "# For plotting\n",
        "import matplotlib\n",
        "from matplotlib import pyplot as plt\n",
        "import seaborn as sns\n",
        "\n",
        "%matplotlib inline\n",
        "sns.set_theme(style=\"ticks\", context=\"talk\", palette=\"muted\")\n",
        "\n",
        "# For numerics:\n",
        "import numpy as np\n",
        "import pandas as pd\n",
        "\n",
        "from google.colab import output\n",
        "output.enable_custom_widget_manager()\n",
        "\n",
        "pd.options.display.float_format = \"{:,.3f}\".format"
      ]
    },
    {
      "cell_type": "markdown",
      "metadata": {
        "id": "bRJa_BnUZ_pD"
      },
      "source": [
        "## Definition of Molecule from SMILES String"
      ]
    },
    {
      "cell_type": "markdown",
      "metadata": {
        "id": "hWFvM4lXI8tw"
      },
      "source": [
        "**Here you should define the smiles string for the molecule you want to consider**\n",
        "\n",
        "\n"
      ]
    },
    {
      "cell_type": "code",
      "execution_count": null,
      "metadata": {
        "cellView": "form",
        "id": "ibf_Majp6L7r"
      },
      "outputs": [],
      "source": [
        "molecule_smiles = \"c1ccccc1\" #@param {type:\"string\"}\n",
        "\n",
        "molecule_name = \"Mol\"\n",
        "molecule = Chem.MolFromSmiles(molecule_smiles)  # Generate the molecule from smiles\n",
        "molecule"
      ]
    },
    {
      "cell_type": "markdown",
      "metadata": {
        "id": "bs-9sccybMxE"
      },
      "source": [
        "## Setup of Molecule"
      ]
    },
    {
      "cell_type": "code",
      "execution_count": null,
      "metadata": {
        "id": "KCPJQwSJ6cwI"
      },
      "outputs": [],
      "source": [
        "def get_xyz(molecule, optimize=False):\n",
        "    \"\"\"Get xyz-coordinates for the molecule\"\"\"\n",
        "    mol = Chem.Mol(molecule)\n",
        "    mol = AllChem.AddHs(mol, addCoords=True)\n",
        "    AllChem.EmbedMolecule(mol)\n",
        "    if optimize:  # Optimize the molecules with the MM force field:\n",
        "        AllChem.MMFFOptimizeMolecule(mol)\n",
        "    xyz = []\n",
        "    for lines in Chem.MolToXYZBlock(mol).split(\"\\n\")[2:]:\n",
        "        strip = lines.strip()\n",
        "        if strip:\n",
        "            xyz.append(strip)\n",
        "    xyz = \"\\n\".join(xyz)\n",
        "    return mol, xyz"
      ]
    },
    {
      "cell_type": "code",
      "execution_count": null,
      "metadata": {
        "id": "YxQmT22s7T3W"
      },
      "outputs": [],
      "source": [
        "molecule3d, xyz = get_xyz(molecule, optimize=True)\n",
        "print(xyz)"
      ]
    },
    {
      "cell_type": "code",
      "execution_count": null,
      "metadata": {
        "id": "8YhzA2Js7at_"
      },
      "outputs": [],
      "source": [
        "view = py3Dmol.view(\n",
        "    data=Chem.MolToMolBlock(molecule3d),\n",
        "    style={\"stick\": {}, \"sphere\": {\"scale\": 0.3}},\n",
        "    width=300,\n",
        "    height=300,\n",
        ")\n",
        "view.zoomTo()"
      ]
    },
    {
      "cell_type": "markdown",
      "metadata": {
        "id": "MF0mgAgnae_Z"
      },
      "source": [
        "## Hartree-Fock Calculations"
      ]
    },
    {
      "cell_type": "code",
      "execution_count": null,
      "metadata": {
        "id": "T6nfWMhP7yvE"
      },
      "outputs": [],
      "source": [
        "def run_calculation(xyz, basis=\"sto-3g\"):\n",
        "    \"\"\"Calculate the energy (+ additional things like MO coefficients) with pyscf.\"\"\"\n",
        "    mol = pyscf.gto.M(\n",
        "        atom=xyz,\n",
        "        basis=basis,\n",
        "        unit=\"ANG\",\n",
        "        symmetry=False,\n",
        "    )\n",
        "    mol.build()\n",
        "    mf = pyscf.scf.RHF(mol).run()\n",
        "    return mf, mol"
      ]
    },
    {
      "cell_type": "code",
      "execution_count": null,
      "metadata": {
        "id": "YyzgCnK08Psh"
      },
      "outputs": [],
      "source": [
        "mf, mol = run_calculation(xyz, basis=\"sto-3g\")"
      ]
    },
    {
      "cell_type": "markdown",
      "metadata": {
        "id": "zWxMqqLIaqut"
      },
      "source": [
        "## Analysis of Results"
      ]
    },
    {
      "cell_type": "code",
      "execution_count": null,
      "metadata": {
        "id": "JkNqRjjy8Xe7"
      },
      "outputs": [],
      "source": [
        "mf.analyze(verbose=4)"
      ]
    },
    {
      "cell_type": "code",
      "execution_count": null,
      "metadata": {
        "id": "sivhOjwE8l23"
      },
      "outputs": [],
      "source": [
        "table = pd.DataFrame({\"Energy\": mf.mo_energy, \"Occupancy\": mf.mo_occ})\n",
        "table"
      ]
    },
    {
      "cell_type": "code",
      "execution_count": null,
      "metadata": {
        "id": "FnC09l928tDa"
      },
      "outputs": [],
      "source": [
        "fig, ax = plt.subplots(constrained_layout=True, figsize=(9, 6))\n",
        "colors = matplotlib.colormaps.get_cmap(\"tab20\")(np.linspace(0, 1, len(mf.mo_energy)))\n",
        "\n",
        "pos = []\n",
        "for i, (energy, occ) in enumerate(zip(mf.mo_energy, mf.mo_occ)):\n",
        "    left = 3 * i\n",
        "    right = 3 * i + 2.5\n",
        "    length = right - left\n",
        "\n",
        "    (line,) = ax.plot([left, right], [energy, energy], color=colors[i], lw=3)\n",
        "\n",
        "    electron_x, electron_y = None, None\n",
        "    if occ == 2:\n",
        "        electron_x = [left + 0.25 * length, left + 0.75 * length]\n",
        "        electron_y = [energy, energy]\n",
        "    elif occ == 1:\n",
        "        electron_x, electron_y = [left + 0.5], [energy]\n",
        "    if electron_x and electron_y:\n",
        "        ax.scatter(electron_x, electron_y, color=line.get_color())\n",
        "\n",
        "    pos.append(left + 0.5 * length)\n",
        "\n",
        "ax.axhline(y=0, ls=\":\", color=\"k\")\n",
        "ax.set_xticks(pos)\n",
        "ax.set_xticklabels([f\"#{i}\" for i, _ in enumerate(pos)])\n",
        "ax.set(xlabel=\"MO number\", ylabel=\"Energy / a.u.\")\n",
        "sns.despine(fig=fig)"
      ]
    },
    {
      "cell_type": "markdown",
      "metadata": {
        "id": "szMc2aDna0jx"
      },
      "source": [
        "## Setup Orbitals"
      ]
    },
    {
      "cell_type": "code",
      "execution_count": null,
      "metadata": {
        "id": "AAhFwgVwO1dy"
      },
      "outputs": [],
      "source": [
        "def write_cube_files(\n",
        "    max_homo_lumo=5, prefix=\"\", dirname=\".\", margin=5, write_all_orbitals=False\n",
        "):\n",
        "    \"\"\"Write cube files for the given coefficients.\"\"\"\n",
        "    path = pathlib.Path(dirname)\n",
        "    path.mkdir(parents=True, exist_ok=True)\n",
        "\n",
        "    # find index of HOMO and LUMO\n",
        "    lumo = float(\"inf\")\n",
        "    lumo_idx = None\n",
        "    homo = -float(\"inf\")\n",
        "    homo_idx = None\n",
        "    for i, (energy, occ) in enumerate(zip(mf.mo_energy, mf.mo_occ)):\n",
        "        if occ > 0 and energy > homo:\n",
        "            homo = energy\n",
        "            homo_idx = i\n",
        "        if occ == 0 and energy < lumo:\n",
        "            lumo = energy\n",
        "            lumo_idx = i\n",
        "\n",
        "    if(write_all_orbitals):\n",
        "      for i in range(mf.mo_coeff.shape[1]):\n",
        "        outfile = f\"{prefix}Orbital-{i:02d}.cube\"\n",
        "        outfile = path / outfile\n",
        "        print(f\"Writing {outfile}\")\n",
        "        pyscf.tools.cubegen.orbital(mol, outfile, mf.mo_coeff[:, i], margin=margin)\n",
        "    else:\n",
        "      print(f\"HOMO (index): {homo_idx}\")\n",
        "      print(f\"LUMO (index): {lumo_idx}\")\n",
        "      print(\"\")\n",
        "      outfile = f\"{prefix}HOMO.cube\"\n",
        "      outfile = path / outfile\n",
        "      print(f\"Writing {outfile}\")\n",
        "      pyscf.tools.cubegen.orbital(mol, outfile, mf.mo_coeff[:, homo_idx], margin=margin)\n",
        "\n",
        "      outfile = f\"{prefix}LUMO.cube\"\n",
        "      outfile = path / outfile\n",
        "      print(f\"Writing {outfile}\")\n",
        "      pyscf.tools.cubegen.orbital(mol, outfile, mf.mo_coeff[:, lumo_idx], margin=margin)\n",
        "\n",
        "      for i in range(1,max_homo_lumo+1):\n",
        "        outfile = f\"{prefix}HOMO_minus-{i:02d}.cube\"\n",
        "        outfile = path / outfile\n",
        "        print(f\"Writing {outfile}\")\n",
        "        pyscf.tools.cubegen.orbital(mol, outfile, mf.mo_coeff[:, homo_idx-i], margin=margin)\n",
        "\n",
        "        outfile = f\"{prefix}LUMO_plus-{i:02d}.cube\"\n",
        "        outfile = path / outfile\n",
        "        print(f\"Writing {outfile}\")\n",
        "        pyscf.tools.cubegen.orbital(mol, outfile, mf.mo_coeff[:, lumo_idx+i], margin=margin)"
      ]
    },
    {
      "cell_type": "code",
      "execution_count": null,
      "metadata": {
        "id": "jdF3wHkX96Dj"
      },
      "outputs": [],
      "source": [
        "!rm -rf cube_files\n",
        "write_cube_files(\n",
        "   dirname=\"cube_files\",\n",
        "   write_all_orbitals=False\n",
        ")"
      ]
    },
    {
      "cell_type": "markdown",
      "metadata": {
        "id": "7tP9Ws1UbClS"
      },
      "source": [
        "## Visualize Orbitals"
      ]
    },
    {
      "cell_type": "code",
      "execution_count": null,
      "metadata": {
        "id": "bBRCQw1Q_d9p"
      },
      "outputs": [],
      "source": [
        "fortecubeview.plot(path=\"./cube_files/\", width=600, height=300, colorscheme='national')"
      ]
    }
  ],
  "metadata": {
    "colab": {
      "provenance": []
    },
    "kernelspec": {
      "display_name": "Python 3 (ipykernel)",
      "language": "python",
      "name": "python3"
    },
    "language_info": {
      "codemirror_mode": {
        "name": "ipython",
        "version": 3
      },
      "file_extension": ".py",
      "mimetype": "text/x-python",
      "name": "python",
      "nbconvert_exporter": "python",
      "pygments_lexer": "ipython3",
      "version": "3.11.0"
    }
  },
  "nbformat": 4,
  "nbformat_minor": 0
}