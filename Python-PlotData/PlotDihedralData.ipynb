{
  "nbformat": 4,
  "nbformat_minor": 0,
  "metadata": {
    "colab": {
      "provenance": [],
      "authorship_tag": "ABX9TyMLJYIN+xt5gm5fHCtuxWWu",
      "include_colab_link": true
    },
    "kernelspec": {
      "name": "python3",
      "display_name": "Python 3"
    },
    "language_info": {
      "name": "python"
    }
  },
  "cells": [
    {
      "cell_type": "markdown",
      "metadata": {
        "id": "view-in-github",
        "colab_type": "text"
      },
      "source": [
        "<a href=\"https://colab.research.google.com/github/valsson-group/UNT-Chem5660-Fall2023/blob/main/Python-PlotData/PlotDihedralData.ipynb\" target=\"_parent\"><img src=\"https://colab.research.google.com/assets/colab-badge.svg\" alt=\"Open In Colab\"/></a>"
      ]
    },
    {
      "cell_type": "markdown",
      "source": [
        "## Making Data Plots Using Python\n",
        "\n",
        "In this notebook we show how we can use Numpy and Matplotlib to make plot of data series.\n",
        "\n",
        "The following resources can be useful:\n",
        "  - [Matplotlib Documentation](https://matplotlib.org/stable/index.html)\n",
        "  - [Matplotlib Cheat Sheets](https://matplotlib.org/cheatsheets/)\n",
        "  - [Matplotlib Tutorials](https://matplotlib.org/stable/tutorials/index.html)\n",
        "  - [NumPy User Guide](https://numpy.org/doc/stable/user/index.html)"
      ],
      "metadata": {
        "id": "SRXF8e0UIPuD"
      }
    },
    {
      "cell_type": "markdown",
      "source": [
        "We first import the numpy and matplotlib packages"
      ],
      "metadata": {
        "id": "9D7JF7vZJOcC"
      }
    },
    {
      "cell_type": "code",
      "execution_count": null,
      "metadata": {
        "id": "-gxPd7CH5dH0"
      },
      "outputs": [],
      "source": [
        "import numpy as np\n",
        "import matplotlib.pyplot as plt\n",
        "plt.rcParams['figure.dpi'] = 150"
      ]
    },
    {
      "cell_type": "markdown",
      "source": [
        "## Loading the Datasets\n",
        "\n",
        "The first step is to load the datasets we want to plot.\n",
        "\n",
        "Since we are here runnig this notebook on Google Colab, we need to upload the datafiles onto the runtime instance we are using. You can do this by selecting the folder icon here on the left and dragging the files there.\n",
        "\n",
        "**Note these files are only temporarily saved there and will be deleted once this runtime is terminated. Thus, do not use this save or keep files**.\n",
        "\n",
        "Once we have uploaded the data files, we will load the data into a numpy array using the `np.loadtxt(\"<name-of-datafile>\")` function, where `<name-of-datafile>` is the name of a given data file that we want to load. The filename should be  enclosed in parenthesis.\n",
        "\n",
        "### Example\n",
        "Here we will use the `Benzamidine_Scan_B3LYP_cc-pVDZ_tot_ener.txt` data file that we downlaod from the course Github repo as an example. We will load this data file as\n",
        "```\n",
        "data_hf_ccpvdz = np.loadtxt(\"Benzamidine_Scan_B3LYP_cc-pVDZ_tot_ener.txt\")\n",
        "```\n",
        "will load the data from the file `Benzamidine_Scan_B3LYP_cc-pVDZ_tot_ener.txt` into a numpy array with the variable name `data_b3lyp_ccpvdz`.\n",
        "\n",
        "We can access the first column of the data by using `data_b3lyp_ccpvdz[:,0]` and the second column by using `data_b3lyp_ccpvdz[:,1]` (note that python indexing starts from 0).\n",
        "\n",
        "### Your Own Data\n",
        "\n",
        "For your own data sets, you need to do a seperate `np.loadtxt` call for each data file, and use a seperate variable name for each data set."
      ],
      "metadata": {
        "id": "tYh74vMPJXPV"
      }
    },
    {
      "cell_type": "code",
      "source": [
        "# This is only needed to download example data\n",
        "%%capture\n",
        "!wget https://raw.githubusercontent.com/valsson-group/UNT-Chem5660-Fall2023/main/Python-PlotData/Benzamidine_Scan_B3LYP_cc-pVDZ_tot_ener.txt\n",
        "!wget https://raw.githubusercontent.com/valsson-group/UNT-Chem5660-Fall2023/main/Python-PlotData/Benzamidine_Scan_B3LYP_aug-cc-pVDZ_tot_ener.txt\n"
      ],
      "metadata": {
        "id": "1_xhmDWvWz14"
      },
      "execution_count": null,
      "outputs": []
    },
    {
      "cell_type": "code",
      "source": [
        "# This is just an example\n",
        "data_b3lyp_ccpvdz = np.loadtxt(\"Benzamidine_Scan_B3LYP_cc-pVDZ_tot_ener.txt\")\n",
        "data_b3lyp_augccpvdz = np.loadtxt(\"Benzamidine_Scan_B3LYP_aug-cc-pVDZ_tot_ener.txt\")\n",
        "\n",
        "# For your own data, you need to write a seperate np.loadtxt call for each data file,\n",
        "# something like\n",
        "# data_blyp = np.loadtxt(\"<name-of-datafile>\")\n",
        "# where you replace <name-of-datafile> with the filename.\n",
        "\n",
        "\n",
        "# This is just to show how you can print the datasets.\n",
        "# This is not really needed, so you just comment it out\n",
        "# by adding # in front of the line.\n",
        "print(\"Column 1:\")\n",
        "print(data_b3lyp_ccpvdz[:,0])\n",
        "print(\"\")\n",
        "print(\"Column 2:\")\n",
        "print(data_b3lyp_ccpvdz[:,1])\n",
        "\n",
        "\n"
      ],
      "metadata": {
        "id": "e-mb8UMI5ygp"
      },
      "execution_count": null,
      "outputs": []
    },
    {
      "cell_type": "markdown",
      "source": [
        "## Plotting Data\n",
        "\n",
        "We then plot the data by using the `plt.plot(...)` function in matplotlib.\n",
        "\n",
        "### The plt.plot function\n",
        "You need to have a seperate `plt.plot(...)` call for each data set. For example,\n",
        "```\n",
        "plt.plot(data_b3lyp_ccpvdz[:,0],\n",
        "         data_b3lyp_ccpvdz[:,1]-np.min(data_b3lyp_ccpvdz[:,1]),\n",
        "         \"--x\",\n",
        "         markersize=5,\n",
        "         label=\"B3LYP/cc-pVDZ\")\n",
        "```\n",
        "where we plot the first column of the data set on the x-axis (`x=data_b3lyp_ccpvdz[:,0]`) and the second column of the data on the y-axis (` y=data_b3lpy_ccpvdz[:,1]`.\n",
        "\n",
        "### Aligning the minimum of the y-axis to zero\n",
        "Note that here we are comparing energies obtained with different levels of theory so to make sure that the minimum of each curve is aligned with zero use the `np.min` function to find the minimum of the data set and substract that from that data vector for the y-axis. It will depend on the data if you want to do this or not.\n",
        "\n",
        "### Labelling curves\n",
        "You can label each curve with a seperate label by using the `label=\"<label-text>\"` keyword. The legend that shows this labels is activated by the `plt.legend()` call.\n",
        "\n",
        "### Axis labels\n",
        "You can add a label to the x- and y-axis by using the `plt.xlabel(\"...\")` and `plt.ylabel(\"...\") functions.\n",
        "\n",
        "### Range of y-axis\n",
        "You change the range of the y-axis by using the `plt.ylim` function. For example, we set it to the range from 0 to 6 by using `plt.ylim([0,6])`. You will need to adjust this to your data.\n",
        "\n",
        "### Location of x-axis tics\n",
        "We can set the location of the tics on the x-axis by using the `plt.xticks(np.arange(0,390,30))` command. You might need to adjust to your data if you have a differnt range of the x-axis, for exmaple by using `plt.xticks(np.arange(-180,190,30))`.\n",
        "\n",
        "### Saving figure\n",
        "The figure will be shown in the notebook. We can also save the figure to a file by using the `plt.savefig(\"plot.png\")` function. The extension used in filename determines the format (e.g., `.jpg` or `.png`). You can then download the file from the file manager here on the left side.\n",
        "\n",
        "Note that this file is only temporarily saved there and will be deleted once this runtime is terminated. Thus, you should always download the figure to your computer right away.\n",
        "\n"
      ],
      "metadata": {
        "id": "0UrwxNLgPb2z"
      }
    },
    {
      "cell_type": "code",
      "source": [
        "# Plot different data sets.\n",
        "# You need to add a seperate plt.plot call for each data set\n",
        "\n",
        "plt.plot(data_b3lyp_ccpvdz[:,0],\n",
        "         data_b3lyp_ccpvdz[:,1]-np.min(data_b3lyp_ccpvdz[:,1]),\n",
        "         \"--x\",\n",
        "         markersize=5,\n",
        "         label=\"B3LYP/cc-pVDZ\")\n",
        "\n",
        "plt.plot(data_b3lyp_augccpvdz[:,0],\n",
        "         data_b3lyp_augccpvdz[:,1]-np.min(data_b3lyp_augccpvdz[:,1]),\n",
        "         \"--o\",\n",
        "         markersize=5,\n",
        "         label=\"B3LYP/aug-cc-pVDZ\")\n",
        "\n",
        "\n",
        "# Show legend with labels\n",
        "plt.legend()\n",
        "\n",
        "# Set x- and y-axis labels\n",
        "plt.xlabel(\"< x-axis label -- remember units! >\")\n",
        "plt.ylabel(\"< y-axis label -- remember units! >\")\n",
        "\n",
        "# Set range of the y-axis, in this case from 0 to 6\n",
        "plt.ylim([0,6])\n",
        "\n",
        "# Set x-tics to be at 0, 30, 60, ..., 360\n",
        "plt.xticks(np.arange(0,390,30))\n",
        "\n",
        "# Save the figure to a file\n",
        "plt.savefig(\"plot.png\")\n",
        "\n"
      ],
      "metadata": {
        "id": "IcUxdMEW590Z"
      },
      "execution_count": null,
      "outputs": []
    }
  ]
}