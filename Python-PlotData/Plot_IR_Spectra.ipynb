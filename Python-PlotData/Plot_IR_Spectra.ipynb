{
  "nbformat": 4,
  "nbformat_minor": 0,
  "metadata": {
    "colab": {
      "provenance": [],
      "authorship_tag": "ABX9TyNQIRXBFf5qWLhk0nl/V3+r",
      "include_colab_link": true
    },
    "kernelspec": {
      "name": "python3",
      "display_name": "Python 3"
    },
    "language_info": {
      "name": "python"
    }
  },
  "cells": [
    {
      "cell_type": "markdown",
      "metadata": {
        "id": "view-in-github",
        "colab_type": "text"
      },
      "source": [
        "<a href=\"https://colab.research.google.com/github/valsson-group/UNT-Chem5660-Fall2023/blob/main/Python-PlotData/Plot_IR_Spectra.ipynb\" target=\"_parent\"><img src=\"https://colab.research.google.com/assets/colab-badge.svg\" alt=\"Open In Colab\"/></a>"
      ]
    },
    {
      "cell_type": "markdown",
      "source": [
        "## Manipulation of Data and Plotting It Using Using Python\n",
        "\n",
        "In this notebook we show how we can use either Numpy or awk to manipulate data and then use Matplotlib to plot the data.\n",
        "\n",
        "This is an extension of previous [Jupyter notebook](https://colab.research.google.com/github/valsson-group/UNT-Chem5660-Fall2023/blob/main/Python-PlotData/PlotDihedralData.ipynb) where we showed how we can use matplotlib to plot the dihedral scan data. Thus, you should be familar all the aspects from that notebook, for example, how you can upload data files to the Colab runtime, and how to load data with `np.loadtxt(..)` command.\n",
        "\n"
      ],
      "metadata": {
        "id": "SRXF8e0UIPuD"
      }
    },
    {
      "cell_type": "markdown",
      "source": [
        "We first import the numpy and matplotlib packages"
      ],
      "metadata": {
        "id": "9D7JF7vZJOcC"
      }
    },
    {
      "cell_type": "code",
      "execution_count": null,
      "metadata": {
        "id": "-gxPd7CH5dH0"
      },
      "outputs": [],
      "source": [
        "import numpy as np\n",
        "import matplotlib.pyplot as plt\n",
        "plt.rcParams['figure.dpi'] = 200"
      ]
    },
    {
      "cell_type": "markdown",
      "source": [
        "## Loading the Datasets\n",
        "\n",
        "The first step is to load the datasets we want.\n",
        "\n",
        "Here we will work with example data of the IR spectrum, either experimental results or predicted from the calculations.\n",
        "\n",
        "Youw will need to change this part, and also add other `np.loadtxt(..)` commands if you want to load multiple files.\n",
        "\n"
      ],
      "metadata": {
        "id": "tYh74vMPJXPV"
      }
    },
    {
      "cell_type": "code",
      "source": [
        "# This is only needed to download example data\n",
        "%%capture\n",
        "!wget https://raw.githubusercontent.com/valsson-group/UNT-Chem5660-Fall2023/main/Python-PlotData/azobenzene_ir-spectra_gas-phase.dat\n",
        "!wget https://raw.githubusercontent.com/valsson-group/UNT-Chem5660-Fall2023/main/Python-PlotData/azobenzene_trans_BLYP_def2-TZVPP_ORCA.out.ir.dat\n"
      ],
      "metadata": {
        "id": "1_xhmDWvWz14"
      },
      "execution_count": null,
      "outputs": []
    },
    {
      "cell_type": "code",
      "source": [
        "# This is just an example\n",
        "ir_exp = np.loadtxt(\"azobenzene_ir-spectra_gas-phase.dat\")\n",
        "ir_orca = np.loadtxt(\"azobenzene_trans_BLYP_def2-TZVPP_ORCA.out.ir.dat\")\n",
        "\n",
        "print(\"Shape of ir_exp: {:}\".format(ir_exp.shape))\n",
        "print(\"Shape of ir_orca: {:}\".format(ir_orca.shape))\n",
        "\n",
        "\n",
        "# For your own data, you need to write a seperate np.loadtxt call for each data file,\n",
        "# something like\n",
        "# data_blyp = np.loadtxt(\"<name-of-datafile>\")\n",
        "# where you replace <name-of-datafile> with the filename.\n",
        "\n",
        "\n",
        "\n"
      ],
      "metadata": {
        "id": "e-mb8UMI5ygp"
      },
      "execution_count": null,
      "outputs": []
    },
    {
      "cell_type": "markdown",
      "source": [
        "## Initial Plotting of Data\n",
        "\n",
        "We will first plot the two data files separately to show that they are printed in two very different formats and that we need to manipulate the data to be able to plot them on the same plot."
      ],
      "metadata": {
        "id": "0UrwxNLgPb2z"
      }
    },
    {
      "cell_type": "code",
      "source": [
        "# Plot 1\n",
        "plt.plot(ir_exp[:,0],\n",
        "         ir_exp[:,1],\n",
        "         \"-\",\n",
        "         linewidth=2,\n",
        "         label=\"IR Experimental Spectrum in Gas-Phase\")\n",
        "plt.legend()\n",
        "# This the range of y-axis, might need to be adjusted\n",
        "plt.ylim([0.0,0.020])\n",
        "# You can use LaTeX math syntax in label text by enclosing it in $$\n",
        "plt.xlabel(\"Wavelength cm$^{-1}$\")\n",
        "plt.ylabel(\"Absorbance\")\n",
        "plt.title(\"Plot 1\")\n",
        "# adding this command will show the current plot\n",
        "plt.show()\n",
        "\n",
        "# Plot 2\n",
        "plt.plot(ir_orca[:,0],\n",
        "         ir_orca[:,1],\n",
        "         \"-\",\n",
        "         linewidth=2,\n",
        "         label=\"IR from ORCA - Unscaled\")\n",
        "plt.legend()\n",
        "# plt.ylim([0.0,0.020])\n",
        "# You can use LaTeX math syntax in label text by enclosing it in $$\n",
        "plt.xlabel(\"Wavelength cm$^{-1}$\")\n",
        "plt.ylabel(\"Transmittance\")\n",
        "plt.title(\"Plot 2\")\n",
        "# This is trick to fix the formatting of y-ticks, only needed for the Transmittance plots\n",
        "ax = plt.gca()\n",
        "ax.ticklabel_format(useOffset=False)\n",
        "# adding this command will show the current plot\n",
        "plt.show()\n",
        "\n",
        "\n",
        "\n"
      ],
      "metadata": {
        "id": "IcUxdMEW590Z"
      },
      "execution_count": null,
      "outputs": []
    },
    {
      "cell_type": "markdown",
      "source": [
        "As we can see, the experimental data is given in terms of absorbance $A$, while the IR spectrum from ORCA is given in terms of the transmittance $T$. Thus, we need to manipulate the data.\n",
        "\n",
        "Looking at the two plot, we can observe that here the relation between the two in this case appears to be\n",
        "\n",
        "\\begin{align}\n",
        "T = 1000-A\n",
        "\\end{align}\n",
        "or\n",
        "\\begin{align}\n",
        "A = 1000-T\n",
        "\\end{align}\n",
        "\n",
        "\n"
      ],
      "metadata": {
        "id": "JWuTlMmJQVA0"
      }
    },
    {
      "cell_type": "markdown",
      "source": [
        "## Way 1: Changing from Transmittance to Absorbance\n",
        "\n",
        "We first show how we can change the IR spectrum from ORCA from transmittance format to absorbance format. For this we can just do a simple mathematical operation on the vector according to the equation above for the y-axis and save that in a new vector. The mathemetical operation is done elementwise on the all the elements in the vector.\n",
        "\n",
        "\n"
      ],
      "metadata": {
        "id": "L_VmciyDRTBm"
      }
    },
    {
      "cell_type": "code",
      "source": [
        "# ir_orca[:,1] is the y-axis from IR spectrum from ORCA\n",
        "# [:,1] means that we take all the rows in the 2nd column in the ir_orca matrix obtained from\n",
        "# the data file. Note: Python indexing starts from 0.\n",
        "\n",
        "# ir_orca_abs is a new vector\n",
        "ir_orca_abs = 1000.0 - ir_orca[:,1]\n",
        "\n",
        "# We can see that both vectors have the same size\n",
        "print(\"Size of ir_orca[:,1]: {:d}\".format(len(ir_orca[:,1])))\n",
        "print(\"Size of ir_orca_abs: {:d}\".format(len(ir_orca_abs)))\n",
        "print(\"\")\n",
        "print(\"ir_orca[:,1]:\")\n",
        "print(\"- Minimum {:f}\".format(np.min(ir_orca[:,1])))\n",
        "print(\"- Maximum {:f}\".format(np.max(ir_orca[:,1])))\n",
        "print(\"ir_orca_abs\")\n",
        "print(\"- Minimum {:f}\".format(np.min(ir_orca_abs)))\n",
        "print(\"- Maximum {:f}\".format(np.max(ir_orca_abs)))\n",
        "\n"
      ],
      "metadata": {
        "id": "6zTAiKrDQUXW"
      },
      "execution_count": null,
      "outputs": []
    },
    {
      "cell_type": "markdown",
      "source": [
        "Now we can plot the absorbance of both on the same plot"
      ],
      "metadata": {
        "id": "oFKCJQKEWDq8"
      }
    },
    {
      "cell_type": "code",
      "source": [
        "plt.plot(ir_exp[:,0],\n",
        "         ir_exp[:,1],\n",
        "         \"-\",\n",
        "         linewidth=2,\n",
        "         label=\"IR Experimental Spectrum in Gas-Phase\")\n",
        "plt.plot(ir_orca[:,0],\n",
        "         ir_orca_abs,\n",
        "         \"-\",\n",
        "         linewidth=2,\n",
        "         label=\"IR from ORCA - Unscaled\")\n",
        "# This the range of y-axis, might need to be adjusted\n",
        "plt.ylim([0.0,0.020])\n",
        "# You can use LaTeX math syntax in label text by enclosing it in $$\n",
        "plt.xlabel(\"Wavelength cm$^{-1}$\")\n",
        "plt.ylabel(\"Absorbance\")\n",
        "plt.title(\"Some title of your choice\")\n",
        "plt.legend()\n",
        "# You can add a plt.savefig(..) call to save the plot to a PNG file.\n",
        "plt.savefig(\"Plot_Absorbance.png\")\n",
        "# adding this command will show the current plot\n",
        "plt.show()\n",
        "\n"
      ],
      "metadata": {
        "id": "BN0eUpq6WJQT"
      },
      "execution_count": null,
      "outputs": []
    },
    {
      "cell_type": "markdown",
      "source": [
        "## Way 2: Changing from Absorbance to Transmittance\n",
        "\n",
        "We now show how we can change the experimental IR spectrum from absorbance format to transmittance format."
      ],
      "metadata": {
        "id": "PS-T5y45W_O1"
      }
    },
    {
      "cell_type": "code",
      "source": [
        "# ir_exp[:,1] is the y-axis from the experimental IR spectrum\n",
        "\n",
        "# ir_orca_abs is a new vector\n",
        "ir_exp_trans = 1000.0 - ir_exp[:,1]\n",
        "\n",
        "# We can see that both vectors have the same size\n",
        "print(\"Size of ir_exp[:,1]: {:d}\".format(len(ir_exp[:,1])))\n",
        "print(\"Size of ir_exp_trans: {:d}\".format(len(ir_exp_trans)))\n",
        "print(\"\")\n",
        "print(\"ir_exp[:,1]:\")\n",
        "print(\"- Minimum {:f}\".format(np.min(ir_exp[:,1])))\n",
        "print(\"- Maximum {:f}\".format(np.max(ir_exp[:,1])))\n",
        "print(\"ir_exp_trans\")\n",
        "print(\"- Minimum {:f}\".format(np.min(ir_exp_trans)))\n",
        "print(\"- Maximum {:f}\".format(np.max(ir_exp_trans)))"
      ],
      "metadata": {
        "id": "38Hv1zFKW-xy"
      },
      "execution_count": null,
      "outputs": []
    },
    {
      "cell_type": "markdown",
      "source": [
        "Now we can plot the transmittance of both on the same plot"
      ],
      "metadata": {
        "id": "aQAGWYUrXple"
      }
    },
    {
      "cell_type": "code",
      "source": [
        "plt.plot(ir_exp[:,0],\n",
        "         ir_exp_trans,\n",
        "         \"-\",\n",
        "         linewidth=2,\n",
        "         label=\"IR Experimental Spectrum in Gas-Phase\")\n",
        "plt.plot(ir_orca[:,0],\n",
        "         ir_orca[:,1],\n",
        "         \"-\",\n",
        "         linewidth=2,\n",
        "         label=\"IR from ORCA - Unscaled\")\n",
        "# This the range of y-axis, might need to be adjusted\n",
        "plt.ylim([999.98,1000.001])\n",
        "# You can use LaTeX math syntax in label text by enclosing it in $$\n",
        "plt.xlabel(\"Wavelength cm$^{-1}$\")\n",
        "plt.ylabel(\"Transmittance\")\n",
        "plt.title(\"Some title of your choice\")\n",
        "plt.legend()\n",
        "# This is trick to fix the formatting of y-ticks, only needed for the Transmittance plots\n",
        "ax = plt.gca()\n",
        "ax.ticklabel_format(useOffset=False)\n",
        "# adding this command will show the current plot\n",
        "\n",
        "# You can add a plt.savefig(..) call to save the plot to a PNG file.\n",
        "plt.savefig(\"Plot_Transmittance.png\")\n",
        "\n",
        "plt.show()"
      ],
      "metadata": {
        "id": "MBCjyZ5eX2qI"
      },
      "execution_count": null,
      "outputs": []
    },
    {
      "cell_type": "markdown",
      "source": [
        "## Saving the Data to File\n",
        "\n",
        "We can save the manipulated data to text files by using the `np.savetxt(..)` command from numpy (see https://numpy.org/doc/stable/reference/generated/numpy.savetxt.html)\n",
        "\n",
        "**Note: you will need to download the sa**"
      ],
      "metadata": {
        "id": "ZMwow57UYl6B"
      }
    },
    {
      "cell_type": "code",
      "source": [
        "# Experimental IR spectrum in transmittance format\n",
        "# Some hacks to get the data into the right way to combine it\n",
        "ir_exp_cm1 = ir_exp[:,0]\n",
        "ir_exp_cm1.shape=(-1,1)\n",
        "# saving to a file with the given filename\n",
        "Filename=\"azobenzene_ir-spectra_gas-phase.transmittance.dat\"\n",
        "np.savetxt(Filename,\n",
        "           X=np.concatenate((ir_exp_cm1,ir_exp_trans),axis=1)\n",
        "          )\n",
        "\n",
        "# ORCA IR spectrum in absorbance format\n",
        "# Some hacks to get the data into the right way to combine it\n",
        "ir_orca_cm1 = ir_orca[:,0]\n",
        "ir_orca_cm1.shape=(-1,1)\n",
        "# saving to a file with the given filename\n",
        "Filename=\"azobenzene_trans_BLYP_def2-TZVPP_ORCA.out.ir.absorbance.dat\"\n",
        "np.savetxt(Filename,\n",
        "           X=np.concatenate((ir_orca_cm1,ir_orca_abs),axis=1)\n",
        "          )\n",
        "\n",
        "\n"
      ],
      "metadata": {
        "id": "tFeJWRukYf_7"
      },
      "execution_count": null,
      "outputs": []
    }
  ]
}